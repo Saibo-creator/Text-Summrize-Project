{
 "cells": [
  {
   "cell_type": "code",
   "execution_count": 5,
   "metadata": {
    "ExecuteTime": {
     "end_time": "2020-03-11T22:57:36.490728Z",
     "start_time": "2020-03-11T22:57:36.483049Z"
    }
   },
   "outputs": [],
   "source": [
    "import copy\n",
    "import os\n",
    "import pdb\n",
    "import shutil\n",
    "import time\n",
    "from collections import OrderedDict, defaultdict\n",
    "\n",
    "import numpy as np\n",
    "from tensorboardX import SummaryWriter\n",
    "import torch\n",
    "import torch.nn as nn\n",
    "import torch.optim as optim\n",
    "\n",
    "from data_loaders.summ_dataset import SummDataset\n",
    "from data_loaders.summ_dataset_factory import SummDatasetFactory\n",
    "#from data_loaders.yelp_dataset import YelpDataset\n",
    "from data_loaders.hotel_dataset import HotelDataset\n",
    "from evaluation.eval_utils import EvalMetrics\n",
    "import sys\n",
    "\n",
    "from models.nn_utils import classify_summ_batch, calc_lm_nll\n",
    "\n",
    "# sys.path.append('external/text_summarizer')\n",
    "# from external.text_summarizer.centroid_w2v import CentroidW2VSummarizer\n",
    "from models.custom_parallel import DataParallelModel\n",
    "from models.mlstm import StackedLSTMDecoder, StackedLSTMEncoder, StackedLSTM, mLSTM\n",
    "from models.nn_utils import setup_gpus, OptWrapper, calc_grad_norm, \\\n",
    "    save_models, freeze, move_to_cuda, StepAnnealer\n",
    "from models.summarization import SummarizationModel\n",
    "from models.text_cnn import BasicTextCNN\n",
    "from pretrain_classifier import TextClassifier\n",
    "from project_settings import HParams, SAVED_MODELS_DIR, \\\n",
    "    EDOC_ID, RESERVED_TOKENS, WORD2VEC_PATH, EDOC_TOK, DatasetConfig, OUTPUTS_EVAL_DIR\n",
    "from utils import create_argparse_and_update_hp, save_run_data, update_moving_avg, sync_run_data_to_bigstore, save_file\n",
    "\n",
    "\n",
    "text=\"Easy access. Large clean room. Quiet and the beds were comfortable. Have stayed here twice and will again. </DOC> Was not impressed by this property, it's across from the Tacoma Dome. Seems to be located in an uninhabited area. Our room over looked the railroad tracks and a large parking structure. I heard a train whistle a couple of times. The room needed some maintenance, hair dryer was burned out, toilet seat was falling off, and they put a floor mounted door stop right where you step out of the shower. The exhaust fan in the bathroom was very noisy, if I wasn't so tired it probably would have kept me awake. The bed was okay, but the small pillows have seen a lot of use and only one thin blanket. The breakfast was the best part of the experience. We've stayed at better Best Westerns for a lower cost than this one. </DOC> This Best Western Plus hotel is very nice. It has a great view of the Tacoma Dome and LeMay, America's Car Museum and is within walking distance of both venues. The room was comfortable and quiet. The glass elevator was fun to use. The breakfast was very good. The location makes it easy to get to restaurants and other things in the area. The parking is in a secure parking structure which is locked at night. </DOC> This hotel is located off the main freeway...so location for us was good. The hotel was ok and clean and had friendly staff too when checking in. But the room was so small even though we booked for 4 (2 adults and 2 children). It had a queen bed and a pull out sofa. The 2 kids and I slept in the main bed and my husband slept in the pullout sofa bed as it would definitely not sleep 2. The mattress on the sofa bed needs to be replaced. Room was clean but not the appropriate size for a family. Breakfast was great and even have a staff member to make fresh omelettes! That ended our experience on a high note! </DOC> We stayed here while attending a show at the Tacoma Dome and enjoyed our stay. There are not a lot of amenities here but it was clean and comfortable. The continental breakfast had a wide selection of good food. </DOC> We highly recommend the Best Western Plus-Tacoma Dome. We were afraid that there would be traffic noise because of the proximity to I-5, but the hotel was quiet and we couldn't hear the road noise at all. Our room was ample and very clean with the usual amenities and a comfortable bed. The breakfast had a variety of choices and was very good. We would definitely stay again. </DOC> This is a very easy to reach Best Western. Being right next to the Tacoma Dome, you never will get lost finding it. Also with LaMay's Automotive Museum also within walking distance it makes this a great and quiet place to stay. Also, Brown and Hailey's is 2 blocks down the road. The Museum district is a few blocks down the road and the Transit Center (rail etc) is a few blocks away. Made to order Omelets was a great treat too. Location, quiet and good location. </DOC> Not up to the usual BW standard we have come to expect. We kept getting the interconnecting door bumped and thought what inconsiderate people next door until a huge dog started barking just as we went to be. We complained and the reception staff said they would ask the owners to keep the dog quiet. However the dog barked early again the next morning. We have nothing against pets but the hotel should confine them to a separate are of the hotel. Breakfast was awful, eggs like old boot leather, no bacon, juice reconstituted stuff, very bitter. Also there was a cat wandering around the dining are when we went down and then it was on the tables. Overall a very overpriced disappointing stay and would not go there again.\"\n",
    "\n",
    "\n",
    "def main():\n",
    "\treturn SummDataset.split_docs(text)\n",
    "\t\n",
    "\n"
   ]
  },
  {
   "cell_type": "code",
   "execution_count": 6,
   "metadata": {
    "ExecuteTime": {
     "end_time": "2020-03-11T22:57:38.512718Z",
     "start_time": "2020-03-11T22:57:38.507501Z"
    }
   },
   "outputs": [
    {
     "data": {
      "text/plain": [
       "8"
      ]
     },
     "execution_count": 6,
     "metadata": {},
     "output_type": "execute_result"
    }
   ],
   "source": [
    "res=main();\n",
    "len(res)"
   ]
  },
  {
   "cell_type": "code",
   "execution_count": 7,
   "metadata": {
    "ExecuteTime": {
     "end_time": "2020-03-11T23:02:45.376779Z",
     "start_time": "2020-03-11T23:02:45.373557Z"
    }
   },
   "outputs": [],
   "source": [
    " for i, text in enumerate(res):\n",
    "            # Split apart by docs and potentially add delimiters\n",
    "    docs = SummDataset.split_docs(text)  # list of strs"
   ]
  },
  {
   "cell_type": "code",
   "execution_count": 16,
   "metadata": {
    "ExecuteTime": {
     "end_time": "2020-03-11T23:07:38.819840Z",
     "start_time": "2020-03-11T23:07:38.817150Z"
    }
   },
   "outputs": [],
   "source": [
    "len(docs)\n",
    "summDataset=SummDataset()"
   ]
  },
  {
   "cell_type": "code",
   "execution_count": 19,
   "metadata": {
    "ExecuteTime": {
     "end_time": "2020-03-11T23:07:52.070642Z",
     "start_time": "2020-03-11T23:07:52.061875Z"
    }
   },
   "outputs": [],
   "source": [
    "summDataset.subwordenc.encode(docs[0])"
   ]
  },
  {
   "cell_type": "code",
   "execution_count": null,
   "metadata": {},
   "outputs": [],
   "source": []
  }
 ],
 "metadata": {
  "kernelspec": {
   "display_name": "Python 3",
   "language": "python",
   "name": "python3"
  },
  "language_info": {
   "codemirror_mode": {
    "name": "ipython",
    "version": 3
   },
   "file_extension": ".py",
   "mimetype": "text/x-python",
   "name": "python",
   "nbconvert_exporter": "python",
   "pygments_lexer": "ipython3",
   "version": "3.7.4"
  }
 },
 "nbformat": 4,
 "nbformat_minor": 2
}
