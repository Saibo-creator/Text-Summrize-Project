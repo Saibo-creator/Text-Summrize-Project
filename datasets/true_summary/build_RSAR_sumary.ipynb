{
 "cells": [
  {
   "cell_type": "code",
   "execution_count": 1,
   "metadata": {
    "ExecuteTime": {
     "end_time": "2020-06-08T01:31:50.486671Z",
     "start_time": "2020-06-08T01:31:48.227195Z"
    }
   },
   "outputs": [],
   "source": [
    "import os \n",
    "import json\n",
    "import pandas as pd\n",
    "\n",
    "#load original review data\n",
    "path_to_json='./map+unmap/'\n",
    "json_fns=[json_fn for json_fn in os.listdir(path_to_json) if json_fn.endswith('.json')] \n",
    "#build dataframe structure\n",
    "json_df=pd.DataFrame(columns=['hotel_url','short_summary',\"long_summary\"])\n",
    "# per aspect remains to be done soon"
   ]
  },
  {
   "cell_type": "code",
   "execution_count": null,
   "metadata": {
    "ExecuteTime": {
     "end_time": "2020-06-08T01:32:55.080813Z",
     "start_time": "2020-06-08T01:32:11.409856Z"
    }
   },
   "outputs": [],
   "source": [
    "#executed in 14ms\n",
    "for i,json_fn in enumerate(json_fns):\n",
    "    with open(os.path.join(path_to_json,json_fn)) as json_file:\n",
    "        json_dict=json.load(json_file)\n",
    "        hotel_url=json_fn\n",
    "        short_summary=json_dict[\"summary\"][\"text\"]\n",
    "        long_summary=''.join([' '.join([xx['text'] for xx in x['summary_sentences']]) for x in json_dict['category']])\n",
    "        json_df.loc[i]=[hotel_url,short_summary,long_summary]"
   ]
  },
  {
   "cell_type": "code",
   "execution_count": 8,
   "metadata": {
    "ExecuteTime": {
     "end_time": "2020-06-08T01:33:40.324304Z",
     "start_time": "2020-06-08T01:33:40.292909Z"
    }
   },
   "outputs": [],
   "source": [
    "for i,json_fn in enumerate(json_fns):\n",
    "    if i<=3:\n",
    "        with open(os.path.join(path_to_json,json_fn)) as json_file:\n",
    "            json_dict=json.load(json_file)\n",
    "            hotel_url=json_fn\n",
    "            short_summary=json_dict[\"summary\"][\"text\"]\n",
    "            long_summary=''.join([' '.join([xx['text'] for xx in x['summary_sentences']]) for x in json_dict['category']])\n",
    "            json_df.loc[i]=[hotel_url,short_summary,long_summary]"
   ]
  },
  {
   "cell_type": "code",
   "execution_count": 9,
   "metadata": {
    "ExecuteTime": {
     "end_time": "2020-06-08T01:33:40.651966Z",
     "start_time": "2020-06-08T01:33:40.639732Z"
    }
   },
   "outputs": [
    {
     "data": {
      "text/plain": [
       "{'reviews_count': 111,\n",
       " 'summary': {'score': '77',\n",
       "  'reviews_distribution': [{'reviews_count': 19, 'stars': 1},\n",
       "   {'reviews_count': 12, 'stars': 2},\n",
       "   {'reviews_count': 14, 'stars': 3},\n",
       "   {'reviews_count': 19, 'stars': 4},\n",
       "   {'reviews_count': 49, 'stars': 5}],\n",
       "  'text': 'Good Hotel. Great location.',\n",
       "  'popularity': None},\n",
       " 'badges': [],\n",
       " 'category': [{'category_name': 'Breakfast',\n",
       "   'short_text': 'Tasty breakfast',\n",
       "   'text': 'Excellent breakfast.',\n",
       "   'sentiment': 'pos',\n",
       "   'count': 6,\n",
       "   'score': 100,\n",
       "   'category_id': '131',\n",
       "   'relevance': 1.1548137521081894,\n",
       "   'summary_sentences': [{'sentiment': 'pos',\n",
       "     'text': 'Tasty breakfast.',\n",
       "     'category_id_list': ['131']}],\n",
       "   'highlights': [{'text': 'Wonderful breakfast',\n",
       "     'category_id_list': ['131'],\n",
       "     'confidence': 100.0},\n",
       "    {'text': 'Great breakfast',\n",
       "     'category_id_list': ['131'],\n",
       "     'confidence': 100.0},\n",
       "    {'text': 'Good breakfast',\n",
       "     'category_id_list': ['131'],\n",
       "     'confidence': 100.0}],\n",
       "   'sub_category_list': []},\n",
       "  {'category_name': 'Value',\n",
       "   'short_text': 'Best value for money',\n",
       "   'text': 'Excellent value.',\n",
       "   'sentiment': 'pos',\n",
       "   'count': 12,\n",
       "   'score': 100,\n",
       "   'category_id': '22a',\n",
       "   'relevance': 1.0831702786519486,\n",
       "   'summary_sentences': [{'sentiment': 'pos',\n",
       "     'text': 'Best value for money.',\n",
       "     'category_id_list': ['22a']}],\n",
       "   'highlights': [{'text': 'Reasonable prices',\n",
       "     'category_id_list': ['22a'],\n",
       "     'confidence': 100.0},\n",
       "    {'text': 'Free coffee', 'category_id_list': ['22a'], 'confidence': 100.0},\n",
       "    {'text': 'Great price', 'category_id_list': ['22a'], 'confidence': 100.0}],\n",
       "   'sub_category_list': []},\n",
       "  {'category_name': 'Food',\n",
       "   'short_text': 'Delicious food',\n",
       "   'text': 'Food is delicious.',\n",
       "   'sentiment': 'pos',\n",
       "   'count': 21,\n",
       "   'score': 87,\n",
       "   'category_id': '13',\n",
       "   'relevance': 1.430708279991673,\n",
       "   'summary_sentences': [{'sentiment': 'pos',\n",
       "     'text': 'Delicious food.',\n",
       "     'category_id_list': ['13']}],\n",
       "   'highlights': [{'text': 'Quick lunch',\n",
       "     'category_id_list': ['13b', '13', 'ef97'],\n",
       "     'confidence': 100.0},\n",
       "    {'text': 'Amazing flavor',\n",
       "     'category_id_list': ['13b', '13'],\n",
       "     'confidence': 100.0},\n",
       "    {'text': 'Nice citrus',\n",
       "     'category_id_list': ['13', '13n'],\n",
       "     'confidence': 100.0}],\n",
       "   'sub_category_list': []},\n",
       "  {'category_name': 'Service',\n",
       "   'short_text': 'Fantastic service',\n",
       "   'text': 'Great service.',\n",
       "   'sentiment': 'pos',\n",
       "   'count': 31,\n",
       "   'score': 81,\n",
       "   'category_id': '15',\n",
       "   'relevance': 1.0,\n",
       "   'summary_sentences': [{'sentiment': 'pos',\n",
       "     'text': 'Friendly service, and excellent management.',\n",
       "     'category_id_list': ['15', 'ddbc', '15g']}],\n",
       "   'highlights': [{'text': 'Staff friendly',\n",
       "     'category_id_list': ['ddbc', '15'],\n",
       "     'confidence': 100.0},\n",
       "    {'text': 'Owners were quick',\n",
       "     'category_id_list': ['15', '15g'],\n",
       "     'confidence': 100.0},\n",
       "    {'text': 'Owner took care of it',\n",
       "     'category_id_list': ['f8d2', '15', '15g'],\n",
       "     'confidence': 100.0}],\n",
       "   'sub_category_list': [{'category_name': 'Management',\n",
       "     'short_text': 'Good management',\n",
       "     'text': '<pos>Management was excellent</pos>, said <strong>100%</strong>.',\n",
       "     'sentiment': 'pos',\n",
       "     'count': 14,\n",
       "     'score': 100,\n",
       "     'category_id': '15g',\n",
       "     'relevance': 2.483016002956888,\n",
       "     'summary_sentences': None,\n",
       "     'highlights': [{'text': 'Owners were quick',\n",
       "       'category_id_list': ['15', '15g'],\n",
       "       'confidence': 100.0},\n",
       "      {'text': 'Owner took care of it',\n",
       "       'category_id_list': ['f8d2', '15', '15g'],\n",
       "       'confidence': 100.0}],\n",
       "     'sub_category_list': None},\n",
       "    {'category_name': 'Service Friendliness',\n",
       "     'short_text': 'Friendly service',\n",
       "     'text': '<strong>92%</strong> found the <pos>staff to be very friendly</pos>.',\n",
       "     'sentiment': 'pos',\n",
       "     'count': 13,\n",
       "     'score': 92,\n",
       "     'category_id': 'ddbc',\n",
       "     'relevance': 1.0,\n",
       "     'summary_sentences': None,\n",
       "     'highlights': [{'text': 'Staff friendly',\n",
       "       'category_id_list': ['ddbc', '15'],\n",
       "       'confidence': 100.0},\n",
       "      {'text': 'Friendly staff',\n",
       "       'category_id_list': ['ddbc', '15'],\n",
       "       'confidence': 100.0}],\n",
       "     'sub_category_list': None}]},\n",
       "  {'category_name': 'Cleanliness',\n",
       "   'short_text': 'Clean',\n",
       "   'text': 'Good cleanliness.',\n",
       "   'sentiment': 'pos',\n",
       "   'count': 22,\n",
       "   'score': 77,\n",
       "   'category_id': '333',\n",
       "   'relevance': 1.0944271778032897,\n",
       "   'summary_sentences': [{'sentiment': 'pos',\n",
       "     'text': 'Clean rooms.',\n",
       "     'category_id_list': ['f63a', '333']}],\n",
       "   'highlights': [{'text': 'Clean rooms',\n",
       "     'category_id_list': ['f63a', '11', '333'],\n",
       "     'confidence': 100.0},\n",
       "    {'text': 'Clean room',\n",
       "     'category_id_list': ['11', 'f63a', '333'],\n",
       "     'confidence': 100.0}],\n",
       "   'sub_category_list': [{'category_name': 'Room Cleanliness',\n",
       "     'short_text': 'Clean rooms',\n",
       "     'text': '<strong>76%</strong> said <pos>rooms were clean</pos>.',\n",
       "     'sentiment': 'pos',\n",
       "     'count': 16,\n",
       "     'score': 76,\n",
       "     'category_id': 'f63a',\n",
       "     'relevance': 1.5244887096437878,\n",
       "     'summary_sentences': None,\n",
       "     'highlights': [{'text': 'Clean rooms',\n",
       "       'category_id_list': ['f63a', '11', '333'],\n",
       "       'confidence': 100.0},\n",
       "      {'text': 'Clean room',\n",
       "       'category_id_list': ['11', 'f63a', '333'],\n",
       "       'confidence': 100.0}],\n",
       "     'sub_category_list': None}]},\n",
       "  {'category_name': 'Room',\n",
       "   'short_text': 'Great room',\n",
       "   'text': 'Nice rooms.',\n",
       "   'sentiment': 'pos',\n",
       "   'count': 32,\n",
       "   'score': 75,\n",
       "   'category_id': '11',\n",
       "   'relevance': 1.0,\n",
       "   'summary_sentences': [{'sentiment': 'pos',\n",
       "     'text': 'Rooms are spotless with comfy beds.',\n",
       "     'category_id_list': ['11', '11b', 'f63a']},\n",
       "    {'sentiment': 'mixed',\n",
       "     'text': 'Poor bathrooms and substandard room maintenance.',\n",
       "     'category_id_list': ['e51a', '11a']}],\n",
       "   'highlights': [{'text': 'New blankets',\n",
       "     'category_id_list': ['11', 'ae0f', 'vmod', '11b', '111', '171'],\n",
       "     'confidence': 100.0},\n",
       "    {'text': \"Good night's sleep\",\n",
       "     'category_id_list': ['11'],\n",
       "     'confidence': 100.0},\n",
       "    {'text': 'Clean rooms',\n",
       "     'category_id_list': ['f63a', '11', '333'],\n",
       "     'confidence': 100.0}],\n",
       "   'sub_category_list': [{'category_name': 'Room Cleanliness',\n",
       "     'short_text': 'Clean rooms',\n",
       "     'text': '<strong>76%</strong> said <pos>rooms were clean</pos>.',\n",
       "     'sentiment': 'pos',\n",
       "     'count': 16,\n",
       "     'score': 76,\n",
       "     'category_id': 'f63a',\n",
       "     'relevance': 1.5244887096437878,\n",
       "     'summary_sentences': None,\n",
       "     'highlights': [{'text': 'Clean rooms',\n",
       "       'category_id_list': ['f63a', '11', '333'],\n",
       "       'confidence': 100.0},\n",
       "      {'text': 'Clean room',\n",
       "       'category_id_list': ['11', 'f63a', '333'],\n",
       "       'confidence': 100.0}],\n",
       "     'sub_category_list': None},\n",
       "    {'category_name': 'Beds',\n",
       "     'short_text': 'Comfortable beds',\n",
       "     'text': '<strong>83%</strong> said the <pos>beds were comfortable</pos>.',\n",
       "     'sentiment': 'pos',\n",
       "     'count': 10,\n",
       "     'score': 83,\n",
       "     'category_id': '11b',\n",
       "     'relevance': 1.0,\n",
       "     'summary_sentences': None,\n",
       "     'highlights': [{'text': 'New blankets',\n",
       "       'category_id_list': ['11', 'ae0f', 'vmod', '11b', '111', '171'],\n",
       "       'confidence': 100.0},\n",
       "      {'text': 'Bed was full of',\n",
       "       'category_id_list': ['11', '111', '11b'],\n",
       "       'confidence': 100.0},\n",
       "      {'text': 'Comfortable beds',\n",
       "       'category_id_list': ['11', '111', '11b'],\n",
       "       'confidence': 100.0}],\n",
       "     'sub_category_list': None},\n",
       "    {'category_name': 'Bathroom',\n",
       "     'short_text': 'Bathroom is ok',\n",
       "     'text': 'For only <strong>50%</strong>, the <neu>bathroom was ok</neu>.',\n",
       "     'sentiment': 'neu',\n",
       "     'count': 6,\n",
       "     'score': 50,\n",
       "     'category_id': '11a',\n",
       "     'relevance': 1.0,\n",
       "     'summary_sentences': None,\n",
       "     'highlights': [{'text': 'Shower was hot',\n",
       "       'category_id_list': ['11', '11m', '11a'],\n",
       "       'confidence': 100.0}],\n",
       "     'sub_category_list': None},\n",
       "    {'category_name': 'Room Maintenance',\n",
       "     'short_text': 'Rooms need regular maintenance',\n",
       "     'text': '<strong>83%</strong> thought they were <neg>poorly maintained</neg>.',\n",
       "     'sentiment': 'neg',\n",
       "     'count': 6,\n",
       "     'score': 17,\n",
       "     'category_id': 'e51a',\n",
       "     'relevance': 1.0,\n",
       "     'summary_sentences': None,\n",
       "     'highlights': [{'text': \"Tv remote didn't work\",\n",
       "       'category_id_list': ['11', 'e51a', '11h'],\n",
       "       'confidence': 100.0}],\n",
       "     'sub_category_list': None}]},\n",
       "  {'category_name': 'Location',\n",
       "   'short_text': 'Great location',\n",
       "   'text': 'Good location.',\n",
       "   'sentiment': 'pos',\n",
       "   'count': 13,\n",
       "   'score': 70,\n",
       "   'category_id': '14',\n",
       "   'relevance': 1.1255313833472171,\n",
       "   'summary_sentences': [{'sentiment': 'pos',\n",
       "     'text': 'Excellent location close to the beach.',\n",
       "     'category_id_list': ['8d11', '14']}],\n",
       "   'highlights': [{'text': 'Lots of food places',\n",
       "     'category_id_list': ['14'],\n",
       "     'confidence': 100.0},\n",
       "    {'text': 'Station next door',\n",
       "     'category_id_list': ['14j', '14'],\n",
       "     'confidence': 100.0},\n",
       "    {'text': 'Beach close by',\n",
       "     'category_id_list': ['8d11', '12', '14'],\n",
       "     'confidence': 100.0}],\n",
       "   'sub_category_list': [{'category_name': 'Distance to Beach',\n",
       "     'short_text': 'Beach nearby',\n",
       "     'text': '<strong>100%</strong> <pos>appreciated the closeness to the beach</pos>.',\n",
       "     'sentiment': 'pos',\n",
       "     'count': 5,\n",
       "     'score': 100,\n",
       "     'category_id': '8d11',\n",
       "     'relevance': 1.0,\n",
       "     'summary_sentences': None,\n",
       "     'highlights': [{'text': 'Beach close by',\n",
       "       'category_id_list': ['8d11', '12', '14'],\n",
       "       'confidence': 100.0}],\n",
       "     'sub_category_list': None}]}],\n",
       " 'good_to_know': [{'category_name': 'Management',\n",
       "   'short_text': 'Good management',\n",
       "   'text': 'Good management',\n",
       "   'sentiment': 'pos',\n",
       "   'count': 14,\n",
       "   'score': 100,\n",
       "   'category_id': '15g',\n",
       "   'relevance': 2.483016002956888,\n",
       "   'summary_sentences': None,\n",
       "   'highlights': [{'text': 'Owners were quick',\n",
       "     'category_id_list': ['15', '15g'],\n",
       "     'confidence': 100.0},\n",
       "    {'text': 'Owner took care of it',\n",
       "     'category_id_list': ['f8d2', '15', '15g'],\n",
       "     'confidence': 100.0}],\n",
       "   'sub_category_list': None},\n",
       "  {'category_name': 'Room Cleanliness',\n",
       "   'short_text': 'Clean rooms',\n",
       "   'text': 'Clean rooms',\n",
       "   'sentiment': 'pos',\n",
       "   'count': 16,\n",
       "   'score': 76,\n",
       "   'category_id': 'f63a',\n",
       "   'relevance': 1.5244887096437878,\n",
       "   'summary_sentences': None,\n",
       "   'highlights': [{'text': 'Clean rooms',\n",
       "     'category_id_list': ['f63a', '11', '333'],\n",
       "     'confidence': 100.0},\n",
       "    {'text': 'Clean room',\n",
       "     'category_id_list': ['11', 'f63a', '333'],\n",
       "     'confidence': 100.0}],\n",
       "   'sub_category_list': None},\n",
       "  {'category_name': 'Modern Vibe',\n",
       "   'short_text': 'Hotel could use some updating',\n",
       "   'text': 'Hotel could use some updating',\n",
       "   'sentiment': 'neg',\n",
       "   'count': 5,\n",
       "   'score': 25,\n",
       "   'category_id': 'vmod',\n",
       "   'relevance': 1.3556880514016005,\n",
       "   'summary_sentences': None,\n",
       "   'highlights': [],\n",
       "   'sub_category_list': None},\n",
       "  {'category_name': 'Service Friendliness',\n",
       "   'short_text': 'Friendly service',\n",
       "   'text': 'Friendly service',\n",
       "   'sentiment': 'pos',\n",
       "   'count': 13,\n",
       "   'score': 92,\n",
       "   'category_id': 'ddbc',\n",
       "   'relevance': 1.0,\n",
       "   'summary_sentences': None,\n",
       "   'highlights': [{'text': 'Staff friendly',\n",
       "     'category_id_list': ['ddbc', '15'],\n",
       "     'confidence': 100.0},\n",
       "    {'text': 'Friendly staff',\n",
       "     'category_id_list': ['ddbc', '15'],\n",
       "     'confidence': 100.0}],\n",
       "   'sub_category_list': None}],\n",
       " 'hotel_type': []}"
      ]
     },
     "execution_count": 9,
     "metadata": {},
     "output_type": "execute_result"
    }
   ],
   "source": [
    "json_dict"
   ]
  },
  {
   "cell_type": "code",
   "execution_count": 22,
   "metadata": {
    "ExecuteTime": {
     "end_time": "2020-06-08T01:36:43.217267Z",
     "start_time": "2020-06-08T01:36:43.212860Z"
    }
   },
   "outputs": [
    {
     "data": {
      "text/plain": [
       "['Breakfast', 'Value', 'Food', 'Service', 'Cleanliness', 'Room', 'Location']"
      ]
     },
     "execution_count": 22,
     "metadata": {},
     "output_type": "execute_result"
    }
   ],
   "source": []
  },
  {
   "cell_type": "code",
   "execution_count": null,
   "metadata": {},
   "outputs": [],
   "source": []
  },
  {
   "cell_type": "code",
   "execution_count": null,
   "metadata": {},
   "outputs": [],
   "source": []
  },
  {
   "cell_type": "code",
   "execution_count": 25,
   "metadata": {
    "ExecuteTime": {
     "end_time": "2020-06-08T01:43:49.923769Z",
     "start_time": "2020-06-08T01:42:42.429635Z"
    }
   },
   "outputs": [],
   "source": [
    "#executed in 14ms\n",
    "categories=[]\n",
    "for i,json_fn in enumerate(json_fns):\n",
    "    with open(os.path.join(path_to_json,json_fn)) as json_file:\n",
    "        json_dict=json.load(json_file)\n",
    "        categories.extend([category['category_name'] for category in json_dict['category']])"
   ]
  },
  {
   "cell_type": "code",
   "execution_count": 27,
   "metadata": {
    "ExecuteTime": {
     "end_time": "2020-06-08T01:47:41.336246Z",
     "start_time": "2020-06-08T01:47:41.288061Z"
    }
   },
   "outputs": [],
   "source": [
    "categories=list(set(categories))"
   ]
  },
  {
   "cell_type": "code",
   "execution_count": 28,
   "metadata": {
    "ExecuteTime": {
     "end_time": "2020-06-08T01:47:44.573994Z",
     "start_time": "2020-06-08T01:47:44.569622Z"
    }
   },
   "outputs": [
    {
     "data": {
      "text/plain": [
       "['Service',\n",
       " 'Breakfast',\n",
       " 'Room',\n",
       " 'Bar',\n",
       " 'Cleanliness',\n",
       " 'Beach',\n",
       " 'Location',\n",
       " 'Comfort',\n",
       " 'Value',\n",
       " 'Food',\n",
       " 'Pool',\n",
       " 'Wellness Area',\n",
       " 'Wellness',\n",
       " 'Amenities',\n",
       " 'Value for money',\n",
       " 'WiFi',\n",
       " 'Vibe']"
      ]
     },
     "execution_count": 28,
     "metadata": {},
     "output_type": "execute_result"
    }
   ],
   "source": [
    "categories"
   ]
  },
  {
   "cell_type": "code",
   "execution_count": 44,
   "metadata": {
    "ExecuteTime": {
     "end_time": "2020-06-08T02:51:53.261498Z",
     "start_time": "2020-06-08T02:40:31.315981Z"
    }
   },
   "outputs": [],
   "source": [
    "#aspect 0 :Service\n",
    "asp0=pd.DataFrame(columns=['hotel_url','asp_summary'])\n",
    "\n",
    "for i,json_fn in enumerate(json_fns):\n",
    "    with open(os.path.join(path_to_json,json_fn)) as json_file:\n",
    "        json_dict=json.load(json_file)\n",
    "        hotel_url='aspect 0 '+json_fn\n",
    "        asp_summary=''.join([' '.join([xx['text'] for xx in x['summary_sentences']]) for x in json_dict['category'] if x['category_name'] in {'Service','Breakfast','Food','Pool','Wellness Area','Wellness','Bar'}])\n",
    "        asp0.loc[i]=[hotel_url,asp_summary]\n",
    "        \n",
    "#executed in 12m 23s"
   ]
  },
  {
   "cell_type": "code",
   "execution_count": 45,
   "metadata": {
    "ExecuteTime": {
     "end_time": "2020-06-08T03:02:36.712493Z",
     "start_time": "2020-06-08T02:51:53.264928Z"
    }
   },
   "outputs": [],
   "source": [
    "#aspect 1 :Cleanliness\n",
    "asp1=pd.DataFrame(columns=['hotel_url','asp_summary'])\n",
    "\n",
    "for i,json_fn in enumerate(json_fns):\n",
    "    with open(os.path.join(path_to_json,json_fn)) as json_file:\n",
    "        json_dict=json.load(json_file)\n",
    "        hotel_url='aspect 1 '+json_fn\n",
    "        asp_summary=''.join([' '.join([xx['text'] for xx in x['summary_sentences']]) for x in json_dict['category'] if x['category_name'] in {'Cleanliness'}])\n",
    "        asp1.loc[i]=[hotel_url,asp_summary]\n",
    "        "
   ]
  },
  {
   "cell_type": "code",
   "execution_count": 46,
   "metadata": {
    "ExecuteTime": {
     "end_time": "2020-06-08T03:14:36.104653Z",
     "start_time": "2020-06-08T03:02:36.714713Z"
    }
   },
   "outputs": [],
   "source": [
    "#aspect 2 : Value\n",
    "asp2=pd.DataFrame(columns=['hotel_url','asp_summary'])\n",
    "\n",
    "for i,json_fn in enumerate(json_fns):\n",
    "    with open(os.path.join(path_to_json,json_fn)) as json_file:\n",
    "        json_dict=json.load(json_file)\n",
    "        hotel_url='aspect 2 '+json_fn\n",
    "        asp_summary=''.join([' '.join([xx['text'] for xx in x['summary_sentences']]) for x in json_dict['category'] if x['category_name'] in {'Value','Vibe','Value for money','Amenities','WiFi'}])\n",
    "        asp2.loc[i]=[hotel_url,asp_summary]\n",
    "        "
   ]
  },
  {
   "cell_type": "code",
   "execution_count": 47,
   "metadata": {
    "ExecuteTime": {
     "end_time": "2020-06-08T03:26:21.594726Z",
     "start_time": "2020-06-08T03:14:36.108947Z"
    }
   },
   "outputs": [],
   "source": [
    "#aspect 3 : Location\n",
    "asp3=pd.DataFrame(columns=['hotel_url','asp_summary'])\n",
    "\n",
    "for i,json_fn in enumerate(json_fns):\n",
    "    with open(os.path.join(path_to_json,json_fn)) as json_file:\n",
    "        json_dict=json.load(json_file)\n",
    "        hotel_url='aspect 3 '+json_fn\n",
    "        asp_summary=''.join([' '.join([xx['text'] for xx in x['summary_sentences']]) for x in json_dict['category'] if x['category_name'] in {'Location','Beach'}])\n",
    "        asp3.loc[i]=[hotel_url,asp_summary]\n",
    "        "
   ]
  },
  {
   "cell_type": "code",
   "execution_count": 48,
   "metadata": {
    "ExecuteTime": {
     "end_time": "2020-06-08T03:38:14.686671Z",
     "start_time": "2020-06-08T03:26:21.596566Z"
    }
   },
   "outputs": [],
   "source": [
    "#aspect 4 :Room\n",
    "asp4=pd.DataFrame(columns=['hotel_url','asp_summary'])\n",
    "\n",
    "for i,json_fn in enumerate(json_fns):\n",
    "    with open(os.path.join(path_to_json,json_fn)) as json_file:\n",
    "        json_dict=json.load(json_file)\n",
    "        hotel_url='aspect 4 '+json_fn\n",
    "        asp_summary=''.join([' '.join([xx['text'] for xx in x['summary_sentences']]) for x in json_dict['category'] if x['category_name'] in {'Room','Comfort'}])\n",
    "        asp4.loc[i]=[hotel_url,asp_summary]\n",
    "        "
   ]
  },
  {
   "cell_type": "code",
   "execution_count": 125,
   "metadata": {
    "ExecuteTime": {
     "end_time": "2020-06-08T04:49:59.584014Z",
     "start_time": "2020-06-08T04:49:59.550429Z"
    }
   },
   "outputs": [],
   "source": [
    "asp0_business_df=asp0[asp0['asp_summary'].apply(len)>40]"
   ]
  },
  {
   "cell_type": "code",
   "execution_count": 126,
   "metadata": {
    "ExecuteTime": {
     "end_time": "2020-06-08T04:49:59.912635Z",
     "start_time": "2020-06-08T04:49:59.887261Z"
    }
   },
   "outputs": [],
   "source": [
    "#removed rows with only single word \"Clean\",not really a summary for me.But 'Clean hotel facilities.', 'Quite clean.', ok\n",
    "asp1_business_df=asp1[asp1['asp_summary'].apply(len)>40]"
   ]
  },
  {
   "cell_type": "code",
   "execution_count": 127,
   "metadata": {
    "ExecuteTime": {
     "end_time": "2020-06-08T04:50:00.171375Z",
     "start_time": "2020-06-08T04:50:00.143616Z"
    }
   },
   "outputs": [],
   "source": [
    "\n",
    "asp2_business_df=asp2[asp2['asp_summary'].apply(len)>40]"
   ]
  },
  {
   "cell_type": "code",
   "execution_count": 128,
   "metadata": {
    "ExecuteTime": {
     "end_time": "2020-06-08T04:50:00.398010Z",
     "start_time": "2020-06-08T04:50:00.364585Z"
    }
   },
   "outputs": [],
   "source": [
    "#removed rows with only single word \"Clean\",not really a summary for me.But 'Clean hotel facilities.', 'Quite clean.', ok\n",
    "# droped around 10%\n",
    "asp3_business_df=asp3[asp3['asp_summary'].apply(len)>40]"
   ]
  },
  {
   "cell_type": "code",
   "execution_count": 129,
   "metadata": {
    "ExecuteTime": {
     "end_time": "2020-06-08T04:50:00.741335Z",
     "start_time": "2020-06-08T04:50:00.711043Z"
    }
   },
   "outputs": [],
   "source": [
    "asp4_business_df=asp4[asp4['asp_summary'].apply(len)>40]"
   ]
  },
  {
   "cell_type": "code",
   "execution_count": 131,
   "metadata": {
    "ExecuteTime": {
     "end_time": "2020-06-08T10:23:41.156191Z",
     "start_time": "2020-06-08T10:23:41.076022Z"
    }
   },
   "outputs": [
    {
     "data": {
      "text/html": [
       "<div>\n",
       "<style scoped>\n",
       "    .dataframe tbody tr th:only-of-type {\n",
       "        vertical-align: middle;\n",
       "    }\n",
       "\n",
       "    .dataframe tbody tr th {\n",
       "        vertical-align: top;\n",
       "    }\n",
       "\n",
       "    .dataframe thead th {\n",
       "        text-align: right;\n",
       "    }\n",
       "</style>\n",
       "<table border=\"1\" class=\"dataframe\">\n",
       "  <thead>\n",
       "    <tr style=\"text-align: right;\">\n",
       "      <th></th>\n",
       "      <th>hotel_url</th>\n",
       "      <th>asp_summary</th>\n",
       "    </tr>\n",
       "  </thead>\n",
       "  <tbody>\n",
       "    <tr>\n",
       "      <td>0</td>\n",
       "      <td>aspect 0 hotel_review-g445024-d283655-reviews-...</td>\n",
       "      <td>Great pool.Service is professional and friendl...</td>\n",
       "    </tr>\n",
       "    <tr>\n",
       "      <td>1</td>\n",
       "      <td>aspect 0 hotel_review-g187046-d192723-reviews-...</td>\n",
       "      <td>Efficient, friendly service with a nice recept...</td>\n",
       "    </tr>\n",
       "    <tr>\n",
       "      <td>2</td>\n",
       "      <td>aspect 0 hotel_review-g255340-d1217502-reviews...</td>\n",
       "      <td>Friendly service, and excellent management.</td>\n",
       "    </tr>\n",
       "    <tr>\n",
       "      <td>3</td>\n",
       "      <td>aspect 0 hotel_review-g55987-d609325-reviews-g...</td>\n",
       "      <td>Tasty breakfast.Delicious food.Friendly servic...</td>\n",
       "    </tr>\n",
       "    <tr>\n",
       "      <td>4</td>\n",
       "      <td>aspect 0 hotel_review-g33364-d675342-reviews-q...</td>\n",
       "      <td>Service is professional and cheery, especially...</td>\n",
       "    </tr>\n",
       "    <tr>\n",
       "      <td>...</td>\n",
       "      <td>...</td>\n",
       "      <td>...</td>\n",
       "    </tr>\n",
       "    <tr>\n",
       "      <td>83844</td>\n",
       "      <td>aspect 0 hotel_review-g293924-d8777523-reviews...</td>\n",
       "      <td>Delicious food.Friendly service.Tasty breakfast.</td>\n",
       "    </tr>\n",
       "    <tr>\n",
       "      <td>83845</td>\n",
       "      <td>aspect 0 hotel_review-g181780-d182437-reviews-...</td>\n",
       "      <td>Menu is excellent with tasty food.Professional...</td>\n",
       "    </tr>\n",
       "    <tr>\n",
       "      <td>83846</td>\n",
       "      <td>aspect 0 hotel_review-g255060-d255392-reviews-...</td>\n",
       "      <td>Great, friendly service at reception and bar. ...</td>\n",
       "    </tr>\n",
       "    <tr>\n",
       "      <td>83847</td>\n",
       "      <td>aspect 0 hotel_review-g194942-d1186352-reviews...</td>\n",
       "      <td>Reception and restaurant service is friendly. ...</td>\n",
       "    </tr>\n",
       "    <tr>\n",
       "      <td>83848</td>\n",
       "      <td>aspect 0 hotel_review-g5521739-d968131-reviews...</td>\n",
       "      <td>Tasty breakfast.Friendly service, and excellen...</td>\n",
       "    </tr>\n",
       "  </tbody>\n",
       "</table>\n",
       "<p>74965 rows × 2 columns</p>\n",
       "</div>"
      ],
      "text/plain": [
       "                                               hotel_url  \\\n",
       "0      aspect 0 hotel_review-g445024-d283655-reviews-...   \n",
       "1      aspect 0 hotel_review-g187046-d192723-reviews-...   \n",
       "2      aspect 0 hotel_review-g255340-d1217502-reviews...   \n",
       "3      aspect 0 hotel_review-g55987-d609325-reviews-g...   \n",
       "4      aspect 0 hotel_review-g33364-d675342-reviews-q...   \n",
       "...                                                  ...   \n",
       "83844  aspect 0 hotel_review-g293924-d8777523-reviews...   \n",
       "83845  aspect 0 hotel_review-g181780-d182437-reviews-...   \n",
       "83846  aspect 0 hotel_review-g255060-d255392-reviews-...   \n",
       "83847  aspect 0 hotel_review-g194942-d1186352-reviews...   \n",
       "83848  aspect 0 hotel_review-g5521739-d968131-reviews...   \n",
       "\n",
       "                                             asp_summary  \n",
       "0      Great pool.Service is professional and friendl...  \n",
       "1      Efficient, friendly service with a nice recept...  \n",
       "2            Friendly service, and excellent management.  \n",
       "3      Tasty breakfast.Delicious food.Friendly servic...  \n",
       "4      Service is professional and cheery, especially...  \n",
       "...                                                  ...  \n",
       "83844   Delicious food.Friendly service.Tasty breakfast.  \n",
       "83845  Menu is excellent with tasty food.Professional...  \n",
       "83846  Great, friendly service at reception and bar. ...  \n",
       "83847  Reception and restaurant service is friendly. ...  \n",
       "83848  Tasty breakfast.Friendly service, and excellen...  \n",
       "\n",
       "[74965 rows x 2 columns]"
      ]
     },
     "execution_count": 131,
     "metadata": {},
     "output_type": "execute_result"
    }
   ],
   "source": [
    "asp0_business_df"
   ]
  },
  {
   "cell_type": "markdown",
   "metadata": {},
   "source": [
    "### Step2\n",
    "Load business.json for each aspect and then take intersetcion with the dataframe above "
   ]
  },
  {
   "cell_type": "code",
   "execution_count": 163,
   "metadata": {
    "ExecuteTime": {
     "end_time": "2020-06-08T10:50:48.081924Z",
     "start_time": "2020-06-08T10:50:36.433538Z"
    }
   },
   "outputs": [],
   "source": [
    "asp3_old_business=pd.read_json('../hotel_mask_asp_3_dataset/business.json')\n",
    "\n",
    "asp3_old_business['hotel_url']=asp3_old_business['hotel_url'].apply(lambda x:x+'.json').apply(lambda x:x.lower())\n",
    "\n",
    "asp3_business=asp3_business_df[asp3_business_df['hotel_url'].isin(asp3_old_business['hotel_url'])].reset_index(drop=True)\n",
    "asp3_business=asp3_business.rename(columns={'asp_summary':'long_summary'})\n",
    "\n",
    "asp3_business.to_json('../mask_asp_3_with_summ_dataset/business.json')\n",
    "\n",
    "# asp3 review is only 60% of the original size\n",
    "\n",
    "asp3_review=asp3_old_business[asp3_old_business['hotel_url'].isin(asp3_business['hotel_url'])].reset_index(drop=True)\n",
    "\n"
   ]
  },
  {
   "cell_type": "code",
   "execution_count": 169,
   "metadata": {
    "ExecuteTime": {
     "end_time": "2020-06-08T10:52:42.971250Z",
     "start_time": "2020-06-08T10:52:42.960512Z"
    }
   },
   "outputs": [
    {
     "data": {
      "text/html": [
       "<div>\n",
       "<style scoped>\n",
       "    .dataframe tbody tr th:only-of-type {\n",
       "        vertical-align: middle;\n",
       "    }\n",
       "\n",
       "    .dataframe tbody tr th {\n",
       "        vertical-align: top;\n",
       "    }\n",
       "\n",
       "    .dataframe thead th {\n",
       "        text-align: right;\n",
       "    }\n",
       "</style>\n",
       "<table border=\"1\" class=\"dataframe\">\n",
       "  <thead>\n",
       "    <tr style=\"text-align: right;\">\n",
       "      <th></th>\n",
       "      <th>hotel_url</th>\n",
       "      <th>text</th>\n",
       "      <th>rating</th>\n",
       "    </tr>\n",
       "  </thead>\n",
       "  <tbody>\n",
       "    <tr>\n",
       "      <td>0</td>\n",
       "      <td>aspect 3 hotel_review-g10006284-d1083311-revie...</td>\n",
       "      <td>my husband surprised me for my birthday by tak...</td>\n",
       "      <td>5</td>\n",
       "    </tr>\n",
       "    <tr>\n",
       "      <td>1</td>\n",
       "      <td>aspect 3 hotel_review-g10006284-d1083311-revie...</td>\n",
       "      <td>we rent a condo we own on st john through vrbo...</td>\n",
       "      <td>5</td>\n",
       "    </tr>\n",
       "    <tr>\n",
       "      <td>2</td>\n",
       "      <td>aspect 3 hotel_review-g10006284-d1083311-revie...</td>\n",
       "      <td>the pool is gorgeous , clean , quiet with both...</td>\n",
       "      <td>5</td>\n",
       "    </tr>\n",
       "    <tr>\n",
       "      <td>3</td>\n",
       "      <td>aspect 3 hotel_review-g10006284-d1083311-revie...</td>\n",
       "      <td>stay room only , the shay cafe do excellent br...</td>\n",
       "      <td>5</td>\n",
       "    </tr>\n",
       "    <tr>\n",
       "      <td>4</td>\n",
       "      <td>aspect 3 hotel_review-g10006284-d1083311-revie...</td>\n",
       "      <td>location excellent , in the middle within walk...</td>\n",
       "      <td>5</td>\n",
       "    </tr>\n",
       "    <tr>\n",
       "      <td>...</td>\n",
       "      <td>...</td>\n",
       "      <td>...</td>\n",
       "      <td>...</td>\n",
       "    </tr>\n",
       "    <tr>\n",
       "      <td>1537316</td>\n",
       "      <td>aspect 3 hotel_review-g9866748-d1646912-review...</td>\n",
       "      <td>nice view across the water everyday . would st...</td>\n",
       "      <td>-1</td>\n",
       "    </tr>\n",
       "    <tr>\n",
       "      <td>1537317</td>\n",
       "      <td>aspect 3 hotel_review-g9866748-d1646912-review...</td>\n",
       "      <td>we heard a few people call out to tell them to...</td>\n",
       "      <td>-1</td>\n",
       "    </tr>\n",
       "    <tr>\n",
       "      <td>1537318</td>\n",
       "      <td>aspect 3 hotel_review-g9866748-d1646912-review...</td>\n",
       "      <td>we decided to stay at the heritage collection ...</td>\n",
       "      <td>5</td>\n",
       "    </tr>\n",
       "    <tr>\n",
       "      <td>1537319</td>\n",
       "      <td>aspect 3 hotel_review-g9866748-d1646912-review...</td>\n",
       "      <td>location was between queenstown and wanaka .a ...</td>\n",
       "      <td>4</td>\n",
       "    </tr>\n",
       "    <tr>\n",
       "      <td>1537320</td>\n",
       "      <td>aspect 3 hotel_review-g9866748-d1646912-review...</td>\n",
       "      <td>a quiet relaxing place to stay .we will be com...</td>\n",
       "      <td>4</td>\n",
       "    </tr>\n",
       "  </tbody>\n",
       "</table>\n",
       "<p>1537321 rows × 3 columns</p>\n",
       "</div>"
      ],
      "text/plain": [
       "                                                 hotel_url  \\\n",
       "0        aspect 3 hotel_review-g10006284-d1083311-revie...   \n",
       "1        aspect 3 hotel_review-g10006284-d1083311-revie...   \n",
       "2        aspect 3 hotel_review-g10006284-d1083311-revie...   \n",
       "3        aspect 3 hotel_review-g10006284-d1083311-revie...   \n",
       "4        aspect 3 hotel_review-g10006284-d1083311-revie...   \n",
       "...                                                    ...   \n",
       "1537316  aspect 3 hotel_review-g9866748-d1646912-review...   \n",
       "1537317  aspect 3 hotel_review-g9866748-d1646912-review...   \n",
       "1537318  aspect 3 hotel_review-g9866748-d1646912-review...   \n",
       "1537319  aspect 3 hotel_review-g9866748-d1646912-review...   \n",
       "1537320  aspect 3 hotel_review-g9866748-d1646912-review...   \n",
       "\n",
       "                                                      text  rating  \n",
       "0        my husband surprised me for my birthday by tak...       5  \n",
       "1        we rent a condo we own on st john through vrbo...       5  \n",
       "2        the pool is gorgeous , clean , quiet with both...       5  \n",
       "3        stay room only , the shay cafe do excellent br...       5  \n",
       "4        location excellent , in the middle within walk...       5  \n",
       "...                                                    ...     ...  \n",
       "1537316  nice view across the water everyday . would st...      -1  \n",
       "1537317  we heard a few people call out to tell them to...      -1  \n",
       "1537318  we decided to stay at the heritage collection ...       5  \n",
       "1537319  location was between queenstown and wanaka .a ...       4  \n",
       "1537320  a quiet relaxing place to stay .we will be com...       4  \n",
       "\n",
       "[1537321 rows x 3 columns]"
      ]
     },
     "execution_count": 169,
     "metadata": {},
     "output_type": "execute_result"
    }
   ],
   "source": [
    "asp3_old_business"
   ]
  },
  {
   "cell_type": "code",
   "execution_count": 10,
   "metadata": {
    "ExecuteTime": {
     "end_time": "2020-05-24T10:31:06.333257Z",
     "start_time": "2020-05-24T10:31:05.059148Z"
    }
   },
   "outputs": [],
   "source": [
    "json_df.to_csv('./hotel_true_summs.csv')"
   ]
  }
 ],
 "metadata": {
  "kernelspec": {
   "display_name": "Python 3",
   "language": "python",
   "name": "python3"
  },
  "language_info": {
   "codemirror_mode": {
    "name": "ipython",
    "version": 3
   },
   "file_extension": ".py",
   "mimetype": "text/x-python",
   "name": "python",
   "nbconvert_exporter": "python",
   "pygments_lexer": "ipython3",
   "version": "3.7.4"
  }
 },
 "nbformat": 4,
 "nbformat_minor": 2
}
