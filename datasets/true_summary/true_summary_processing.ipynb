{
 "cells": [
  {
   "cell_type": "code",
   "execution_count": 40,
   "metadata": {
    "ExecuteTime": {
     "end_time": "2020-05-21T13:10:37.828543Z",
     "start_time": "2020-05-21T13:10:37.788100Z"
    }
   },
   "outputs": [],
   "source": [
    "# importing the module \n",
    "import json \n",
    "  \n",
    "# Opening JSON file \n",
    "with open('./hotel_review-g28970-d84029-reviews-the_georgetown_inn-washington_dc_district_of_columbia.json') as json_file: \n",
    "    data = json.load(json_file) "
   ]
  },
  {
   "cell_type": "code",
   "execution_count": 41,
   "metadata": {
    "ExecuteTime": {
     "end_time": "2020-05-21T13:10:37.932026Z",
     "start_time": "2020-05-21T13:10:37.918363Z"
    }
   },
   "outputs": [
    {
     "data": {
      "text/plain": [
       "'Excellent city hotel. Close to Harbour. Great location.'"
      ]
     },
     "execution_count": 41,
     "metadata": {},
     "output_type": "execute_result"
    }
   ],
   "source": [
    "data['summary']['text']"
   ]
  },
  {
   "cell_type": "code",
   "execution_count": 42,
   "metadata": {
    "ExecuteTime": {
     "end_time": "2020-05-21T13:10:38.474840Z",
     "start_time": "2020-05-21T13:10:38.463045Z"
    }
   },
   "outputs": [
    {
     "data": {
      "text/plain": [
       "'Good location, close to public transport. Great sightseeing, restaurants and shopping nearby. Average parking. Standard parking prices.Restaurant service is friendly and professional. Reception and housekeeping are average, but management is not great. Valet service is ok. Room service is average.Clean, spacious rooms, comfortable beds, and good views. Small but relatively clean bathrooms. Badly maintained rooms with subpar minibars and TVs. Shower was ok. Relatively new rooms.Breakfast is decent but expensive.Okay buildings and entrance area. Unspectacular architecture.Poorly reviewed fitness area.Wifi quality could be improved.'"
      ]
     },
     "execution_count": 42,
     "metadata": {},
     "output_type": "execute_result"
    }
   ],
   "source": [
    "''.join([' '.join([xx['text'] for xx in x['summary_sentences']]) for x in data['category']])\n"
   ]
  },
  {
   "cell_type": "code",
   "execution_count": 46,
   "metadata": {
    "ExecuteTime": {
     "end_time": "2020-05-21T13:11:05.460395Z",
     "start_time": "2020-05-21T13:11:05.453871Z"
    }
   },
   "outputs": [
    {
     "data": {
      "text/plain": [
       "7"
      ]
     },
     "execution_count": 46,
     "metadata": {},
     "output_type": "execute_result"
    }
   ],
   "source": [
    "len(data['category'])"
   ]
  },
  {
   "cell_type": "code",
   "execution_count": 65,
   "metadata": {
    "ExecuteTime": {
     "end_time": "2020-05-21T13:27:30.300162Z",
     "start_time": "2020-05-21T13:27:30.294939Z"
    }
   },
   "outputs": [
    {
     "data": {
      "text/plain": [
       "[{'sentiment': 'pos',\n",
       "  'text': 'Good location, close to public transport.',\n",
       "  'category_id_list': ['14i', '14']},\n",
       " {'sentiment': 'pos',\n",
       "  'text': 'Great sightseeing, restaurants and shopping nearby.',\n",
       "  'category_id_list': ['14d', '14c', '14e']},\n",
       " {'sentiment': 'neu', 'text': 'Average parking.', 'category_id_list': ['14g']},\n",
       " {'sentiment': 'neu',\n",
       "  'text': 'Standard parking prices.',\n",
       "  'category_id_list': ['b63a']}]"
      ]
     },
     "execution_count": 65,
     "metadata": {},
     "output_type": "execute_result"
    }
   ],
   "source": [
    "data['category'][0]['summary_sentences']"
   ]
  },
  {
   "cell_type": "code",
   "execution_count": 68,
   "metadata": {
    "ExecuteTime": {
     "end_time": "2020-05-21T13:27:58.089837Z",
     "start_time": "2020-05-21T13:27:58.082560Z"
    }
   },
   "outputs": [
    {
     "data": {
      "text/plain": [
       "dict_keys(['category_name', 'short_text', 'text', 'sentiment', 'count', 'score', 'category_id', 'relevance', 'summary_sentences', 'highlights', 'sub_category_list'])"
      ]
     },
     "execution_count": 68,
     "metadata": {},
     "output_type": "execute_result"
    }
   ],
   "source": [
    "data['category'][0].keys()"
   ]
  },
  {
   "cell_type": "code",
   "execution_count": null,
   "metadata": {},
   "outputs": [],
   "source": []
  },
  {
   "cell_type": "code",
   "execution_count": null,
   "metadata": {},
   "outputs": [],
   "source": []
  },
  {
   "cell_type": "code",
   "execution_count": 38,
   "metadata": {
    "ExecuteTime": {
     "end_time": "2020-05-21T12:18:30.777915Z",
     "start_time": "2020-05-21T12:18:30.761392Z"
    }
   },
   "outputs": [],
   "source": [
    "##############################"
   ]
  },
  {
   "cell_type": "code",
   "execution_count": 2,
   "metadata": {
    "ExecuteTime": {
     "end_time": "2020-05-21T10:06:46.660637Z",
     "start_time": "2020-05-21T10:06:46.652022Z"
    }
   },
   "outputs": [],
   "source": [
    "#import hotel data\n",
    "import pandas as pd\n",
    "unmapped_metadata=pd.read_csv('./unmapped_metadata.csv',index_col=0)\n",
    "mapped_metadata=pd.read_csv('./mapped_metadata.csv',index_col=0)\n",
    "hotel_metadata=pd.read_csv('./hotel_metadata.csv',index_col=0)"
   ]
  },
  {
   "cell_type": "code",
   "execution_count": null,
   "metadata": {},
   "outputs": [],
   "source": [
    "################################## to know if hotels in mapped/unmapped also in hotel dataset###############"
   ]
  },
  {
   "cell_type": "code",
   "execution_count": 32,
   "metadata": {
    "ExecuteTime": {
     "end_time": "2020-05-21T10:20:58.800523Z",
     "start_time": "2020-05-21T10:20:58.268595Z"
    }
   },
   "outputs": [],
   "source": [
    "hotel_set=set(hotel_metadata['hotel'])\n",
    "mapped_set=set(mapped_metadata['hotel'])\n",
    "unmapped_set=set(unmapped_metadata['hotel'])"
   ]
  },
  {
   "cell_type": "code",
   "execution_count": 34,
   "metadata": {
    "ExecuteTime": {
     "end_time": "2020-05-21T10:21:39.539996Z",
     "start_time": "2020-05-21T10:21:39.535366Z"
    }
   },
   "outputs": [
    {
     "data": {
      "text/plain": [
       "(False, False)"
      ]
     },
     "execution_count": 34,
     "metadata": {},
     "output_type": "execute_result"
    }
   ],
   "source": [
    "#mapped/unmapped not included in hotel dataset\n",
    "mapped_set.issubset(hotel_set),unmapped_set.issubset(hotel_set)"
   ]
  },
  {
   "cell_type": "code",
   "execution_count": 36,
   "metadata": {
    "ExecuteTime": {
     "end_time": "2020-05-21T10:22:13.505462Z",
     "start_time": "2020-05-21T10:22:13.488473Z"
    }
   },
   "outputs": [
    {
     "data": {
      "text/plain": [
       "0.2845070925786973"
      ]
     },
     "execution_count": 36,
     "metadata": {},
     "output_type": "execute_result"
    }
   ],
   "source": [
    "# 0.28 of mapped are in hotel dataset\n",
    "sum([1 for hotel in mapped_set if hotel in hotel_set])/len(mapped_set)"
   ]
  },
  {
   "cell_type": "code",
   "execution_count": 37,
   "metadata": {
    "ExecuteTime": {
     "end_time": "2020-05-21T10:22:27.875419Z",
     "start_time": "2020-05-21T10:22:27.864968Z"
    }
   },
   "outputs": [
    {
     "data": {
      "text/plain": [
       "0.32876515749443924"
      ]
     },
     "execution_count": 37,
     "metadata": {},
     "output_type": "execute_result"
    }
   ],
   "source": [
    "# 0.33 of unmapped are in hotel dataset\n",
    "sum([1 for hotel in unmapped_set if hotel in hotel_set])/len(unmapped_set)"
   ]
  },
  {
   "cell_type": "code",
   "execution_count": null,
   "metadata": {},
   "outputs": [],
   "source": []
  }
 ],
 "metadata": {
  "kernelspec": {
   "display_name": "Python 3",
   "language": "python",
   "name": "python3"
  },
  "language_info": {
   "codemirror_mode": {
    "name": "ipython",
    "version": 3
   },
   "file_extension": ".py",
   "mimetype": "text/x-python",
   "name": "python",
   "nbconvert_exporter": "python",
   "pygments_lexer": "ipython3",
   "version": "3.7.4"
  }
 },
 "nbformat": 4,
 "nbformat_minor": 2
}
