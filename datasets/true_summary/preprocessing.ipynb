{
 "cells": [
  {
   "cell_type": "code",
   "execution_count": 5,
   "metadata": {
    "ExecuteTime": {
     "end_time": "2020-05-24T09:59:01.495048Z",
     "start_time": "2020-05-24T09:59:01.350753Z"
    }
   },
   "outputs": [],
   "source": [
    "import os \n",
    "import json\n",
    "import pandas as pd\n",
    "\n",
    "path_to_json='./map+unmap/'\n",
    "json_fns=[json_fn for json_fn in os.listdir(path_to_json) if json_fn.endswith('.json')] \n",
    "json_df=pd.DataFrame(columns=['hotel_url','short_summary',\"long_summary\"])\n",
    "# per aspect remains to be done soon"
   ]
  },
  {
   "cell_type": "code",
   "execution_count": 6,
   "metadata": {
    "ExecuteTime": {
     "end_time": "2020-05-24T09:59:02.453785Z",
     "start_time": "2020-05-24T09:59:02.448895Z"
    }
   },
   "outputs": [
    {
     "data": {
      "text/html": [
       "<div>\n",
       "<style scoped>\n",
       "    .dataframe tbody tr th:only-of-type {\n",
       "        vertical-align: middle;\n",
       "    }\n",
       "\n",
       "    .dataframe tbody tr th {\n",
       "        vertical-align: top;\n",
       "    }\n",
       "\n",
       "    .dataframe thead th {\n",
       "        text-align: right;\n",
       "    }\n",
       "</style>\n",
       "<table border=\"1\" class=\"dataframe\">\n",
       "  <thead>\n",
       "    <tr style=\"text-align: right;\">\n",
       "      <th></th>\n",
       "      <th>hotel_url</th>\n",
       "      <th>short_summary</th>\n",
       "      <th>long_summary</th>\n",
       "    </tr>\n",
       "  </thead>\n",
       "  <tbody>\n",
       "  </tbody>\n",
       "</table>\n",
       "</div>"
      ],
      "text/plain": [
       "Empty DataFrame\n",
       "Columns: [hotel_url, short_summary, long_summary]\n",
       "Index: []"
      ]
     },
     "execution_count": 6,
     "metadata": {},
     "output_type": "execute_result"
    }
   ],
   "source": [
    "json_df"
   ]
  },
  {
   "cell_type": "code",
   "execution_count": 7,
   "metadata": {
    "ExecuteTime": {
     "end_time": "2020-05-24T10:17:34.720537Z",
     "start_time": "2020-05-24T10:02:54.233990Z"
    }
   },
   "outputs": [],
   "source": [
    "#executed in 14ms\n",
    "for i,json_fn in enumerate(json_fns):\n",
    "    with open(os.path.join(path_to_json,json_fn)) as json_file:\n",
    "        json_dict=json.load(json_file)\n",
    "        hotel_url=json_fn\n",
    "        short_summary=json_dict[\"summary\"][\"text\"]\n",
    "        long_summary=''.join([' '.join([xx['text'] for xx in x['summary_sentences']]) for x in json_dict['category']])\n",
    "        json_df.loc[i]=[hotel_url,short_summary,long_summary]"
   ]
  },
  {
   "cell_type": "code",
   "execution_count": 9,
   "metadata": {
    "ExecuteTime": {
     "end_time": "2020-05-24T10:27:12.452262Z",
     "start_time": "2020-05-24T10:27:12.438738Z"
    }
   },
   "outputs": [
    {
     "data": {
      "text/html": [
       "<div>\n",
       "<style scoped>\n",
       "    .dataframe tbody tr th:only-of-type {\n",
       "        vertical-align: middle;\n",
       "    }\n",
       "\n",
       "    .dataframe tbody tr th {\n",
       "        vertical-align: top;\n",
       "    }\n",
       "\n",
       "    .dataframe thead th {\n",
       "        text-align: right;\n",
       "    }\n",
       "</style>\n",
       "<table border=\"1\" class=\"dataframe\">\n",
       "  <thead>\n",
       "    <tr style=\"text-align: right;\">\n",
       "      <th></th>\n",
       "      <th>hotel_url</th>\n",
       "      <th>short_summary</th>\n",
       "      <th>long_summary</th>\n",
       "    </tr>\n",
       "  </thead>\n",
       "  <tbody>\n",
       "    <tr>\n",
       "      <td>0</td>\n",
       "      <td>hotel_review-g206534-d624956-reviews-hotel_de_...</td>\n",
       "      <td>Vibe is not too good. Fantastic service.</td>\n",
       "      <td>Great location.Menu is excellent with tasty fo...</td>\n",
       "    </tr>\n",
       "    <tr>\n",
       "      <td>1</td>\n",
       "      <td>hotel_review-g40792-d125882-reviews-waves_ocea...</td>\n",
       "      <td>Very good beach hotel. Fantastic service. Grea...</td>\n",
       "      <td>Beautiful beach.Clean pool area.Friendly, acce...</td>\n",
       "    </tr>\n",
       "    <tr>\n",
       "      <td>2</td>\n",
       "      <td>hotel_review-g186338-d12934662-reviews-wilde_a...</td>\n",
       "      <td>Excellent city hotel. Close to Central London....</td>\n",
       "      <td>Good location, close to public transport. Near...</td>\n",
       "    </tr>\n",
       "    <tr>\n",
       "      <td>3</td>\n",
       "      <td>hotel_review-g187154-d197047-reviews-ibis_nime...</td>\n",
       "      <td>Very good highway hotel. Easily accessible by ...</td>\n",
       "      <td>Efficient, friendly service with a nice recept...</td>\n",
       "    </tr>\n",
       "    <tr>\n",
       "      <td>4</td>\n",
       "      <td>hotel_review-g294256-d4106364-reviews-qi_palaw...</td>\n",
       "      <td>Excellent hotel. Awesome rooms and service in ...</td>\n",
       "      <td>Great management and friendly, professional st...</td>\n",
       "    </tr>\n",
       "    <tr>\n",
       "      <td>...</td>\n",
       "      <td>...</td>\n",
       "      <td>...</td>\n",
       "      <td>...</td>\n",
       "    </tr>\n",
       "    <tr>\n",
       "      <td>83844</td>\n",
       "      <td>hotel_review-g60805-d88463-reviews-extended_st...</td>\n",
       "      <td>Fair hotel for solo travelers. Close to restau...</td>\n",
       "      <td>Great location, near nice bars and restaurants...</td>\n",
       "    </tr>\n",
       "    <tr>\n",
       "      <td>83845</td>\n",
       "      <td>hotel_review-g495068-d1202036-reviews-merredin...</td>\n",
       "      <td>Excellent hotel. Great rooms and fantastic ser...</td>\n",
       "      <td>Fantastic service.Great room.</td>\n",
       "    </tr>\n",
       "    <tr>\n",
       "      <td>83846</td>\n",
       "      <td>hotel_review-g294256-d3607812-reviews-el_nido_...</td>\n",
       "      <td>Excellent hotel. Awesome rooms and service in ...</td>\n",
       "      <td>Big, comfortable, and quiet rooms.Great pool.E...</td>\n",
       "    </tr>\n",
       "    <tr>\n",
       "      <td>83847</td>\n",
       "      <td>hotel_review-g319815-d642909-reviews-plockton_...</td>\n",
       "      <td>Excellent hotel. Good for sightseeing. Great r...</td>\n",
       "      <td>Best value for money. Affordable food.Friendly...</td>\n",
       "    </tr>\n",
       "    <tr>\n",
       "      <td>83848</td>\n",
       "      <td>hotel_review-g1732554-d1646889-reviews-iguana_...</td>\n",
       "      <td>Excellent beach hotel. Close to the beach . Gr...</td>\n",
       "      <td>Great pool.Excellent location close to the bea...</td>\n",
       "    </tr>\n",
       "  </tbody>\n",
       "</table>\n",
       "<p>83849 rows × 3 columns</p>\n",
       "</div>"
      ],
      "text/plain": [
       "                                               hotel_url  \\\n",
       "0      hotel_review-g206534-d624956-reviews-hotel_de_...   \n",
       "1      hotel_review-g40792-d125882-reviews-waves_ocea...   \n",
       "2      hotel_review-g186338-d12934662-reviews-wilde_a...   \n",
       "3      hotel_review-g187154-d197047-reviews-ibis_nime...   \n",
       "4      hotel_review-g294256-d4106364-reviews-qi_palaw...   \n",
       "...                                                  ...   \n",
       "83844  hotel_review-g60805-d88463-reviews-extended_st...   \n",
       "83845  hotel_review-g495068-d1202036-reviews-merredin...   \n",
       "83846  hotel_review-g294256-d3607812-reviews-el_nido_...   \n",
       "83847  hotel_review-g319815-d642909-reviews-plockton_...   \n",
       "83848  hotel_review-g1732554-d1646889-reviews-iguana_...   \n",
       "\n",
       "                                           short_summary  \\\n",
       "0               Vibe is not too good. Fantastic service.   \n",
       "1      Very good beach hotel. Fantastic service. Grea...   \n",
       "2      Excellent city hotel. Close to Central London....   \n",
       "3      Very good highway hotel. Easily accessible by ...   \n",
       "4      Excellent hotel. Awesome rooms and service in ...   \n",
       "...                                                  ...   \n",
       "83844  Fair hotel for solo travelers. Close to restau...   \n",
       "83845  Excellent hotel. Great rooms and fantastic ser...   \n",
       "83846  Excellent hotel. Awesome rooms and service in ...   \n",
       "83847  Excellent hotel. Good for sightseeing. Great r...   \n",
       "83848  Excellent beach hotel. Close to the beach . Gr...   \n",
       "\n",
       "                                            long_summary  \n",
       "0      Great location.Menu is excellent with tasty fo...  \n",
       "1      Beautiful beach.Clean pool area.Friendly, acce...  \n",
       "2      Good location, close to public transport. Near...  \n",
       "3      Efficient, friendly service with a nice recept...  \n",
       "4      Great management and friendly, professional st...  \n",
       "...                                                  ...  \n",
       "83844  Great location, near nice bars and restaurants...  \n",
       "83845                      Fantastic service.Great room.  \n",
       "83846  Big, comfortable, and quiet rooms.Great pool.E...  \n",
       "83847  Best value for money. Affordable food.Friendly...  \n",
       "83848  Great pool.Excellent location close to the bea...  \n",
       "\n",
       "[83849 rows x 3 columns]"
      ]
     },
     "execution_count": 9,
     "metadata": {},
     "output_type": "execute_result"
    }
   ],
   "source": [
    "json_df"
   ]
  },
  {
   "cell_type": "code",
   "execution_count": 11,
   "metadata": {
    "ExecuteTime": {
     "end_time": "2020-05-24T14:52:52.606022Z",
     "start_time": "2020-05-24T14:52:52.571067Z"
    }
   },
   "outputs": [],
   "source": [
    "import time\n"
   ]
  },
  {
   "cell_type": "code",
   "execution_count": 13,
   "metadata": {
    "ExecuteTime": {
     "end_time": "2020-05-24T14:53:15.060665Z",
     "start_time": "2020-05-24T14:53:10.050909Z"
    }
   },
   "outputs": [],
   "source": [
    "time.sleep(5)"
   ]
  },
  {
   "cell_type": "code",
   "execution_count": 10,
   "metadata": {
    "ExecuteTime": {
     "end_time": "2020-05-24T10:31:06.333257Z",
     "start_time": "2020-05-24T10:31:05.059148Z"
    }
   },
   "outputs": [],
   "source": [
    "json_df.to_csv('./hotel_true_summs.csv')"
   ]
  }
 ],
 "metadata": {
  "kernelspec": {
   "display_name": "Python 3",
   "language": "python",
   "name": "python3"
  },
  "language_info": {
   "codemirror_mode": {
    "name": "ipython",
    "version": 3
   },
   "file_extension": ".py",
   "mimetype": "text/x-python",
   "name": "python",
   "nbconvert_exporter": "python",
   "pygments_lexer": "ipython3",
   "version": "3.7.4"
  }
 },
 "nbformat": 4,
 "nbformat_minor": 2
}
