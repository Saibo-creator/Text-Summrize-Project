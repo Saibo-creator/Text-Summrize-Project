{
 "cells": [
  {
   "cell_type": "code",
   "execution_count": 9,
   "metadata": {
    "ExecuteTime": {
     "end_time": "2020-06-02T02:39:06.932290Z",
     "start_time": "2020-06-02T02:39:06.919711Z"
    }
   },
   "outputs": [],
   "source": [
    "import pandas as pd\n",
    "import numpy as np\n",
    "import matplotlib.pyplot as plt\n",
    "import os\n",
    "from shutil import copyfile\n",
    "import ast\n",
    "\n",
    "\n",
    "dataset_path='../mask_with_summ_dataset/'\n",
    "\n",
    "if not os.path.exists(dataset_path):\n",
    "\tos.mkdir(dataset_path)\n",
    "\n",
    "processd_path=os.path.join(dataset_path,'processed')\n",
    "if not os.path.exists(processd_path):\n",
    "\tos.mkdir(processd_path)"
   ]
  },
  {
   "cell_type": "code",
   "execution_count": 2,
   "metadata": {
    "ExecuteTime": {
     "end_time": "2020-06-02T02:28:07.036297Z",
     "start_time": "2020-06-02T02:27:40.166810Z"
    }
   },
   "outputs": [],
   "source": [
    "#load review data\n",
    "review_df=pd.read_json('../hotel_mask_dataset/review.json')\n",
    "#select necessary columns\n",
    "business_df=review_df.sort_values('hotel_url')[['hotel_url']].drop_duplicates(['hotel_url'])\n",
    "#executed om 26.9s"
   ]
  },
  {
   "cell_type": "code",
   "execution_count": 7,
   "metadata": {
    "ExecuteTime": {
     "end_time": "2020-06-02T02:30:54.268310Z",
     "start_time": "2020-06-02T02:30:46.590937Z"
    }
   },
   "outputs": [],
   "source": [
    "# turn capital to un_capital letter\n",
    "review_df.loc[:,['hotel_url']]=review_df.loc[:,['hotel_url']].applymap(lambda x:x.lower()).applymap(lambda x:x+'.json')\n",
    "business_df.loc[:,['hotel_url']]=business_df.loc[:,['hotel_url']].applymap(lambda x:x.lower()).applymap(lambda x:x+'.json')\n"
   ]
  },
  {
   "cell_type": "code",
   "execution_count": 10,
   "metadata": {
    "ExecuteTime": {
     "end_time": "2020-06-02T02:39:28.682454Z",
     "start_time": "2020-06-02T02:39:20.184128Z"
    }
   },
   "outputs": [
    {
     "name": "stderr",
     "output_type": "stream",
     "text": [
      "/opt/anaconda3/lib/python3.7/site-packages/ipykernel_launcher.py:5: UserWarning: Boolean Series key will be reindexed to match DataFrame index.\n",
      "  \"\"\"\n"
     ]
    }
   ],
   "source": [
    "#keep only intersection of diego's data \n",
    "hotel_with_summs_list=pd.read_csv('../true_summary/hotel_true_summs.csv')['hotel_url'].to_list()\n",
    "index=review_df['hotel_url'].isin(hotel_with_summs_list)\n",
    "review_df=review_df[index]\n",
    "business_df=business_df[index]\n",
    "\n",
    "#change the column name to text\n",
    "review_df.rename(columns={'text_filtered_per_sentence':'text'},inplace=True)"
   ]
  },
  {
   "cell_type": "code",
   "execution_count": 17,
   "metadata": {
    "ExecuteTime": {
     "end_time": "2020-06-02T03:11:33.393660Z",
     "start_time": "2020-06-02T03:11:27.326181Z"
    }
   },
   "outputs": [
    {
     "name": "stderr",
     "output_type": "stream",
     "text": [
      "/opt/anaconda3/lib/python3.7/site-packages/pandas/core/frame.py:4223: SettingWithCopyWarning: \n",
      "A value is trying to be set on a copy of a slice from a DataFrame\n",
      "\n",
      "See the caveats in the documentation: http://pandas.pydata.org/pandas-docs/stable/user_guide/indexing.html#returning-a-view-versus-a-copy\n",
      "  return super().rename(**kwargs)\n"
     ]
    }
   ],
   "source": []
  },
  {
   "cell_type": "markdown",
   "metadata": {},
   "source": [
    "### merge true_summary_df and business_df"
   ]
  },
  {
   "cell_type": "code",
   "execution_count": 11,
   "metadata": {
    "ExecuteTime": {
     "end_time": "2020-06-02T02:43:49.238892Z",
     "start_time": "2020-06-02T02:43:48.263369Z"
    }
   },
   "outputs": [],
   "source": [
    "true_summary_df=pd.read_csv('../true_summary/hotel_true_summs.csv',index_col=0)"
   ]
  },
  {
   "cell_type": "code",
   "execution_count": 12,
   "metadata": {
    "ExecuteTime": {
     "end_time": "2020-06-02T02:43:57.647084Z",
     "start_time": "2020-06-02T02:43:57.614367Z"
    }
   },
   "outputs": [
    {
     "data": {
      "text/html": [
       "<div>\n",
       "<style scoped>\n",
       "    .dataframe tbody tr th:only-of-type {\n",
       "        vertical-align: middle;\n",
       "    }\n",
       "\n",
       "    .dataframe tbody tr th {\n",
       "        vertical-align: top;\n",
       "    }\n",
       "\n",
       "    .dataframe thead th {\n",
       "        text-align: right;\n",
       "    }\n",
       "</style>\n",
       "<table border=\"1\" class=\"dataframe\">\n",
       "  <thead>\n",
       "    <tr style=\"text-align: right;\">\n",
       "      <th></th>\n",
       "      <th>hotel_url</th>\n",
       "      <th>short_summary</th>\n",
       "      <th>long_summary</th>\n",
       "    </tr>\n",
       "  </thead>\n",
       "  <tbody>\n",
       "    <tr>\n",
       "      <td>0</td>\n",
       "      <td>hotel_review-g206534-d624956-reviews-hotel_de_...</td>\n",
       "      <td>Vibe is not too good. Fantastic service.</td>\n",
       "      <td>Great location.Menu is excellent with tasty fo...</td>\n",
       "    </tr>\n",
       "    <tr>\n",
       "      <td>1</td>\n",
       "      <td>hotel_review-g40792-d125882-reviews-waves_ocea...</td>\n",
       "      <td>Very good beach hotel. Fantastic service. Grea...</td>\n",
       "      <td>Beautiful beach.Clean pool area.Friendly, acce...</td>\n",
       "    </tr>\n",
       "    <tr>\n",
       "      <td>2</td>\n",
       "      <td>hotel_review-g186338-d12934662-reviews-wilde_a...</td>\n",
       "      <td>Excellent city hotel. Close to Central London....</td>\n",
       "      <td>Good location, close to public transport. Near...</td>\n",
       "    </tr>\n",
       "    <tr>\n",
       "      <td>3</td>\n",
       "      <td>hotel_review-g187154-d197047-reviews-ibis_nime...</td>\n",
       "      <td>Very good highway hotel. Easily accessible by ...</td>\n",
       "      <td>Efficient, friendly service with a nice recept...</td>\n",
       "    </tr>\n",
       "    <tr>\n",
       "      <td>4</td>\n",
       "      <td>hotel_review-g294256-d4106364-reviews-qi_palaw...</td>\n",
       "      <td>Excellent hotel. Awesome rooms and service in ...</td>\n",
       "      <td>Great management and friendly, professional st...</td>\n",
       "    </tr>\n",
       "    <tr>\n",
       "      <td>...</td>\n",
       "      <td>...</td>\n",
       "      <td>...</td>\n",
       "      <td>...</td>\n",
       "    </tr>\n",
       "    <tr>\n",
       "      <td>83844</td>\n",
       "      <td>hotel_review-g60805-d88463-reviews-extended_st...</td>\n",
       "      <td>Fair hotel for solo travelers. Close to restau...</td>\n",
       "      <td>Great location, near nice bars and restaurants...</td>\n",
       "    </tr>\n",
       "    <tr>\n",
       "      <td>83845</td>\n",
       "      <td>hotel_review-g495068-d1202036-reviews-merredin...</td>\n",
       "      <td>Excellent hotel. Great rooms and fantastic ser...</td>\n",
       "      <td>Fantastic service.Great room.</td>\n",
       "    </tr>\n",
       "    <tr>\n",
       "      <td>83846</td>\n",
       "      <td>hotel_review-g294256-d3607812-reviews-el_nido_...</td>\n",
       "      <td>Excellent hotel. Awesome rooms and service in ...</td>\n",
       "      <td>Big, comfortable, and quiet rooms.Great pool.E...</td>\n",
       "    </tr>\n",
       "    <tr>\n",
       "      <td>83847</td>\n",
       "      <td>hotel_review-g319815-d642909-reviews-plockton_...</td>\n",
       "      <td>Excellent hotel. Good for sightseeing. Great r...</td>\n",
       "      <td>Best value for money. Affordable food.Friendly...</td>\n",
       "    </tr>\n",
       "    <tr>\n",
       "      <td>83848</td>\n",
       "      <td>hotel_review-g1732554-d1646889-reviews-iguana_...</td>\n",
       "      <td>Excellent beach hotel. Close to the beach . Gr...</td>\n",
       "      <td>Great pool.Excellent location close to the bea...</td>\n",
       "    </tr>\n",
       "  </tbody>\n",
       "</table>\n",
       "<p>83849 rows × 3 columns</p>\n",
       "</div>"
      ],
      "text/plain": [
       "                                               hotel_url  \\\n",
       "0      hotel_review-g206534-d624956-reviews-hotel_de_...   \n",
       "1      hotel_review-g40792-d125882-reviews-waves_ocea...   \n",
       "2      hotel_review-g186338-d12934662-reviews-wilde_a...   \n",
       "3      hotel_review-g187154-d197047-reviews-ibis_nime...   \n",
       "4      hotel_review-g294256-d4106364-reviews-qi_palaw...   \n",
       "...                                                  ...   \n",
       "83844  hotel_review-g60805-d88463-reviews-extended_st...   \n",
       "83845  hotel_review-g495068-d1202036-reviews-merredin...   \n",
       "83846  hotel_review-g294256-d3607812-reviews-el_nido_...   \n",
       "83847  hotel_review-g319815-d642909-reviews-plockton_...   \n",
       "83848  hotel_review-g1732554-d1646889-reviews-iguana_...   \n",
       "\n",
       "                                           short_summary  \\\n",
       "0               Vibe is not too good. Fantastic service.   \n",
       "1      Very good beach hotel. Fantastic service. Grea...   \n",
       "2      Excellent city hotel. Close to Central London....   \n",
       "3      Very good highway hotel. Easily accessible by ...   \n",
       "4      Excellent hotel. Awesome rooms and service in ...   \n",
       "...                                                  ...   \n",
       "83844  Fair hotel for solo travelers. Close to restau...   \n",
       "83845  Excellent hotel. Great rooms and fantastic ser...   \n",
       "83846  Excellent hotel. Awesome rooms and service in ...   \n",
       "83847  Excellent hotel. Good for sightseeing. Great r...   \n",
       "83848  Excellent beach hotel. Close to the beach . Gr...   \n",
       "\n",
       "                                            long_summary  \n",
       "0      Great location.Menu is excellent with tasty fo...  \n",
       "1      Beautiful beach.Clean pool area.Friendly, acce...  \n",
       "2      Good location, close to public transport. Near...  \n",
       "3      Efficient, friendly service with a nice recept...  \n",
       "4      Great management and friendly, professional st...  \n",
       "...                                                  ...  \n",
       "83844  Great location, near nice bars and restaurants...  \n",
       "83845                      Fantastic service.Great room.  \n",
       "83846  Big, comfortable, and quiet rooms.Great pool.E...  \n",
       "83847  Best value for money. Affordable food.Friendly...  \n",
       "83848  Great pool.Excellent location close to the bea...  \n",
       "\n",
       "[83849 rows x 3 columns]"
      ]
     },
     "execution_count": 12,
     "metadata": {},
     "output_type": "execute_result"
    }
   ],
   "source": [
    "true_summary_df"
   ]
  },
  {
   "cell_type": "code",
   "execution_count": 13,
   "metadata": {
    "ExecuteTime": {
     "end_time": "2020-06-02T02:45:17.875684Z",
     "start_time": "2020-06-02T02:45:17.688782Z"
    }
   },
   "outputs": [],
   "source": [
    "#merge true_summary with business_df \n",
    "business_df=business_df.drop_duplicates(['hotel_url']).reset_index(drop=True)\n",
    "business_df=pd.merge(business_df,true_summary_df,on='hotel_url',how='inner')"
   ]
  },
  {
   "cell_type": "code",
   "execution_count": 14,
   "metadata": {
    "ExecuteTime": {
     "end_time": "2020-06-02T02:45:23.174628Z",
     "start_time": "2020-06-02T02:45:23.156400Z"
    }
   },
   "outputs": [
    {
     "data": {
      "text/html": [
       "<div>\n",
       "<style scoped>\n",
       "    .dataframe tbody tr th:only-of-type {\n",
       "        vertical-align: middle;\n",
       "    }\n",
       "\n",
       "    .dataframe tbody tr th {\n",
       "        vertical-align: top;\n",
       "    }\n",
       "\n",
       "    .dataframe thead th {\n",
       "        text-align: right;\n",
       "    }\n",
       "</style>\n",
       "<table border=\"1\" class=\"dataframe\">\n",
       "  <thead>\n",
       "    <tr style=\"text-align: right;\">\n",
       "      <th></th>\n",
       "      <th>hotel_url</th>\n",
       "      <th>short_summary</th>\n",
       "      <th>long_summary</th>\n",
       "    </tr>\n",
       "  </thead>\n",
       "  <tbody>\n",
       "    <tr>\n",
       "      <td>0</td>\n",
       "      <td>hotel_review-g10006284-d1083311-reviews-the_re...</td>\n",
       "      <td>Excellent luxury hotel. Awesome rooms and serv...</td>\n",
       "      <td>Great pool.Beautiful beach.Great room.Friendly...</td>\n",
       "    </tr>\n",
       "    <tr>\n",
       "      <td>1</td>\n",
       "      <td>hotel_review-g10006284-d151184-reviews-club_me...</td>\n",
       "      <td>Excellent hotel. Good for sightseeing. Fantast...</td>\n",
       "      <td>Great location with excellent sightseeing.Awes...</td>\n",
       "    </tr>\n",
       "    <tr>\n",
       "      <td>2</td>\n",
       "      <td>hotel_review-g10006284-d151225-reviews-ports_o...</td>\n",
       "      <td>Very good beach hotel. Fantastic service. Grea...</td>\n",
       "      <td>Great location. Great nearby restaurants, bars...</td>\n",
       "    </tr>\n",
       "    <tr>\n",
       "      <td>3</td>\n",
       "      <td>hotel_review-g10006284-d151307-reviews-the_san...</td>\n",
       "      <td>Excellent romantic hotel. Great rooms in excel...</td>\n",
       "      <td>Great location. Near to the city centre with g...</td>\n",
       "    </tr>\n",
       "    <tr>\n",
       "      <td>4</td>\n",
       "      <td>hotel_review-g10006284-d185069-reviews-point_g...</td>\n",
       "      <td>Excellent beach hotel. Great rooms in excellen...</td>\n",
       "      <td>Beautiful beach.Great location.Great amenities...</td>\n",
       "    </tr>\n",
       "    <tr>\n",
       "      <td>...</td>\n",
       "      <td>...</td>\n",
       "      <td>...</td>\n",
       "      <td>...</td>\n",
       "    </tr>\n",
       "    <tr>\n",
       "      <td>25085</td>\n",
       "      <td>hotel_review-g982696-d192581-reviews-brandshat...</td>\n",
       "      <td>Very good business hotel. Easily accessible by...</td>\n",
       "      <td>Great location and easy parking.Professional s...</td>\n",
       "    </tr>\n",
       "    <tr>\n",
       "      <td>25086</td>\n",
       "      <td>hotel_review-g982708-d949876-reviews-horse_far...</td>\n",
       "      <td>Excellent hotel.</td>\n",
       "      <td>Professional, friendly service, and great rece...</td>\n",
       "    </tr>\n",
       "    <tr>\n",
       "      <td>25087</td>\n",
       "      <td>hotel_review-g982822-d1145370-reviews-grand_ho...</td>\n",
       "      <td>Excellent luxury hotel. Close to parking areas...</td>\n",
       "      <td>Nice bar with tasty alcoholic drinks.Great wel...</td>\n",
       "    </tr>\n",
       "    <tr>\n",
       "      <td>25088</td>\n",
       "      <td>hotel_review-g983750-d1076574-reviews-holiday_...</td>\n",
       "      <td>Very good hotel for solo travelers. Close to t...</td>\n",
       "      <td>Efficient, friendly service with a nice recept...</td>\n",
       "    </tr>\n",
       "    <tr>\n",
       "      <td>25089</td>\n",
       "      <td>hotel_review-g9866748-d1646912-reviews-heritag...</td>\n",
       "      <td>Excellent accommodation. Located near shopping...</td>\n",
       "      <td>Great location with good parking availability....</td>\n",
       "    </tr>\n",
       "  </tbody>\n",
       "</table>\n",
       "<p>25090 rows × 3 columns</p>\n",
       "</div>"
      ],
      "text/plain": [
       "                                               hotel_url  \\\n",
       "0      hotel_review-g10006284-d1083311-reviews-the_re...   \n",
       "1      hotel_review-g10006284-d151184-reviews-club_me...   \n",
       "2      hotel_review-g10006284-d151225-reviews-ports_o...   \n",
       "3      hotel_review-g10006284-d151307-reviews-the_san...   \n",
       "4      hotel_review-g10006284-d185069-reviews-point_g...   \n",
       "...                                                  ...   \n",
       "25085  hotel_review-g982696-d192581-reviews-brandshat...   \n",
       "25086  hotel_review-g982708-d949876-reviews-horse_far...   \n",
       "25087  hotel_review-g982822-d1145370-reviews-grand_ho...   \n",
       "25088  hotel_review-g983750-d1076574-reviews-holiday_...   \n",
       "25089  hotel_review-g9866748-d1646912-reviews-heritag...   \n",
       "\n",
       "                                           short_summary  \\\n",
       "0      Excellent luxury hotel. Awesome rooms and serv...   \n",
       "1      Excellent hotel. Good for sightseeing. Fantast...   \n",
       "2      Very good beach hotel. Fantastic service. Grea...   \n",
       "3      Excellent romantic hotel. Great rooms in excel...   \n",
       "4      Excellent beach hotel. Great rooms in excellen...   \n",
       "...                                                  ...   \n",
       "25085  Very good business hotel. Easily accessible by...   \n",
       "25086                                   Excellent hotel.   \n",
       "25087  Excellent luxury hotel. Close to parking areas...   \n",
       "25088  Very good hotel for solo travelers. Close to t...   \n",
       "25089  Excellent accommodation. Located near shopping...   \n",
       "\n",
       "                                            long_summary  \n",
       "0      Great pool.Beautiful beach.Great room.Friendly...  \n",
       "1      Great location with excellent sightseeing.Awes...  \n",
       "2      Great location. Great nearby restaurants, bars...  \n",
       "3      Great location. Near to the city centre with g...  \n",
       "4      Beautiful beach.Great location.Great amenities...  \n",
       "...                                                  ...  \n",
       "25085  Great location and easy parking.Professional s...  \n",
       "25086  Professional, friendly service, and great rece...  \n",
       "25087  Nice bar with tasty alcoholic drinks.Great wel...  \n",
       "25088  Efficient, friendly service with a nice recept...  \n",
       "25089  Great location with good parking availability....  \n",
       "\n",
       "[25090 rows x 3 columns]"
      ]
     },
     "execution_count": 14,
     "metadata": {},
     "output_type": "execute_result"
    }
   ],
   "source": [
    "business_df"
   ]
  },
  {
   "cell_type": "code",
   "execution_count": null,
   "metadata": {},
   "outputs": [],
   "source": []
  },
  {
   "cell_type": "code",
   "execution_count": 15,
   "metadata": {
    "ExecuteTime": {
     "end_time": "2020-06-02T02:48:15.137856Z",
     "start_time": "2020-06-02T02:47:58.976634Z"
    }
   },
   "outputs": [],
   "source": [
    "#output to json\n",
    "review_df.to_json(os.path.join(dataset_path,'review.json'),orient='records')\n",
    "business_df.to_json(os.path.join(dataset_path,'business.json'),orient='records')"
   ]
  },
  {
   "cell_type": "code",
   "execution_count": null,
   "metadata": {},
   "outputs": [],
   "source": []
  },
  {
   "cell_type": "code",
   "execution_count": null,
   "metadata": {},
   "outputs": [],
   "source": []
  },
  {
   "cell_type": "code",
   "execution_count": null,
   "metadata": {},
   "outputs": [],
   "source": []
  },
  {
   "cell_type": "code",
   "execution_count": null,
   "metadata": {},
   "outputs": [],
   "source": []
  },
  {
   "cell_type": "code",
   "execution_count": null,
   "metadata": {},
   "outputs": [],
   "source": []
  },
  {
   "cell_type": "code",
   "execution_count": null,
   "metadata": {},
   "outputs": [],
   "source": []
  },
  {
   "cell_type": "code",
   "execution_count": null,
   "metadata": {},
   "outputs": [],
   "source": []
  }
 ],
 "metadata": {
  "kernelspec": {
   "display_name": "Python 3",
   "language": "python",
   "name": "python3"
  },
  "language_info": {
   "codemirror_mode": {
    "name": "ipython",
    "version": 3
   },
   "file_extension": ".py",
   "mimetype": "text/x-python",
   "name": "python",
   "nbconvert_exporter": "python",
   "pygments_lexer": "ipython3",
   "version": "3.7.4"
  }
 },
 "nbformat": 4,
 "nbformat_minor": 2
}
