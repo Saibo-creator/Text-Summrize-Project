{
 "cells": [
  {
   "cell_type": "code",
   "execution_count": 1,
   "metadata": {
    "ExecuteTime": {
     "end_time": "2020-04-21T16:45:19.804334Z",
     "start_time": "2020-04-21T16:45:19.550589Z"
    }
   },
   "outputs": [],
   "source": [
    "import numpy as np\n",
    "class Solution(object):\n",
    "    def isValidSudoku(self, board):\n",
    "        \"\"\"\n",
    "        :type board: List[List[str]]\n",
    "        :rtype: bool\n",
    "        \"\"\"\n",
    "        board=np.array(board)\n",
    "        judge=1\n",
    "        for i in range(9):\n",
    "            judge*=self.test_one_rwo_col(board[:,i])\n",
    "            judge*=self.test_one_rwo_col(board[i,:])\n",
    "            div=i//3\n",
    "            rest=i%3\n",
    "            judge*=self.test_one_bloc(div,rest,board)\n",
    "        return judge\n",
    "        \n",
    "    def test_one_rwo_col(self,l):\n",
    "        l=[el for el in l if el != '.']\n",
    "        return len(l)==len(set(l))\n",
    "\n",
    "    def test_one_bloc(self,row,col,board):\n",
    "        sub=board[3*row:3*row+3,3*col:3*col+3].reshape(9,-1).squeeze()\n",
    "        return self.test_one_rwo_col(sub)"
   ]
  },
  {
   "cell_type": "code",
   "execution_count": 2,
   "metadata": {
    "ExecuteTime": {
     "end_time": "2020-04-21T16:45:20.234587Z",
     "start_time": "2020-04-21T16:45:20.227946Z"
    }
   },
   "outputs": [],
   "source": [
    "board=[\n",
    "  [\"8\",\"3\",\".\",\".\",\"7\",\".\",\".\",\".\",\".\"],\n",
    "  [\"6\",\".\",\".\",\"1\",\"9\",\"5\",\".\",\".\",\".\"],\n",
    "  [\".\",\"9\",\"8\",\".\",\".\",\".\",\".\",\"6\",\".\"],\n",
    "  [\"8\",\".\",\".\",\".\",\"6\",\".\",\".\",\".\",\"3\"],\n",
    "  [\"4\",\".\",\".\",\"8\",\".\",\"3\",\".\",\".\",\"1\"],\n",
    "  [\"7\",\".\",\".\",\".\",\"2\",\".\",\".\",\".\",\"6\"],\n",
    "  [\".\",\"6\",\".\",\".\",\".\",\".\",\"2\",\"8\",\".\"],\n",
    "  [\".\",\".\",\".\",\"4\",\"1\",\"9\",\".\",\".\",\"5\"],\n",
    "  [\".\",\".\",\".\",\".\",\"8\",\".\",\".\",\"7\",\"9\"]\n",
    "]"
   ]
  },
  {
   "cell_type": "code",
   "execution_count": 3,
   "metadata": {
    "ExecuteTime": {
     "end_time": "2020-04-21T16:45:20.674303Z",
     "start_time": "2020-04-21T16:45:20.663843Z"
    }
   },
   "outputs": [
    {
     "data": {
      "text/plain": [
       "0"
      ]
     },
     "execution_count": 3,
     "metadata": {},
     "output_type": "execute_result"
    }
   ],
   "source": [
    "sol=Solution()\n",
    "sol.isValidSudoku(board)"
   ]
  },
  {
   "cell_type": "code",
   "execution_count": 23,
   "metadata": {
    "ExecuteTime": {
     "end_time": "2020-04-21T16:26:23.246979Z",
     "start_time": "2020-04-21T16:26:23.244205Z"
    }
   },
   "outputs": [],
   "source": [
    "board=np.array(board)"
   ]
  },
  {
   "cell_type": "code",
   "execution_count": 24,
   "metadata": {
    "ExecuteTime": {
     "end_time": "2020-04-21T16:26:23.441883Z",
     "start_time": "2020-04-21T16:26:23.437563Z"
    },
    "scrolled": true
   },
   "outputs": [
    {
     "data": {
      "text/plain": [
       "array([['8', '3', '.', '.', '7', '.', '.', '.', '.'],\n",
       "       ['6', '.', '.', '1', '9', '5', '.', '.', '.'],\n",
       "       ['.', '9', '8', '.', '.', '.', '.', '6', '.'],\n",
       "       ['8', '.', '.', '.', '6', '.', '.', '.', '3'],\n",
       "       ['4', '.', '.', '8', '.', '3', '.', '.', '1'],\n",
       "       ['7', '.', '.', '.', '2', '.', '.', '.', '6'],\n",
       "       ['.', '6', '.', '.', '.', '.', '2', '8', '.'],\n",
       "       ['.', '.', '.', '4', '1', '9', '.', '.', '5'],\n",
       "       ['.', '.', '.', '.', '8', '.', '.', '7', '9']], dtype='<U1')"
      ]
     },
     "execution_count": 24,
     "metadata": {},
     "output_type": "execute_result"
    }
   ],
   "source": [
    "board"
   ]
  },
  {
   "cell_type": "code",
   "execution_count": 62,
   "metadata": {
    "ExecuteTime": {
     "end_time": "2020-04-21T16:37:46.208777Z",
     "start_time": "2020-04-21T16:37:46.203433Z"
    }
   },
   "outputs": [],
   "source": []
  },
  {
   "cell_type": "code",
   "execution_count": 63,
   "metadata": {
    "ExecuteTime": {
     "end_time": "2020-04-21T16:37:46.444346Z",
     "start_time": "2020-04-21T16:37:46.437293Z"
    }
   },
   "outputs": [
    {
     "name": "stdout",
     "output_type": "stream",
     "text": [
      "['8' '3' '.' '6' '.' '.' '.' '9' '8']\n",
      "['.' '7' '.' '1' '9' '5' '.' '.' '.']\n",
      "['.' '.' '.' '.' '.' '.' '.' '6' '.']\n",
      "['8' '.' '.' '4' '.' '.' '7' '.' '.']\n",
      "['.' '6' '.' '8' '.' '3' '.' '2' '.']\n",
      "['.' '.' '3' '.' '.' '1' '.' '.' '6']\n",
      "['.' '6' '.' '.' '.' '.' '.' '.' '.']\n",
      "['.' '.' '.' '4' '1' '9' '.' '8' '.']\n",
      "['2' '8' '.' '.' '.' '5' '.' '7' '9']\n",
      "0\n"
     ]
    }
   ],
   "source": [
    "judge=1\n",
    "for i in range(9):\n",
    "    judge*=test_one_rwo_col(board[:,i])\n",
    "    judge*=test_one_rwo_col(board[i,:])\n",
    "    div=i//3\n",
    "    rest=i%3\n",
    "    test_one_bloc(div,rest)\n",
    "print(judge)"
   ]
  },
  {
   "cell_type": "code",
   "execution_count": null,
   "metadata": {},
   "outputs": [],
   "source": [
    "rpi"
   ]
  },
  {
   "cell_type": "code",
   "execution_count": null,
   "metadata": {},
   "outputs": [],
   "source": []
  },
  {
   "cell_type": "code",
   "execution_count": null,
   "metadata": {},
   "outputs": [],
   "source": []
  },
  {
   "cell_type": "code",
   "execution_count": null,
   "metadata": {},
   "outputs": [],
   "source": []
  },
  {
   "cell_type": "code",
   "execution_count": 9,
   "metadata": {
    "ExecuteTime": {
     "end_time": "2020-04-21T16:21:27.278223Z",
     "start_time": "2020-04-21T16:21:27.274374Z"
    }
   },
   "outputs": [],
   "source": [
    "board[board=='.']=0"
   ]
  },
  {
   "cell_type": "code",
   "execution_count": 12,
   "metadata": {
    "ExecuteTime": {
     "end_time": "2020-04-21T16:21:53.477841Z",
     "start_time": "2020-04-21T16:21:53.474428Z"
    }
   },
   "outputs": [],
   "source": [
    "board=board.astype(int)"
   ]
  },
  {
   "cell_type": "code",
   "execution_count": 13,
   "metadata": {
    "ExecuteTime": {
     "end_time": "2020-04-21T16:21:57.056554Z",
     "start_time": "2020-04-21T16:21:57.051596Z"
    }
   },
   "outputs": [
    {
     "data": {
      "text/plain": [
       "array([[8, 3, 0, 0, 7, 0, 0, 0, 0],\n",
       "       [6, 0, 0, 1, 9, 5, 0, 0, 0],\n",
       "       [0, 9, 8, 0, 0, 0, 0, 6, 0],\n",
       "       [8, 0, 0, 0, 6, 0, 0, 0, 3],\n",
       "       [4, 0, 0, 8, 0, 3, 0, 0, 1],\n",
       "       [7, 0, 0, 0, 2, 0, 0, 0, 6],\n",
       "       [0, 6, 0, 0, 0, 0, 2, 8, 0],\n",
       "       [0, 0, 0, 4, 1, 9, 0, 0, 5],\n",
       "       [0, 0, 0, 0, 8, 0, 0, 7, 9]])"
      ]
     },
     "execution_count": 13,
     "metadata": {},
     "output_type": "execute_result"
    }
   ],
   "source": [
    "board"
   ]
  },
  {
   "cell_type": "code",
   "execution_count": null,
   "metadata": {},
   "outputs": [],
   "source": [
    "board"
   ]
  }
 ],
 "metadata": {
  "kernelspec": {
   "display_name": "Python 3",
   "language": "python",
   "name": "python3"
  },
  "language_info": {
   "codemirror_mode": {
    "name": "ipython",
    "version": 3
   },
   "file_extension": ".py",
   "mimetype": "text/x-python",
   "name": "python",
   "nbconvert_exporter": "python",
   "pygments_lexer": "ipython3",
   "version": "3.7.4"
  }
 },
 "nbformat": 4,
 "nbformat_minor": 2
}
