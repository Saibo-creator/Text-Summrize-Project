{
 "cells": [
  {
   "cell_type": "code",
   "execution_count": 1,
   "metadata": {
    "ExecuteTime": {
     "end_time": "2020-02-21T10:05:56.187918Z",
     "start_time": "2020-02-21T10:05:55.362829Z"
    }
   },
   "outputs": [],
   "source": [
    "import pandas as pd\n",
    "import numpy as np"
   ]
  },
  {
   "cell_type": "markdown",
   "metadata": {},
   "source": [
    "## check data"
   ]
  },
  {
   "cell_type": "code",
   "execution_count": 2,
   "metadata": {
    "ExecuteTime": {
     "end_time": "2020-02-21T10:06:03.155332Z",
     "start_time": "2020-02-21T10:05:56.791432Z"
    }
   },
   "outputs": [],
   "source": [
    "test=pd.read_csv('./test.csv')\n",
    "tetrainst=pd.read_csv('./test.csv')"
   ]
  },
  {
   "cell_type": "code",
   "execution_count": 3,
   "metadata": {
    "ExecuteTime": {
     "end_time": "2020-02-21T10:06:03.428174Z",
     "start_time": "2020-02-21T10:06:03.157372Z"
    }
   },
   "outputs": [
    {
     "name": "stdout",
     "output_type": "stream",
     "text": [
      "<class 'pandas.core.frame.DataFrame'>\n",
      "RangeIndex: 257186 entries, 0 to 257185\n",
      "Data columns (total 28 columns):\n",
      "Unnamed: 0                      257186 non-null int64\n",
      "Unnamed: 0.1                    257186 non-null int64\n",
      "Unnamed: 0.1.1                  257186 non-null int64\n",
      "author                          257186 non-null object\n",
      "hotel_url                       257186 non-null object\n",
      "property_dict                   257186 non-null object\n",
      "rating                          257186 non-null float64\n",
      "text                            257186 non-null object\n",
      "timeStruct                      257186 non-null object\n",
      "timeUnix                        257186 non-null int64\n",
      "service                         257186 non-null float64\n",
      "cleanliness                     257186 non-null float64\n",
      "rooms                           257186 non-null float64\n",
      "value                           257186 non-null float64\n",
      "location                        257186 non-null float64\n",
      "bin_service                     257186 non-null float64\n",
      "bin_cleanliness                 257186 non-null float64\n",
      "bin_rooms                       257186 non-null float64\n",
      "bin_value                       257186 non-null float64\n",
      "bin_location                    257186 non-null float64\n",
      "bin_rating                      257186 non-null float64\n",
      "text_filtered_per_sentence      257186 non-null object\n",
      "aspect_filtered_per_sentence    257186 non-null object\n",
      "text_filtered_per_relation      257186 non-null object\n",
      "aspect_filtered_per_relation    257186 non-null object\n",
      "rel_filtered_per_relation       257186 non-null object\n",
      "set_kw                          257186 non-null object\n",
      "id                              257186 non-null int64\n",
      "dtypes: float64(12), int64(5), object(11)\n",
      "memory usage: 54.9+ MB\n"
     ]
    }
   ],
   "source": [
    "test.info()"
   ]
  },
  {
   "cell_type": "code",
   "execution_count": 5,
   "metadata": {
    "ExecuteTime": {
     "end_time": "2020-02-20T14:18:01.895873Z",
     "start_time": "2020-02-20T14:18:01.872622Z"
    }
   },
   "outputs": [
    {
     "data": {
      "text/html": [
       "<div>\n",
       "<style scoped>\n",
       "    .dataframe tbody tr th:only-of-type {\n",
       "        vertical-align: middle;\n",
       "    }\n",
       "\n",
       "    .dataframe tbody tr th {\n",
       "        vertical-align: top;\n",
       "    }\n",
       "\n",
       "    .dataframe thead th {\n",
       "        text-align: right;\n",
       "    }\n",
       "</style>\n",
       "<table border=\"1\" class=\"dataframe\">\n",
       "  <thead>\n",
       "    <tr style=\"text-align: right;\">\n",
       "      <th></th>\n",
       "      <th>Unnamed: 0</th>\n",
       "      <th>Unnamed: 0.1</th>\n",
       "      <th>Unnamed: 0.1.1</th>\n",
       "      <th>author</th>\n",
       "      <th>hotel_url</th>\n",
       "      <th>property_dict</th>\n",
       "      <th>rating</th>\n",
       "      <th>text</th>\n",
       "      <th>timeStruct</th>\n",
       "      <th>timeUnix</th>\n",
       "      <th>...</th>\n",
       "      <th>bin_value</th>\n",
       "      <th>bin_location</th>\n",
       "      <th>bin_rating</th>\n",
       "      <th>text_filtered_per_sentence</th>\n",
       "      <th>aspect_filtered_per_sentence</th>\n",
       "      <th>text_filtered_per_relation</th>\n",
       "      <th>aspect_filtered_per_relation</th>\n",
       "      <th>rel_filtered_per_relation</th>\n",
       "      <th>set_kw</th>\n",
       "      <th>id</th>\n",
       "    </tr>\n",
       "  </thead>\n",
       "  <tbody>\n",
       "    <tr>\n",
       "      <td>0</td>\n",
       "      <td>2017872</td>\n",
       "      <td>43714034</td>\n",
       "      <td>43714034</td>\n",
       "      <td>Azurian</td>\n",
       "      <td>Hotel_Review-g552009-d11668074-Reviews-Premier...</td>\n",
       "      <td>{'cleanliness': 4.0, 'service': 4.0, 'value': ...</td>\n",
       "      <td>4.0</td>\n",
       "      <td>Clean, cheap if you book 10 days in advance an...</td>\n",
       "      <td>2018-08-01 00:00:00</td>\n",
       "      <td>1533074400</td>\n",
       "      <td>...</td>\n",
       "      <td>1.0</td>\n",
       "      <td>-1.0</td>\n",
       "      <td>0.0</td>\n",
       "      <td>['clean , cheap if you book 10 days in advance...</td>\n",
       "      <td>[4, 3, 3]</td>\n",
       "      <td>['only a 15 minute walk to the top of the town...</td>\n",
       "      <td>[3, 0, 3, 3, 3]</td>\n",
       "      <td>['15 minute walk  -(to)-&gt; top', 'many choices ...</td>\n",
       "      <td>{480, 896, 903, 176, 848}</td>\n",
       "      <td>2017872</td>\n",
       "    </tr>\n",
       "    <tr>\n",
       "      <td>1</td>\n",
       "      <td>1502188</td>\n",
       "      <td>28885530</td>\n",
       "      <td>28885530</td>\n",
       "      <td>Azurian</td>\n",
       "      <td>Hotel_Review-g1234491-d289570-Reviews-Hotel_Av...</td>\n",
       "      <td>{'sleep quality': 3.0, 'service': 4.0, 'value'...</td>\n",
       "      <td>3.0</td>\n",
       "      <td>Unfortunately the accommodation doesn't come u...</td>\n",
       "      <td>2018-09-01 00:00:00</td>\n",
       "      <td>1535752800</td>\n",
       "      <td>...</td>\n",
       "      <td>0.0</td>\n",
       "      <td>-1.0</td>\n",
       "      <td>0.0</td>\n",
       "      <td>[\"unfortunately the accommodation does n't com...</td>\n",
       "      <td>[1, 3, 3, 2, 3, 1]</td>\n",
       "      <td>['the free shuttle from the airport', 'the fre...</td>\n",
       "      <td>[3, 3, 3, 2, 3, 3, 3, 1]</td>\n",
       "      <td>['free shuttle  -(from)-&gt; airport', 'great  -(...</td>\n",
       "      <td>{768, 960, 176, 785, 272, 784, 180}</td>\n",
       "      <td>1502188</td>\n",
       "    </tr>\n",
       "    <tr>\n",
       "      <td>2</td>\n",
       "      <td>1527639</td>\n",
       "      <td>29827675</td>\n",
       "      <td>29827675</td>\n",
       "      <td>Azurian</td>\n",
       "      <td>Hotel_Review-g295415-d2044185-Reviews-Villa_Na...</td>\n",
       "      <td>{'rooms': 5.0, 'cleanliness': 5.0, 'service': ...</td>\n",
       "      <td>5.0</td>\n",
       "      <td>We stayed for 4 nights but really should have ...</td>\n",
       "      <td>2018-01-01 00:00:00</td>\n",
       "      <td>1514761200</td>\n",
       "      <td>...</td>\n",
       "      <td>-1.0</td>\n",
       "      <td>-1.0</td>\n",
       "      <td>1.0</td>\n",
       "      <td>['villa nagara is a lovely place to stay and c...</td>\n",
       "      <td>[4, 3, 4, 0, 0, 3]</td>\n",
       "      <td>['a lovely place to stay and chill', 'our room...</td>\n",
       "      <td>[3, 4, 4, 0, 0, 3, 3]</td>\n",
       "      <td>['lovely  -(amod)-&gt; place', 'lovely  -(acomp-n...</td>\n",
       "      <td>{0, 768, 1121, 1120, 960, 775, 973, 976, 977}</td>\n",
       "      <td>1527639</td>\n",
       "    </tr>\n",
       "  </tbody>\n",
       "</table>\n",
       "<p>3 rows × 28 columns</p>\n",
       "</div>"
      ],
      "text/plain": [
       "   Unnamed: 0  Unnamed: 0.1  Unnamed: 0.1.1   author  \\\n",
       "0     2017872      43714034        43714034  Azurian   \n",
       "1     1502188      28885530        28885530  Azurian   \n",
       "2     1527639      29827675        29827675  Azurian   \n",
       "\n",
       "                                           hotel_url  \\\n",
       "0  Hotel_Review-g552009-d11668074-Reviews-Premier...   \n",
       "1  Hotel_Review-g1234491-d289570-Reviews-Hotel_Av...   \n",
       "2  Hotel_Review-g295415-d2044185-Reviews-Villa_Na...   \n",
       "\n",
       "                                       property_dict  rating  \\\n",
       "0  {'cleanliness': 4.0, 'service': 4.0, 'value': ...     4.0   \n",
       "1  {'sleep quality': 3.0, 'service': 4.0, 'value'...     3.0   \n",
       "2  {'rooms': 5.0, 'cleanliness': 5.0, 'service': ...     5.0   \n",
       "\n",
       "                                                text           timeStruct  \\\n",
       "0  Clean, cheap if you book 10 days in advance an...  2018-08-01 00:00:00   \n",
       "1  Unfortunately the accommodation doesn't come u...  2018-09-01 00:00:00   \n",
       "2  We stayed for 4 nights but really should have ...  2018-01-01 00:00:00   \n",
       "\n",
       "     timeUnix  ...  bin_value  bin_location  bin_rating  \\\n",
       "0  1533074400  ...        1.0          -1.0         0.0   \n",
       "1  1535752800  ...        0.0          -1.0         0.0   \n",
       "2  1514761200  ...       -1.0          -1.0         1.0   \n",
       "\n",
       "                          text_filtered_per_sentence  \\\n",
       "0  ['clean , cheap if you book 10 days in advance...   \n",
       "1  [\"unfortunately the accommodation does n't com...   \n",
       "2  ['villa nagara is a lovely place to stay and c...   \n",
       "\n",
       "   aspect_filtered_per_sentence  \\\n",
       "0                     [4, 3, 3]   \n",
       "1            [1, 3, 3, 2, 3, 1]   \n",
       "2            [4, 3, 4, 0, 0, 3]   \n",
       "\n",
       "                          text_filtered_per_relation  \\\n",
       "0  ['only a 15 minute walk to the top of the town...   \n",
       "1  ['the free shuttle from the airport', 'the fre...   \n",
       "2  ['a lovely place to stay and chill', 'our room...   \n",
       "\n",
       "   aspect_filtered_per_relation  \\\n",
       "0               [3, 0, 3, 3, 3]   \n",
       "1      [3, 3, 3, 2, 3, 3, 3, 1]   \n",
       "2         [3, 4, 4, 0, 0, 3, 3]   \n",
       "\n",
       "                           rel_filtered_per_relation  \\\n",
       "0  ['15 minute walk  -(to)-> top', 'many choices ...   \n",
       "1  ['free shuttle  -(from)-> airport', 'great  -(...   \n",
       "2  ['lovely  -(amod)-> place', 'lovely  -(acomp-n...   \n",
       "\n",
       "                                          set_kw       id  \n",
       "0                      {480, 896, 903, 176, 848}  2017872  \n",
       "1            {768, 960, 176, 785, 272, 784, 180}  1502188  \n",
       "2  {0, 768, 1121, 1120, 960, 775, 973, 976, 977}  1527639  \n",
       "\n",
       "[3 rows x 28 columns]"
      ]
     },
     "execution_count": 5,
     "metadata": {},
     "output_type": "execute_result"
    }
   ],
   "source": [
    "test.head(3)"
   ]
  },
  {
   "cell_type": "code",
   "execution_count": 13,
   "metadata": {
    "ExecuteTime": {
     "end_time": "2020-02-19T07:36:47.409887Z",
     "start_time": "2020-02-19T07:36:47.405113Z"
    }
   },
   "outputs": [
    {
     "data": {
      "text/plain": [
       "'Hotel_Review-g552009-d11668074-Reviews-Premier_Inn_Monmouth_Hotel-Monmouth_Monmouthshire_South_Wales_Wales.html'"
      ]
     },
     "execution_count": 13,
     "metadata": {},
     "output_type": "execute_result"
    }
   ],
   "source": [
    "test.iloc[0,4]"
   ]
  },
  {
   "cell_type": "code",
   "execution_count": 24,
   "metadata": {
    "ExecuteTime": {
     "end_time": "2020-02-19T07:40:57.266990Z",
     "start_time": "2020-02-19T07:40:57.261895Z"
    }
   },
   "outputs": [
    {
     "data": {
      "text/plain": [
       "\"{'cleanliness': 4.0, 'service': 4.0, 'value': 5.0}\""
      ]
     },
     "execution_count": 24,
     "metadata": {},
     "output_type": "execute_result"
    }
   ],
   "source": [
    "test.iloc[0,5]"
   ]
  },
  {
   "cell_type": "code",
   "execution_count": 26,
   "metadata": {
    "ExecuteTime": {
     "end_time": "2020-02-19T07:41:14.981918Z",
     "start_time": "2020-02-19T07:41:14.977479Z"
    }
   },
   "outputs": [
    {
     "data": {
      "text/plain": [
       "'Clean, cheap if you book 10 days in advance and comfortable. Only a 15 minute walk to the top of the town with many choices for breakfast and evening meals. A very good base for exploring he local area, with Ross on Wye, Hay on Wye and Brecon a short drive away. No omplaints!.'"
      ]
     },
     "execution_count": 26,
     "metadata": {},
     "output_type": "execute_result"
    }
   ],
   "source": [
    "test.iloc[0,7]"
   ]
  },
  {
   "cell_type": "code",
   "execution_count": 35,
   "metadata": {
    "ExecuteTime": {
     "end_time": "2020-02-19T07:45:32.895140Z",
     "start_time": "2020-02-19T07:45:32.857549Z"
    }
   },
   "outputs": [
    {
     "data": {
      "text/html": [
       "<div>\n",
       "<style scoped>\n",
       "    .dataframe tbody tr th:only-of-type {\n",
       "        vertical-align: middle;\n",
       "    }\n",
       "\n",
       "    .dataframe tbody tr th {\n",
       "        vertical-align: top;\n",
       "    }\n",
       "\n",
       "    .dataframe thead th {\n",
       "        text-align: right;\n",
       "    }\n",
       "</style>\n",
       "<table border=\"1\" class=\"dataframe\">\n",
       "  <thead>\n",
       "    <tr style=\"text-align: right;\">\n",
       "      <th></th>\n",
       "      <th>service</th>\n",
       "      <th>location</th>\n",
       "      <th>bin_service</th>\n",
       "    </tr>\n",
       "  </thead>\n",
       "  <tbody>\n",
       "    <tr>\n",
       "      <td>0</td>\n",
       "      <td>4.0</td>\n",
       "      <td>-1.0</td>\n",
       "      <td>0.0</td>\n",
       "    </tr>\n",
       "    <tr>\n",
       "      <td>1</td>\n",
       "      <td>4.0</td>\n",
       "      <td>-1.0</td>\n",
       "      <td>0.0</td>\n",
       "    </tr>\n",
       "    <tr>\n",
       "      <td>2</td>\n",
       "      <td>5.0</td>\n",
       "      <td>-1.0</td>\n",
       "      <td>1.0</td>\n",
       "    </tr>\n",
       "    <tr>\n",
       "      <td>3</td>\n",
       "      <td>-1.0</td>\n",
       "      <td>5.0</td>\n",
       "      <td>-1.0</td>\n",
       "    </tr>\n",
       "    <tr>\n",
       "      <td>4</td>\n",
       "      <td>4.0</td>\n",
       "      <td>-1.0</td>\n",
       "      <td>0.0</td>\n",
       "    </tr>\n",
       "    <tr>\n",
       "      <td>...</td>\n",
       "      <td>...</td>\n",
       "      <td>...</td>\n",
       "      <td>...</td>\n",
       "    </tr>\n",
       "    <tr>\n",
       "      <td>257181</td>\n",
       "      <td>5.0</td>\n",
       "      <td>5.0</td>\n",
       "      <td>1.0</td>\n",
       "    </tr>\n",
       "    <tr>\n",
       "      <td>257182</td>\n",
       "      <td>5.0</td>\n",
       "      <td>5.0</td>\n",
       "      <td>1.0</td>\n",
       "    </tr>\n",
       "    <tr>\n",
       "      <td>257183</td>\n",
       "      <td>5.0</td>\n",
       "      <td>5.0</td>\n",
       "      <td>1.0</td>\n",
       "    </tr>\n",
       "    <tr>\n",
       "      <td>257184</td>\n",
       "      <td>5.0</td>\n",
       "      <td>5.0</td>\n",
       "      <td>1.0</td>\n",
       "    </tr>\n",
       "    <tr>\n",
       "      <td>257185</td>\n",
       "      <td>5.0</td>\n",
       "      <td>5.0</td>\n",
       "      <td>1.0</td>\n",
       "    </tr>\n",
       "  </tbody>\n",
       "</table>\n",
       "<p>257186 rows × 3 columns</p>\n",
       "</div>"
      ],
      "text/plain": [
       "        service  location  bin_service\n",
       "0           4.0      -1.0          0.0\n",
       "1           4.0      -1.0          0.0\n",
       "2           5.0      -1.0          1.0\n",
       "3          -1.0       5.0         -1.0\n",
       "4           4.0      -1.0          0.0\n",
       "...         ...       ...          ...\n",
       "257181      5.0       5.0          1.0\n",
       "257182      5.0       5.0          1.0\n",
       "257183      5.0       5.0          1.0\n",
       "257184      5.0       5.0          1.0\n",
       "257185      5.0       5.0          1.0\n",
       "\n",
       "[257186 rows x 3 columns]"
      ]
     },
     "execution_count": 35,
     "metadata": {},
     "output_type": "execute_result"
    }
   ],
   "source": [
    "test[['service','location','bin_service']]"
   ]
  },
  {
   "cell_type": "code",
   "execution_count": 48,
   "metadata": {
    "ExecuteTime": {
     "end_time": "2020-02-19T08:40:27.018265Z",
     "start_time": "2020-02-19T08:40:26.992947Z"
    }
   },
   "outputs": [
    {
     "data": {
      "text/plain": [
       "array([ 4.,  5., -1.,  3.,  2.,  1.])"
      ]
     },
     "execution_count": 48,
     "metadata": {},
     "output_type": "execute_result"
    }
   ],
   "source": [
    "test['service'].unique()"
   ]
  },
  {
   "cell_type": "code",
   "execution_count": 49,
   "metadata": {
    "ExecuteTime": {
     "end_time": "2020-02-19T08:40:47.824951Z",
     "start_time": "2020-02-19T08:40:47.794362Z"
    }
   },
   "outputs": [
    {
     "data": {
      "text/plain": [
       "array([ 0.,  1., -1.])"
      ]
     },
     "execution_count": 49,
     "metadata": {},
     "output_type": "execute_result"
    }
   ],
   "source": [
    "test['bin_service'].unique()"
   ]
  },
  {
   "cell_type": "code",
   "execution_count": 37,
   "metadata": {
    "ExecuteTime": {
     "end_time": "2020-02-19T07:56:06.699924Z",
     "start_time": "2020-02-19T07:56:06.657291Z"
    }
   },
   "outputs": [
    {
     "data": {
      "text/plain": [
       "\"['clean , cheap if you book 10 days in advance and comfortable .', 'only a 15 minute walk to the top of the town with many choices for breakfast and evening meals .', 'a very good base for exploring he local area , with ross on wye , hay on wye and brecon a short drive away .']\""
      ]
     },
     "execution_count": 37,
     "metadata": {},
     "output_type": "execute_result"
    }
   ],
   "source": [
    "test['text_filtered_per_sentence'][0]"
   ]
  },
  {
   "cell_type": "code",
   "execution_count": 38,
   "metadata": {
    "ExecuteTime": {
     "end_time": "2020-02-19T07:56:28.542891Z",
     "start_time": "2020-02-19T07:56:28.533731Z"
    }
   },
   "outputs": [
    {
     "data": {
      "text/plain": [
       "'Clean, cheap if you book 10 days in advance and comfortable. Only a 15 minute walk to the top of the town with many choices for breakfast and evening meals. A very good base for exploring he local area, with Ross on Wye, Hay on Wye and Brecon a short drive away. No omplaints!.'"
      ]
     },
     "execution_count": 38,
     "metadata": {},
     "output_type": "execute_result"
    }
   ],
   "source": [
    "test['text'][0]"
   ]
  },
  {
   "cell_type": "code",
   "execution_count": 39,
   "metadata": {
    "ExecuteTime": {
     "end_time": "2020-02-19T07:56:56.337014Z",
     "start_time": "2020-02-19T07:56:56.327832Z"
    }
   },
   "outputs": [
    {
     "data": {
      "text/plain": [
       "'[4, 3, 3]'"
      ]
     },
     "execution_count": 39,
     "metadata": {},
     "output_type": "execute_result"
    }
   ],
   "source": [
    "test['aspect_filtered_per_sentence'][0]"
   ]
  },
  {
   "cell_type": "code",
   "execution_count": 40,
   "metadata": {
    "ExecuteTime": {
     "end_time": "2020-02-19T07:57:56.914878Z",
     "start_time": "2020-02-19T07:57:56.898219Z"
    }
   },
   "outputs": [
    {
     "data": {
      "text/plain": [
       "\"['only a 15 minute walk to the top of the town with many choices for breakfast and evening meals .', 'many choices for breakfast and evening meals', 'a very good base for exploring he local area , with ross on wye , hay on wye and brecon a short drive away .', 'ross on wye , hay on wye and brecon', 'hay on wye and brecon']\""
      ]
     },
     "execution_count": 40,
     "metadata": {},
     "output_type": "execute_result"
    }
   ],
   "source": [
    "test['text_filtered_per_relation'][0]"
   ]
  },
  {
   "cell_type": "code",
   "execution_count": 41,
   "metadata": {
    "ExecuteTime": {
     "end_time": "2020-02-19T08:25:41.732957Z",
     "start_time": "2020-02-19T08:25:41.661210Z"
    }
   },
   "outputs": [
    {
     "data": {
      "text/plain": [
       "'[3, 0, 3, 3, 3]'"
      ]
     },
     "execution_count": 41,
     "metadata": {},
     "output_type": "execute_result"
    }
   ],
   "source": [
    "test['aspect_filtered_per_relation'][0]"
   ]
  },
  {
   "cell_type": "code",
   "execution_count": 42,
   "metadata": {
    "ExecuteTime": {
     "end_time": "2020-02-19T08:27:55.534207Z",
     "start_time": "2020-02-19T08:27:55.508775Z"
    }
   },
   "outputs": [
    {
     "data": {
      "text/plain": [
       "\"['15 minute walk  -(to)-> top', 'many choices  -(for)-> breakfast meals', 'very good  -(amod)-> base', 'ross  -(on)-> brecon', 'hay  -(on)-> wye']\""
      ]
     },
     "execution_count": 42,
     "metadata": {},
     "output_type": "execute_result"
    }
   ],
   "source": [
    "test['rel_filtered_per_relation'][0]"
   ]
  },
  {
   "cell_type": "markdown",
   "metadata": {},
   "source": [
    "## work"
   ]
  },
  {
   "cell_type": "code",
   "execution_count": 13,
   "metadata": {
    "ExecuteTime": {
     "end_time": "2020-02-20T14:24:18.511784Z",
     "start_time": "2020-02-20T14:24:15.445112Z"
    }
   },
   "outputs": [
    {
     "data": {
      "text/html": [
       "<div>\n",
       "<style scoped>\n",
       "    .dataframe tbody tr th:only-of-type {\n",
       "        vertical-align: middle;\n",
       "    }\n",
       "\n",
       "    .dataframe tbody tr th {\n",
       "        vertical-align: top;\n",
       "    }\n",
       "\n",
       "    .dataframe thead th {\n",
       "        text-align: right;\n",
       "    }\n",
       "</style>\n",
       "<table border=\"1\" class=\"dataframe\">\n",
       "  <thead>\n",
       "    <tr style=\"text-align: right;\">\n",
       "      <th></th>\n",
       "      <th>text</th>\n",
       "    </tr>\n",
       "    <tr>\n",
       "      <th>hotel_url</th>\n",
       "      <th></th>\n",
       "    </tr>\n",
       "  </thead>\n",
       "  <tbody>\n",
       "    <tr>\n",
       "      <td>Hotel_Review-g10006284-d1083311-Reviews-The_Regent_Grand-Grace_Bay_Providenciales_Turks_and_Caicos.html</td>\n",
       "      <td>[stayed here for a week in a 3-bedroom condo. ...</td>\n",
       "    </tr>\n",
       "    <tr>\n",
       "      <td>Hotel_Review-g10006284-d151184-Reviews-Club_Med_Turkoise_Turks_Caicos-Grace_Bay_Providenciales_Turks_and_Caicos.html</td>\n",
       "      <td>[I wrote several reviews of past trips to Club...</td>\n",
       "    </tr>\n",
       "    <tr>\n",
       "      <td>Hotel_Review-g10006284-d151225-Reviews-Ports_of_Call_Resort-Grace_Bay_Providenciales_Turks_and_Caicos.html</td>\n",
       "      <td>[Not the nicest I have stayed in but overall a...</td>\n",
       "    </tr>\n",
       "    <tr>\n",
       "      <td>Hotel_Review-g10006284-d151307-Reviews-The_Sands_at_Grace_Bay-Grace_Bay_Providenciales_Turks_and_Caicos.html</td>\n",
       "      <td>[We last stayed at Sands last about 5 years ag...</td>\n",
       "    </tr>\n",
       "    <tr>\n",
       "      <td>Hotel_Review-g10006284-d185069-Reviews-Point_Grace-Grace_Bay_Providenciales_Turks_and_Caicos.html</td>\n",
       "      <td>[Wow- this place is great! We stayed in an Atl...</td>\n",
       "    </tr>\n",
       "    <tr>\n",
       "      <td>...</td>\n",
       "      <td>...</td>\n",
       "    </tr>\n",
       "    <tr>\n",
       "      <td>Hotel_Review-g982708-d949876-Reviews-Horse_Farrier_Inn-Threlkeld_Keswick_Lake_District_Cumbria_England.html</td>\n",
       "      <td>[The H&amp;F was recommended to us recently so we ...</td>\n",
       "    </tr>\n",
       "    <tr>\n",
       "      <td>Hotel_Review-g982822-d1145370-Reviews-Grand_Hotel_Kempinski_High_Tatras-Strbske_Pleso_Presov_Region.html</td>\n",
       "      <td>[The many people following my reviews will kno...</td>\n",
       "    </tr>\n",
       "    <tr>\n",
       "      <td>Hotel_Review-g983750-d1076574-Reviews-Holiday_Inn_Express_Singen-Singen_Baden_Wurttemberg.html</td>\n",
       "      <td>[We were on our way from Munich to the Rhine F...</td>\n",
       "    </tr>\n",
       "    <tr>\n",
       "      <td>Hotel_Review-g984178-d549678-Reviews-The_Clive-Bromfield_Ludlow_Shropshire_England.html</td>\n",
       "      <td>[Wa arrived at 2.30,to still find the restaura...</td>\n",
       "    </tr>\n",
       "    <tr>\n",
       "      <td>Hotel_Review-g9866748-d1646912-Reviews-Heritage_Collection_Lake_Resort_Cromwell-Pisa_Moorings_Cromwell_Central_Otago_Otago_R.html</td>\n",
       "      <td>[We decided to stay at the Heritage Collection...</td>\n",
       "    </tr>\n",
       "  </tbody>\n",
       "</table>\n",
       "<p>37538 rows × 1 columns</p>\n",
       "</div>"
      ],
      "text/plain": [
       "                                                                                                 text\n",
       "hotel_url                                                                                            \n",
       "Hotel_Review-g10006284-d1083311-Reviews-The_Reg...  [stayed here for a week in a 3-bedroom condo. ...\n",
       "Hotel_Review-g10006284-d151184-Reviews-Club_Med...  [I wrote several reviews of past trips to Club...\n",
       "Hotel_Review-g10006284-d151225-Reviews-Ports_of...  [Not the nicest I have stayed in but overall a...\n",
       "Hotel_Review-g10006284-d151307-Reviews-The_Sand...  [We last stayed at Sands last about 5 years ag...\n",
       "Hotel_Review-g10006284-d185069-Reviews-Point_Gr...  [Wow- this place is great! We stayed in an Atl...\n",
       "...                                                                                               ...\n",
       "Hotel_Review-g982708-d949876-Reviews-Horse_Farr...  [The H&F was recommended to us recently so we ...\n",
       "Hotel_Review-g982822-d1145370-Reviews-Grand_Hot...  [The many people following my reviews will kno...\n",
       "Hotel_Review-g983750-d1076574-Reviews-Holiday_I...  [We were on our way from Munich to the Rhine F...\n",
       "Hotel_Review-g984178-d549678-Reviews-The_Clive-...  [Wa arrived at 2.30,to still find the restaura...\n",
       "Hotel_Review-g9866748-d1646912-Reviews-Heritage...  [We decided to stay at the Heritage Collection...\n",
       "\n",
       "[37538 rows x 1 columns]"
      ]
     },
     "execution_count": 13,
     "metadata": {},
     "output_type": "execute_result"
    }
   ],
   "source": [
    "pd.DataFrame(test.groupby(by='hotel_url')['text'].apply(list))"
   ]
  },
  {
   "cell_type": "code",
   "execution_count": 18,
   "metadata": {
    "ExecuteTime": {
     "end_time": "2020-02-20T14:37:42.187031Z",
     "start_time": "2020-02-20T14:37:41.448074Z"
    }
   },
   "outputs": [],
   "source": [
    "df=test.sort_values('hotel_url')[['hotel_url','text']]"
   ]
  },
  {
   "cell_type": "code",
   "execution_count": 22,
   "metadata": {
    "ExecuteTime": {
     "end_time": "2020-02-20T14:42:33.435242Z",
     "start_time": "2020-02-20T14:42:32.371091Z"
    }
   },
   "outputs": [],
   "source": [
    "df.to_json('./review.json',orient='records')"
   ]
  },
  {
   "cell_type": "code",
   "execution_count": null,
   "metadata": {},
   "outputs": [],
   "source": []
  }
 ],
 "metadata": {
  "kernelspec": {
   "display_name": "Python 3",
   "language": "python",
   "name": "python3"
  },
  "language_info": {
   "codemirror_mode": {
    "name": "ipython",
    "version": 3
   },
   "file_extension": ".py",
   "mimetype": "text/x-python",
   "name": "python",
   "nbconvert_exporter": "python",
   "pygments_lexer": "ipython3",
   "version": "3.7.4"
  },
  "latex_envs": {
   "LaTeX_envs_menu_present": true,
   "autoclose": false,
   "autocomplete": true,
   "bibliofile": "biblio.bib",
   "cite_by": "apalike",
   "current_citInitial": 1,
   "eqLabelWithNumbers": true,
   "eqNumInitial": 1,
   "hotkeys": {
    "equation": "Ctrl-E",
    "itemize": "Ctrl-I"
   },
   "labels_anchors": false,
   "latex_user_defs": false,
   "report_style_numbering": false,
   "user_envs_cfg": false
  }
 },
 "nbformat": 4,
 "nbformat_minor": 2
}
