{
 "cells": [
  {
   "cell_type": "code",
   "execution_count": 47,
   "metadata": {
    "ExecuteTime": {
     "end_time": "2020-03-31T15:28:38.872106Z",
     "start_time": "2020-03-31T15:28:38.866063Z"
    }
   },
   "outputs": [],
   "source": [
    "def maxArea( height):\n",
    "    \"\"\"\n",
    "    :type height: List[int]\n",
    "    :rtype: int\n",
    "    \"\"\"\n",
    "    if len(height)<=1:\n",
    "        return 0\n",
    "    \n",
    "    areaRange=set([j*min(height[0],height[j]) for j in range(1,len(height))]+\n",
    "                 [(len(height)-i-1)*min(height[i],height[-1]) for i in range(0,len(height)-1)])\n",
    "    return max(max(areaRange),maxArea(height[1:-1]))\n"
   ]
  },
  {
   "cell_type": "code",
   "execution_count": 51,
   "metadata": {
    "ExecuteTime": {
     "end_time": "2020-03-31T15:33:36.567624Z",
     "start_time": "2020-03-31T15:33:36.554987Z"
    }
   },
   "outputs": [],
   "source": [
    "class Solution(object):\n",
    "    def maxArea(self, height):\n",
    "        \"\"\"\n",
    "        :type height: List[int]\n",
    "        :rtype: int\n",
    "        \"\"\"\n",
    "        def maxarea(height):\n",
    "            \"\"\"\n",
    "            :type height: List[int]\n",
    "            :rtype: int\n",
    "            \"\"\"\n",
    "            if len(height)<=1:\n",
    "                return 0\n",
    "\n",
    "            areaRange=set([j*min(height[0],height[j]) for j in range(1,len(height))]+\n",
    "                         [(len(height)-i-1)*min(height[i],height[-1]) for i in range(0,len(height)-1)])\n",
    "            return max(max(areaRange),maxarea(height[1:-1]))\n",
    "        return maxarea(height)"
   ]
  },
  {
   "cell_type": "code",
   "execution_count": 60,
   "metadata": {
    "ExecuteTime": {
     "end_time": "2020-03-31T15:57:30.286563Z",
     "start_time": "2020-03-31T15:57:30.281696Z"
    }
   },
   "outputs": [
    {
     "data": {
      "text/plain": [
       "49"
      ]
     },
     "execution_count": 60,
     "metadata": {},
     "output_type": "execute_result"
    }
   ],
   "source": [
    "height=[1,8,6,2,5,4,8,3,7]\n",
    "sol=Solution()\n",
    "sol.maxArea(height)"
   ]
  },
  {
   "cell_type": "code",
   "execution_count": 54,
   "metadata": {
    "ExecuteTime": {
     "end_time": "2020-03-31T15:39:13.296697Z",
     "start_time": "2020-03-31T15:39:13.293837Z"
    }
   },
   "outputs": [],
   "source": [
    "#但是以上方法太慢，被认为time out"
   ]
  },
  {
   "cell_type": "code",
   "execution_count": 58,
   "metadata": {
    "ExecuteTime": {
     "end_time": "2020-03-31T15:57:17.417348Z",
     "start_time": "2020-03-31T15:57:17.411762Z"
    }
   },
   "outputs": [],
   "source": [
    "# 官方解答\n",
    "class Solution(object):\n",
    "    def maxArea(self, height):\n",
    "        \"\"\"\n",
    "        :type height: List[int]\n",
    "        :rtype: int\n",
    "        \"\"\"\n",
    "        maxarea=0;l=0;r=len(height)-1\n",
    "        while l<r:\n",
    "            maxarea=max(maxarea,(r-l)*min(height[l],height[r]))\n",
    "            if height[l]<height[r]:\n",
    "                l+=1\n",
    "            else:\n",
    "                r-=1\n",
    "        \n",
    "        \n",
    "        return maxarea"
   ]
  },
  {
   "cell_type": "code",
   "execution_count": 59,
   "metadata": {
    "ExecuteTime": {
     "end_time": "2020-03-31T15:57:17.754953Z",
     "start_time": "2020-03-31T15:57:17.749775Z"
    }
   },
   "outputs": [
    {
     "data": {
      "text/plain": [
       "49"
      ]
     },
     "execution_count": 59,
     "metadata": {},
     "output_type": "execute_result"
    }
   ],
   "source": [
    "height=[1,8,6,2,5,4,8,3,7]\n",
    "sol=Solution()\n",
    "sol.maxArea(height)"
   ]
  },
  {
   "cell_type": "code",
   "execution_count": null,
   "metadata": {},
   "outputs": [],
   "source": [
    "# 更短的第三方解答 O(N) 7-line Python solution ，速度一样\n",
    "def maxArea(self, height):\n",
    "    L, R, width, res = 0, len(height) - 1, len(height) - 1, 0\n",
    "    for w in range(width, 0, -1):\n",
    "        if height[L] < height[R]:\n",
    "            res, L = max(res, height[L] * w), L + 1\n",
    "        else:\n",
    "            res, R = max(res, height[R] * w), R - 1\n",
    "    return res"
   ]
  },
  {
   "cell_type": "code",
   "execution_count": null,
   "metadata": {},
   "outputs": [],
   "source": [
    "#an even shorter version with logical operation applied\n",
    "def maxArea(self, height):\n",
    "        res, l, r = 0, 0, len(height) - 1\n",
    "        while l < r:\n",
    "            h = min(height[l], height[r])\n",
    "            res, l, r = max(res,  h * (r - l)), l + (height[l] == h), r - (height[r] == h)\n",
    "        return res"
   ]
  }
 ],
 "metadata": {
  "kernelspec": {
   "display_name": "Python 3",
   "language": "python",
   "name": "python3"
  },
  "language_info": {
   "codemirror_mode": {
    "name": "ipython",
    "version": 3
   },
   "file_extension": ".py",
   "mimetype": "text/x-python",
   "name": "python",
   "nbconvert_exporter": "python",
   "pygments_lexer": "ipython3",
   "version": "3.7.4"
  }
 },
 "nbformat": 4,
 "nbformat_minor": 2
}
