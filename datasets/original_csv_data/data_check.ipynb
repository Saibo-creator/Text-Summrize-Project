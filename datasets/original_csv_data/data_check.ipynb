{
 "cells": [
  {
   "cell_type": "code",
   "execution_count": 1,
   "metadata": {
    "ExecuteTime": {
     "end_time": "2020-04-29T15:05:52.190671Z",
     "start_time": "2020-04-29T15:05:51.089931Z"
    }
   },
   "outputs": [],
   "source": [
    "import ast\n",
    "import pandas as pd\n",
    "import numpy as np\n",
    "%matplotlib inline\n",
    "import matplotlib.pyplot as plt"
   ]
  },
  {
   "cell_type": "code",
   "execution_count": 19,
   "metadata": {
    "ExecuteTime": {
     "end_time": "2020-04-29T15:12:59.344306Z",
     "start_time": "2020-04-29T15:12:52.755287Z"
    }
   },
   "outputs": [
    {
     "data": {
      "text/plain": [
       "'executed in 2m 49s'"
      ]
     },
     "execution_count": 19,
     "metadata": {},
     "output_type": "execute_result"
    }
   ],
   "source": [
    "test=pd.read_csv('./test.csv')\n",
    "# train=pd.read_csv('./train.csv')\n",
    "# dev=pd.read_csv('./dev.csv')\n",
    "'''executed in 2m 49s'''"
   ]
  },
  {
   "cell_type": "code",
   "execution_count": 3,
   "metadata": {
    "ExecuteTime": {
     "end_time": "2020-04-07T15:55:30.235148Z",
     "start_time": "2020-04-07T15:55:30.102921Z"
    }
   },
   "outputs": [
    {
     "ename": "NameError",
     "evalue": "name 'train' is not defined",
     "output_type": "error",
     "traceback": [
      "\u001b[0;31m---------------------------------------------------------------------------\u001b[0m",
      "\u001b[0;31mNameError\u001b[0m                                 Traceback (most recent call last)",
      "\u001b[0;32m<ipython-input-3-cbd02de08548>\u001b[0m in \u001b[0;36m<module>\u001b[0;34m\u001b[0m\n\u001b[0;32m----> 1\u001b[0;31m \u001b[0mlen\u001b[0m\u001b[0;34m(\u001b[0m\u001b[0mtrain\u001b[0m\u001b[0;34m)\u001b[0m\u001b[0;34m,\u001b[0m\u001b[0mlen\u001b[0m\u001b[0;34m(\u001b[0m\u001b[0mtest\u001b[0m\u001b[0;34m)\u001b[0m\u001b[0;34m,\u001b[0m\u001b[0mlen\u001b[0m\u001b[0;34m(\u001b[0m\u001b[0mdev\u001b[0m\u001b[0;34m)\u001b[0m\u001b[0;34m\u001b[0m\u001b[0;34m\u001b[0m\u001b[0m\n\u001b[0m",
      "\u001b[0;31mNameError\u001b[0m: name 'train' is not defined"
     ]
    }
   ],
   "source": [
    "len(train),len(test),len(dev)"
   ]
  },
  {
   "cell_type": "code",
   "execution_count": 3,
   "metadata": {
    "ExecuteTime": {
     "end_time": "2020-04-29T15:06:06.119165Z",
     "start_time": "2020-04-29T15:05:57.849095Z"
    }
   },
   "outputs": [
    {
     "data": {
      "text/plain": [
       "'executed in 2m 24s'"
      ]
     },
     "execution_count": 3,
     "metadata": {},
     "output_type": "execute_result"
    }
   ],
   "source": [
    "def parse_str_list(df):\n",
    "    df['text_filtered_per_sentence']=df['text_filtered_per_sentence'].apply(ast.literal_eval)\n",
    "    df['aspect_filtered_per_sentence']=df['aspect_filtered_per_sentence'].apply(ast.literal_eval)\n",
    "    \n",
    "    \n",
    "parse_str_list(test)\n",
    "# parse_str_list(train)\n",
    "# parse_str_list(dev)\n",
    "\n",
    "'''executed in 2m 24s'''"
   ]
  },
  {
   "cell_type": "code",
   "execution_count": null,
   "metadata": {},
   "outputs": [],
   "source": []
  },
  {
   "cell_type": "code",
   "execution_count": null,
   "metadata": {},
   "outputs": [],
   "source": []
  },
  {
   "cell_type": "markdown",
   "metadata": {
    "heading_collapsed": true
   },
   "source": [
    "### language fluency issue"
   ]
  },
  {
   "cell_type": "code",
   "execution_count": 3,
   "metadata": {
    "ExecuteTime": {
     "end_time": "2020-04-25T12:42:09.278149Z",
     "start_time": "2020-04-25T12:42:09.237719Z"
    },
    "hidden": true
   },
   "outputs": [
    {
     "data": {
      "text/plain": [
       "\"Check-in was quick and Jessie (spelling) was very friendly. She explained everything and went out of her way to check on things for us. The room was nice, but older. The beds were metal frames (weight rating unknown...) with nice mattresses. The headboards....interesting and had reading lights attached. The room was clean.....until day 2 when we had a roach wave hello from the side table. We killed it and forgot about it. Then the last day, we saw more. In all stages of growth, from nymph to full adult. One had even gotten into the fridge. So, we were happy to be leaving. The A/C unit worked well. The pool hours were enforced and the place was quiet during quiet time. Wifi worked good enough. Nice sized TV with an okay line up. Parking was a pain in the butt....cars parking in the truck/trailer parking spaces, making it difficult to maneuver around them to avoid hitting them, then not being able make the turn to get out because of it. Super annoying when cars park where they shouldn't! Need to know: Fridge/microwave in room Truck/trailer parking (tight) They accept incoming mail - no charge Guest laundry No Elevator (2 floors) We probably wouldn't stay again because of the bugs. Everything else was good until they started to appear...\""
      ]
     },
     "execution_count": 3,
     "metadata": {},
     "output_type": "execute_result"
    }
   ],
   "source": [
    "test['text'][330]"
   ]
  },
  {
   "cell_type": "code",
   "execution_count": 4,
   "metadata": {
    "ExecuteTime": {
     "end_time": "2020-04-25T12:42:15.721253Z",
     "start_time": "2020-04-25T12:42:15.711290Z"
    },
    "hidden": true
   },
   "outputs": [
    {
     "data": {
      "text/plain": [
       "\"check - in was quick and jessie ( spelling ) was very friendly .she explained everything and went out of her way to check on things for us .the room was nice , but older .the room was clean ..... until day 2 when we had a roach wave hello from the side table .in all stages of growth , from nymph to full adult .one had even gotten into the fridge .so , we were happy to be leaving .the pool hours were enforced and the place was quiet during quiet time .wifi worked good enough .nice sized tv with an okay line up .parking was a pain in the butt ....cars parking in the truck / trailer parking spaces , making it difficult to maneuver around them to avoid hitting them , then not being able make the turn to get out because of it .super annoying when cars park where they should n't !need to know : fridge / microwave in room truck / trailer parking ( tight )\""
      ]
     },
     "execution_count": 4,
     "metadata": {},
     "output_type": "execute_result"
    }
   ],
   "source": [
    "''.join(ast.literal_eval(test['text_filtered_per_sentence'][330]))"
   ]
  },
  {
   "cell_type": "code",
   "execution_count": 6,
   "metadata": {
    "ExecuteTime": {
     "end_time": "2020-04-25T12:42:39.656777Z",
     "start_time": "2020-04-25T12:42:39.652230Z"
    },
    "hidden": true
   },
   "outputs": [
    {
     "data": {
      "text/plain": [
       "'Hotel_Review-g60724-d267781-Reviews-Red_Cliffs_Lodge-Moab_Utah.html'"
      ]
     },
     "execution_count": 6,
     "metadata": {},
     "output_type": "execute_result"
    }
   ],
   "source": [
    "\n",
    "test['text'][201]\n",
    "\n",
    "test['hotel_url'][201]\n"
   ]
  },
  {
   "cell_type": "code",
   "execution_count": null,
   "metadata": {
    "hidden": true
   },
   "outputs": [],
   "source": []
  },
  {
   "cell_type": "code",
   "execution_count": null,
   "metadata": {
    "hidden": true
   },
   "outputs": [],
   "source": []
  },
  {
   "cell_type": "code",
   "execution_count": null,
   "metadata": {
    "hidden": true
   },
   "outputs": [],
   "source": []
  },
  {
   "cell_type": "markdown",
   "metadata": {},
   "source": [
    "### build the mean of single aspect rating"
   ]
  },
  {
   "cell_type": "code",
   "execution_count": 4,
   "metadata": {
    "ExecuteTime": {
     "end_time": "2020-04-29T15:06:06.127416Z",
     "start_time": "2020-04-29T15:06:06.121457Z"
    }
   },
   "outputs": [],
   "source": [
    "def build_asp_rating(split):\n",
    "    aspect_rating=split.replace(-1,np.nan).groupby('hotel_url')[[\"service\",\"cleanliness\",\"value\",\"location\",\"rooms\"]].mean()\n",
    "\n",
    "    aspect_rating=aspect_rating.rename(columns={'service':'aspect 0 ','cleanliness':'aspect 1 ',\\\n",
    "                                  'value':'aspect 2 ','location':'aspect 3 ','rooms':'aspect 4 '}).reset_index()\n",
    "\n",
    "\n",
    "    aspect_rating=pd.melt(aspect_rating, id_vars='hotel_url', value_vars=['aspect 0 ','aspect 1 ','aspect 2 '\\\n",
    "                                                              ,'aspect 3 ','aspect 4 ',])\n",
    "\n",
    "    aspect_rating['hotel_url_new']=aspect_rating['variable']+aspect_rating['hotel_url']\n",
    "    aspect_rating=aspect_rating[['hotel_url_new','value']].rename(columns={'hotel_url_new':'hotel_url'})\n",
    "\n",
    "    aspect_rating=aspect_rating.replace(np.nan,-1)\n",
    "    aspect_rating.rename(columns={'value':'rating'},inplace=True)\n",
    "    return aspect_rating\n"
   ]
  },
  {
   "cell_type": "code",
   "execution_count": 5,
   "metadata": {
    "ExecuteTime": {
     "end_time": "2020-04-29T15:06:07.131698Z",
     "start_time": "2020-04-29T15:06:06.129830Z"
    }
   },
   "outputs": [],
   "source": [
    "test_asp_rating=build_asp_rating(test)\n",
    "# train_asp_rating=build_asp_rating(train)\n",
    "# dev_asp_rating=build_asp_rating(dev)"
   ]
  },
  {
   "cell_type": "markdown",
   "metadata": {},
   "source": [
    "### build RSAR"
   ]
  },
  {
   "cell_type": "code",
   "execution_count": 6,
   "metadata": {
    "ExecuteTime": {
     "end_time": "2020-04-29T15:06:07.141529Z",
     "start_time": "2020-04-29T15:06:07.133311Z"
    }
   },
   "outputs": [],
   "source": [
    "def groupByAspect(split):\n",
    "    split_sentence=split[['hotel_url','text','text_filtered_per_sentence']].explode('text_filtered_per_sentence')\n",
    "    split_aspect=split[['hotel_url','text','aspect_filtered_per_sentence']].explode('aspect_filtered_per_sentence')\n",
    "    split_sentence.reset_index(drop=True,inplace=True)\n",
    "    split_aspect.reset_index(drop=True,inplace=True)\n",
    "    split_exploded=split_aspect.join(split_sentence[['text_filtered_per_sentence']])\n",
    "    \n",
    "    grouped=pd.DataFrame(split_exploded.groupby(['hotel_url','aspect_filtered_per_sentence'])['text_filtered_per_sentence'].apply(list))\n",
    "    grouped.reset_index(inplace=True)\n",
    "    grouped['text_filtered_per_sentence']=grouped['text_filtered_per_sentence'].apply(lambda data: [data[x:x+5] for x in range(0, len(data), 5)])\n",
    "    grouped.head()\n",
    "    \n",
    "    grouped=grouped.explode('text_filtered_per_sentence').reset_index()\n",
    "    grouped['text']=grouped['text_filtered_per_sentence'].apply(lambda x:''.join(x))\n",
    "    grouped=grouped.rename(columns={'hotel_url':'hotel_url_original'})\n",
    "    grouped['hotel_url']=grouped['hotel_url_original']\n",
    "    grouped=grouped[['index', 'hotel_url', 'aspect_filtered_per_sentence',\n",
    "           'text_filtered_per_sentence', 'text','hotel_url_original']]\n",
    "    \n",
    "    grouped['hotel_url']='aspect '+grouped['aspect_filtered_per_sentence'].apply(str)+' '+grouped['hotel_url_original']\n",
    "    return grouped"
   ]
  },
  {
   "cell_type": "code",
   "execution_count": 7,
   "metadata": {
    "ExecuteTime": {
     "end_time": "2020-04-29T15:06:26.162188Z",
     "start_time": "2020-04-29T15:06:07.143034Z"
    }
   },
   "outputs": [
    {
     "data": {
      "text/html": [
       "<div>\n",
       "<style scoped>\n",
       "    .dataframe tbody tr th:only-of-type {\n",
       "        vertical-align: middle;\n",
       "    }\n",
       "\n",
       "    .dataframe tbody tr th {\n",
       "        vertical-align: top;\n",
       "    }\n",
       "\n",
       "    .dataframe thead th {\n",
       "        text-align: right;\n",
       "    }\n",
       "</style>\n",
       "<table border=\"1\" class=\"dataframe\">\n",
       "  <thead>\n",
       "    <tr style=\"text-align: right;\">\n",
       "      <th></th>\n",
       "      <th>index</th>\n",
       "      <th>hotel_url</th>\n",
       "      <th>aspect_filtered_per_sentence</th>\n",
       "      <th>text_filtered_per_sentence</th>\n",
       "      <th>text</th>\n",
       "      <th>hotel_url_original</th>\n",
       "    </tr>\n",
       "  </thead>\n",
       "  <tbody>\n",
       "    <tr>\n",
       "      <td>0</td>\n",
       "      <td>0</td>\n",
       "      <td>aspect 0 Hotel_Review-g10006284-d1083311-Revie...</td>\n",
       "      <td>0</td>\n",
       "      <td>[beware of the food service , the restaurant t...</td>\n",
       "      <td>beware of the food service , the restaurant th...</td>\n",
       "      <td>Hotel_Review-g10006284-d1083311-Reviews-The_Re...</td>\n",
       "    </tr>\n",
       "    <tr>\n",
       "      <td>1</td>\n",
       "      <td>1</td>\n",
       "      <td>aspect 1 Hotel_Review-g10006284-d1083311-Revie...</td>\n",
       "      <td>1</td>\n",
       "      <td>[the service was outstanding , the room was ve...</td>\n",
       "      <td>the service was outstanding , the room was ver...</td>\n",
       "      <td>Hotel_Review-g10006284-d1083311-Reviews-The_Re...</td>\n",
       "    </tr>\n",
       "  </tbody>\n",
       "</table>\n",
       "</div>"
      ],
      "text/plain": [
       "   index                                          hotel_url  \\\n",
       "0      0  aspect 0 Hotel_Review-g10006284-d1083311-Revie...   \n",
       "1      1  aspect 1 Hotel_Review-g10006284-d1083311-Revie...   \n",
       "\n",
       "   aspect_filtered_per_sentence  \\\n",
       "0                             0   \n",
       "1                             1   \n",
       "\n",
       "                          text_filtered_per_sentence  \\\n",
       "0  [beware of the food service , the restaurant t...   \n",
       "1  [the service was outstanding , the room was ve...   \n",
       "\n",
       "                                                text  \\\n",
       "0  beware of the food service , the restaurant th...   \n",
       "1  the service was outstanding , the room was ver...   \n",
       "\n",
       "                                  hotel_url_original  \n",
       "0  Hotel_Review-g10006284-d1083311-Reviews-The_Re...  \n",
       "1  Hotel_Review-g10006284-d1083311-Reviews-The_Re...  "
      ]
     },
     "execution_count": 7,
     "metadata": {},
     "output_type": "execute_result"
    }
   ],
   "source": [
    "\"executed in 14m 6s\"\n",
    "\n",
    "test=groupByAspect(test)\n",
    "# train=groupByAspect(train)\n",
    "# dev=groupByAspect(dev)\n",
    "test.head(2)"
   ]
  },
  {
   "cell_type": "markdown",
   "metadata": {},
   "source": [
    "### merge asp rating and RSAR"
   ]
  },
  {
   "cell_type": "code",
   "execution_count": 8,
   "metadata": {
    "ExecuteTime": {
     "end_time": "2020-04-29T15:06:26.488489Z",
     "start_time": "2020-04-29T15:06:26.164041Z"
    }
   },
   "outputs": [],
   "source": [
    "#merge rating dataframe with RSAR review dataframe\n",
    "test=pd.merge(test,test_asp_rating,left_on='hotel_url',right_on='hotel_url',how='left')\n",
    "#train=pd.merge(train,train_asp_rating,left_on='hotel_url',right_on='hotel_url',how='left')\n",
    "#dev=pd.merge(dev,dev_asp_rating,left_on='hotel_url',right_on='hotel_url',how='left')"
   ]
  },
  {
   "cell_type": "code",
   "execution_count": 12,
   "metadata": {
    "ExecuteTime": {
     "end_time": "2020-04-29T15:08:04.020836Z",
     "start_time": "2020-04-29T15:08:03.981492Z"
    }
   },
   "outputs": [],
   "source": [
    "# drop rows which rating are missing,round float to 1-5 integers\n",
    "test=test[test['rating']!=-1]\n",
    "test['rating']=test['rating'].apply(np.round)\n",
    "\n",
    "train=train[train['rating']!=-1]\n",
    "train['rating']=train['rating'].apply(np.round)\n",
    "\n",
    "dev=dev[dev['rating']!=-1]\n",
    "dev['rating']=dev['rating'].apply(np.round)"
   ]
  },
  {
   "cell_type": "code",
   "execution_count": null,
   "metadata": {},
   "outputs": [],
   "source": []
  },
  {
   "cell_type": "code",
   "execution_count": null,
   "metadata": {},
   "outputs": [],
   "source": []
  },
  {
   "cell_type": "code",
   "execution_count": 11,
   "metadata": {
    "ExecuteTime": {
     "end_time": "2020-04-27T12:11:26.634699Z",
     "start_time": "2020-04-27T12:11:26.451719Z"
    }
   },
   "outputs": [],
   "source": [
    "test=test[test['hotel_url'].str.startswith('aspect 0')]"
   ]
  },
  {
   "cell_type": "code",
   "execution_count": 39,
   "metadata": {
    "ExecuteTime": {
     "end_time": "2020-04-25T13:07:36.127090Z",
     "start_time": "2020-04-25T13:07:35.932914Z"
    }
   },
   "outputs": [
    {
     "data": {
      "text/html": [
       "<div>\n",
       "<style scoped>\n",
       "    .dataframe tbody tr th:only-of-type {\n",
       "        vertical-align: middle;\n",
       "    }\n",
       "\n",
       "    .dataframe tbody tr th {\n",
       "        vertical-align: top;\n",
       "    }\n",
       "\n",
       "    .dataframe thead th {\n",
       "        text-align: right;\n",
       "    }\n",
       "</style>\n",
       "<table border=\"1\" class=\"dataframe\">\n",
       "  <thead>\n",
       "    <tr style=\"text-align: right;\">\n",
       "      <th></th>\n",
       "      <th>index</th>\n",
       "      <th>hotel_url</th>\n",
       "      <th>aspect_filtered_per_sentence</th>\n",
       "      <th>text_filtered_per_sentence</th>\n",
       "      <th>text</th>\n",
       "      <th>hotel_url_original</th>\n",
       "      <th>value</th>\n",
       "    </tr>\n",
       "  </thead>\n",
       "  <tbody>\n",
       "  </tbody>\n",
       "</table>\n",
       "</div>"
      ],
      "text/plain": [
       "Empty DataFrame\n",
       "Columns: [index, hotel_url, aspect_filtered_per_sentence, text_filtered_per_sentence, text, hotel_url_original, value]\n",
       "Index: []"
      ]
     },
     "execution_count": 39,
     "metadata": {},
     "output_type": "execute_result"
    }
   ],
   "source": [
    "# no null value in rating \n",
    "test_final[test_final['rating'].isna()]"
   ]
  },
  {
   "cell_type": "code",
   "execution_count": null,
   "metadata": {},
   "outputs": [],
   "source": []
  },
  {
   "cell_type": "code",
   "execution_count": null,
   "metadata": {},
   "outputs": [],
   "source": []
  },
  {
   "cell_type": "code",
   "execution_count": null,
   "metadata": {},
   "outputs": [],
   "source": []
  },
  {
   "cell_type": "markdown",
   "metadata": {},
   "source": [
    "## data visualization"
   ]
  },
  {
   "cell_type": "code",
   "execution_count": 35,
   "metadata": {
    "ExecuteTime": {
     "end_time": "2020-02-24T16:37:41.135926Z",
     "start_time": "2020-02-24T16:37:40.343290Z"
    }
   },
   "outputs": [
    {
     "data": {
      "text/plain": [
       "(38897, 37538, 36681)"
      ]
     },
     "execution_count": 35,
     "metadata": {},
     "output_type": "execute_result"
    }
   ],
   "source": [
    "# check the number of business \n",
    "\n",
    "def check_business_no(data):\n",
    "    return len(set(data['hotel_url']))\n",
    "\n",
    "check_business_no(train),check_business_no(test),check_business_no(dev)"
   ]
  },
  {
   "cell_type": "code",
   "execution_count": 43,
   "metadata": {
    "ExecuteTime": {
     "end_time": "2020-02-24T16:41:40.796520Z",
     "start_time": "2020-02-24T16:41:39.943475Z"
    }
   },
   "outputs": [
    {
     "data": {
      "text/plain": [
       "1540616        9\n",
       "588528        14\n",
       "1579838       16\n",
       "1646008       17\n",
       "588531        19\n",
       "           ...  \n",
       "972406     32683\n",
       "1118628    35119\n",
       "509202     40224\n",
       "509208     58889\n",
       "509206     63343\n",
       "Name: text, Length: 1749157, dtype: int64"
      ]
     },
     "execution_count": 43,
     "metadata": {},
     "output_type": "execute_result"
    }
   ],
   "source": [
    "train['text'].apply(len).sort_values()"
   ]
  },
  {
   "cell_type": "markdown",
   "metadata": {},
   "source": [
    "__Distribution of review lenth:__  ⬇️"
   ]
  },
  {
   "cell_type": "code",
   "execution_count": 25,
   "metadata": {
    "ExecuteTime": {
     "end_time": "2020-04-25T12:53:03.798257Z",
     "start_time": "2020-04-25T12:53:03.794250Z"
    }
   },
   "outputs": [
    {
     "data": {
      "text/plain": [
       "416982"
      ]
     },
     "execution_count": 25,
     "metadata": {},
     "output_type": "execute_result"
    }
   ],
   "source": [
    "len(test)"
   ]
  },
  {
   "cell_type": "code",
   "execution_count": 55,
   "metadata": {
    "ExecuteTime": {
     "end_time": "2020-02-24T16:46:21.571717Z",
     "start_time": "2020-02-24T16:46:20.324901Z"
    }
   },
   "outputs": [
    {
     "data": {
      "image/png": "[encoded data removed]",
      "text/plain": [
       "<Figure size 432x288 with 1 Axes>"
      ]
     },
     "metadata": {
      "needs_background": "light"
     },
     "output_type": "display_data"
    }
   ],
   "source": [
    "\n",
    "plt.hist(train['text'].apply(len),bins=100,range=(0,4000));"
   ]
  },
  {
   "cell_type": "markdown",
   "metadata": {},
   "source": [
    "__Distribution of number of reviews associated to hotel:__  ⬇️"
   ]
  },
  {
   "cell_type": "code",
   "execution_count": 61,
   "metadata": {
    "ExecuteTime": {
     "end_time": "2020-02-24T16:54:51.283001Z",
     "start_time": "2020-02-24T16:54:46.407729Z"
    }
   },
   "outputs": [],
   "source": [
    "n_review_to_hotel=train.groupby('hotel_url')['text'].apply(list).apply(len)"
   ]
  },
  {
   "cell_type": "code",
   "execution_count": 65,
   "metadata": {
    "ExecuteTime": {
     "end_time": "2020-02-24T16:56:35.885241Z",
     "start_time": "2020-02-24T16:56:35.009731Z"
    }
   },
   "outputs": [
    {
     "data": {
      "image/png": "[encoded data removed]",
      "text/plain": [
       "<Figure size 432x288 with 1 Axes>"
      ]
     },
     "metadata": {
      "needs_background": "light"
     },
     "output_type": "display_data"
    }
   ],
   "source": [
    "plt.hist(n_review_to_hotel,bins=100,range=(0,300));"
   ]
  },
  {
   "cell_type": "markdown",
   "metadata": {},
   "source": [
    "## to_json"
   ]
  },
  {
   "cell_type": "code",
   "execution_count": null,
   "metadata": {},
   "outputs": [],
   "source": []
  },
  {
   "cell_type": "code",
   "execution_count": 18,
   "metadata": {
    "ExecuteTime": {
     "end_time": "2020-04-04T02:11:27.077201Z",
     "start_time": "2020-04-04T02:10:35.504795Z"
    }
   },
   "outputs": [],
   "source": [
    "\"executed in 51.6s\"\n",
    "tot=pd.concat([dev,test,train])\n",
    "\n",
    "\"executed in 1m 1.82s\"\n",
    "df=tot.sort_values('hotel_url')[['hotel_url','text','rating']]\n",
    "#df=tot.sort_values('hotel_url')[['hotel_url','rating']]"
   ]
  },
  {
   "cell_type": "markdown",
   "metadata": {},
   "source": [
    "### build the mean of single aspect rating"
   ]
  },
  {
   "cell_type": "code",
   "execution_count": 11,
   "metadata": {
    "ExecuteTime": {
     "end_time": "2020-04-25T12:44:32.936095Z",
     "start_time": "2020-04-25T12:44:32.386671Z"
    }
   },
   "outputs": [
    {
     "ename": "KeyError",
     "evalue": "\"Columns not found: 'value', 'rooms', 'service', 'location', 'cleanliness'\"",
     "output_type": "error",
     "traceback": [
      "\u001b[0;31m---------------------------------------------------------------------------\u001b[0m",
      "\u001b[0;31mKeyError\u001b[0m                                  Traceback (most recent call last)",
      "\u001b[0;32m<ipython-input-11-5f7c09e5be31>\u001b[0m in \u001b[0;36m<module>\u001b[0;34m\u001b[0m\n\u001b[0;32m----> 1\u001b[0;31m \u001b[0maspect_rating\u001b[0m\u001b[0;34m=\u001b[0m\u001b[0mtest\u001b[0m\u001b[0;34m.\u001b[0m\u001b[0mreplace\u001b[0m\u001b[0;34m(\u001b[0m\u001b[0;34m-\u001b[0m\u001b[0;36m1\u001b[0m\u001b[0;34m,\u001b[0m\u001b[0mnp\u001b[0m\u001b[0;34m.\u001b[0m\u001b[0mnan\u001b[0m\u001b[0;34m)\u001b[0m\u001b[0;34m.\u001b[0m\u001b[0mgroupby\u001b[0m\u001b[0;34m(\u001b[0m\u001b[0;34m'hotel_url'\u001b[0m\u001b[0;34m)\u001b[0m\u001b[0;34m[\u001b[0m\u001b[0;34m[\u001b[0m\u001b[0;34m\"service\"\u001b[0m\u001b[0;34m,\u001b[0m\u001b[0;34m\"cleanliness\"\u001b[0m\u001b[0;34m,\u001b[0m\u001b[0;34m\"value\"\u001b[0m\u001b[0;34m,\u001b[0m\u001b[0;34m\"location\"\u001b[0m\u001b[0;34m,\u001b[0m\u001b[0;34m\"rooms\"\u001b[0m\u001b[0;34m]\u001b[0m\u001b[0;34m]\u001b[0m\u001b[0;34m.\u001b[0m\u001b[0mmean\u001b[0m\u001b[0;34m(\u001b[0m\u001b[0;34m)\u001b[0m\u001b[0;34m\u001b[0m\u001b[0;34m\u001b[0m\u001b[0m\n\u001b[0m",
      "\u001b[0;32m/opt/anaconda3/lib/python3.7/site-packages/pandas/core/base.py\u001b[0m in \u001b[0;36m__getitem__\u001b[0;34m(self, key)\u001b[0m\n\u001b[1;32m    255\u001b[0m                 \u001b[0mbad_keys\u001b[0m \u001b[0;34m=\u001b[0m \u001b[0mlist\u001b[0m\u001b[0;34m(\u001b[0m\u001b[0mset\u001b[0m\u001b[0;34m(\u001b[0m\u001b[0mkey\u001b[0m\u001b[0;34m)\u001b[0m\u001b[0;34m.\u001b[0m\u001b[0mdifference\u001b[0m\u001b[0;34m(\u001b[0m\u001b[0mself\u001b[0m\u001b[0;34m.\u001b[0m\u001b[0mobj\u001b[0m\u001b[0;34m.\u001b[0m\u001b[0mcolumns\u001b[0m\u001b[0;34m)\u001b[0m\u001b[0;34m)\u001b[0m\u001b[0;34m\u001b[0m\u001b[0;34m\u001b[0m\u001b[0m\n\u001b[1;32m    256\u001b[0m                 raise KeyError(\n\u001b[0;32m--> 257\u001b[0;31m                     \u001b[0;34m\"Columns not found: {missing}\"\u001b[0m\u001b[0;34m.\u001b[0m\u001b[0mformat\u001b[0m\u001b[0;34m(\u001b[0m\u001b[0mmissing\u001b[0m\u001b[0;34m=\u001b[0m\u001b[0mstr\u001b[0m\u001b[0;34m(\u001b[0m\u001b[0mbad_keys\u001b[0m\u001b[0;34m)\u001b[0m\u001b[0;34m[\u001b[0m\u001b[0;36m1\u001b[0m\u001b[0;34m:\u001b[0m\u001b[0;34m-\u001b[0m\u001b[0;36m1\u001b[0m\u001b[0;34m]\u001b[0m\u001b[0;34m)\u001b[0m\u001b[0;34m\u001b[0m\u001b[0;34m\u001b[0m\u001b[0m\n\u001b[0m\u001b[1;32m    258\u001b[0m                 )\n\u001b[1;32m    259\u001b[0m             \u001b[0;32mreturn\u001b[0m \u001b[0mself\u001b[0m\u001b[0;34m.\u001b[0m\u001b[0m_gotitem\u001b[0m\u001b[0;34m(\u001b[0m\u001b[0mlist\u001b[0m\u001b[0;34m(\u001b[0m\u001b[0mkey\u001b[0m\u001b[0;34m)\u001b[0m\u001b[0;34m,\u001b[0m \u001b[0mndim\u001b[0m\u001b[0;34m=\u001b[0m\u001b[0;36m2\u001b[0m\u001b[0;34m)\u001b[0m\u001b[0;34m\u001b[0m\u001b[0;34m\u001b[0m\u001b[0m\n",
      "\u001b[0;31mKeyError\u001b[0m: \"Columns not found: 'value', 'rooms', 'service', 'location', 'cleanliness'\""
     ]
    }
   ],
   "source": [
    "aspect_rating=test.replace(-1,np.nan).groupby('hotel_url')[[\"service\",\"cleanliness\",\"value\",\"location\",\"rooms\"]].mean()"
   ]
  },
  {
   "cell_type": "code",
   "execution_count": 16,
   "metadata": {
    "ExecuteTime": {
     "end_time": "2020-04-07T16:01:13.354607Z",
     "start_time": "2020-04-07T16:01:13.352171Z"
    }
   },
   "outputs": [],
   "source": [
    "aspect_rating=aspect_rating.rename(columns={'service':'aspect 0 ','cleanliness':'aspect 1 ',\\\n",
    "                              'value':'aspect 2 ','location':'aspect 3 ','rooms':'aspect 4 '}).reset_index()\n"
   ]
  },
  {
   "cell_type": "code",
   "execution_count": 17,
   "metadata": {
    "ExecuteTime": {
     "end_time": "2020-04-07T16:01:13.568677Z",
     "start_time": "2020-04-07T16:01:13.566274Z"
    }
   },
   "outputs": [],
   "source": [
    "aspect_rating=pd.melt(aspect_rating, id_vars='hotel_url', value_vars=['aspect 0 ','aspect 1 ','aspect 2 '\\\n",
    "                                                          ,'aspect 3 ','aspect 4 ',])"
   ]
  },
  {
   "cell_type": "code",
   "execution_count": 18,
   "metadata": {
    "ExecuteTime": {
     "end_time": "2020-04-07T16:01:13.983728Z",
     "start_time": "2020-04-07T16:01:13.981431Z"
    }
   },
   "outputs": [],
   "source": [
    "aspect_rating['hotel_url_new']=aspect_rating['variable']+aspect_rating['hotel_url']\n",
    "aspect_rating=aspect_rating[['hotel_url_new','value']].rename(columns={'hotel_url_new':'hotel_url'})\n",
    "\n",
    "aspect_rating"
   ]
  },
  {
   "cell_type": "code",
   "execution_count": 20,
   "metadata": {
    "ExecuteTime": {
     "end_time": "2020-04-04T02:12:58.919751Z",
     "start_time": "2020-04-04T02:12:28.937071Z"
    }
   },
   "outputs": [],
   "source": [
    "\"executed in 30.0\"\n",
    "df.to_json('../review.json',orient='records')"
   ]
  },
  {
   "cell_type": "code",
   "execution_count": null,
   "metadata": {},
   "outputs": [],
   "source": []
  },
  {
   "cell_type": "markdown",
   "metadata": {},
   "source": [
    "## Mask\n",
    "Five aspect:\n",
    "\n",
    "0.service                         \n",
    "1.cleanliness                                                \n",
    "2.value                           \n",
    "3.location  \n",
    "4.room\n",
    "\n",
    "\n",
    "\n",
    " 0-4 in this order\n",
    "\n",
    "Service   Cleanliness Value  Location Room "
   ]
  },
  {
   "cell_type": "code",
   "execution_count": 6,
   "metadata": {
    "ExecuteTime": {
     "end_time": "2020-04-03T17:41:09.385120Z",
     "start_time": "2020-04-03T17:41:09.368345Z"
    }
   },
   "outputs": [],
   "source": [
    "import ast"
   ]
  },
  {
   "cell_type": "code",
   "execution_count": 7,
   "metadata": {
    "ExecuteTime": {
     "end_time": "2020-04-03T17:41:09.441416Z",
     "start_time": "2020-04-03T17:41:09.390884Z"
    }
   },
   "outputs": [
    {
     "data": {
      "text/plain": [
       "[\"unfortunately the accommodation does n't come up to standard !\",\n",
       " 'the free shuttle from the airport is great , which s the main reason we chose the avra and rafina .',\n",
       " 'there is really no other competition in rafina as far as hotel accommodation is concerned-',\n",
       " \"there 's a few places with rooms , and some studios\",\n",
       " 'the hotel is a bit run down , but is due for a makeover soon , which will make it a fantastic place to stay with its proximity to the port and many good restaurants nearby .',\n",
       " \"if you do n't mind a few frayed carpets and a knocked about room you wo n't have any complaints .\"]"
      ]
     },
     "execution_count": 7,
     "metadata": {},
     "output_type": "execute_result"
    }
   ],
   "source": [
    "test['text_filtered_per_sentence'][1]"
   ]
  },
  {
   "cell_type": "code",
   "execution_count": 8,
   "metadata": {
    "ExecuteTime": {
     "end_time": "2020-04-03T17:41:09.447189Z",
     "start_time": "2020-04-03T17:41:09.442812Z"
    }
   },
   "outputs": [
    {
     "data": {
      "text/plain": [
       "\"Unfortunately the accommodation doesn't come up to standard! The free shuttle from the airport is great, which s the main reason we chose The Avra and Rafina. There is really no other competition in Rafina as far as hotel accommodation is concerned- there's a few places with rooms, and some studios but that's about it. The hotel is a bit run down, but is due for a makeover soon, which will make it a fantastic place to stay with its proximity to the port and many good restaurants nearby. If you don't mind a few frayed carpets and a knocked about room you won't have any complaints.\""
      ]
     },
     "execution_count": 8,
     "metadata": {},
     "output_type": "execute_result"
    }
   ],
   "source": [
    "test['text'][1]"
   ]
  },
  {
   "cell_type": "code",
   "execution_count": 9,
   "metadata": {
    "ExecuteTime": {
     "end_time": "2020-04-03T17:41:09.791124Z",
     "start_time": "2020-04-03T17:41:09.482125Z"
    }
   },
   "outputs": [
    {
     "ename": "ValueError",
     "evalue": "malformed node or string: ['clean , cheap if you book 10 days in advance and comfortable .', 'only a 15 minute walk to the top of the town with many choices for breakfast and evening meals .', 'a very good base for exploring he local area , with ross on wye , hay on wye and brecon a short drive away .']",
     "output_type": "error",
     "traceback": [
      "\u001b[0;31m---------------------------------------------------------------------------\u001b[0m",
      "\u001b[0;31mValueError\u001b[0m                                Traceback (most recent call last)",
      "\u001b[0;32m<ipython-input-9-6d373c1e7856>\u001b[0m in \u001b[0;36m<module>\u001b[0;34m\u001b[0m\n\u001b[0;32m----> 1\u001b[0;31m \u001b[0mtest\u001b[0m\u001b[0;34m[\u001b[0m\u001b[0;34m'text_filtered_per_sentence'\u001b[0m\u001b[0;34m]\u001b[0m\u001b[0;34m.\u001b[0m\u001b[0mapply\u001b[0m\u001b[0;34m(\u001b[0m\u001b[0mast\u001b[0m\u001b[0;34m.\u001b[0m\u001b[0mliteral_eval\u001b[0m\u001b[0;34m)\u001b[0m\u001b[0;34m.\u001b[0m\u001b[0mapply\u001b[0m\u001b[0;34m(\u001b[0m\u001b[0mlen\u001b[0m\u001b[0;34m)\u001b[0m\u001b[0;34m\u001b[0m\u001b[0;34m\u001b[0m\u001b[0m\n\u001b[0m",
      "\u001b[0;32m/opt/anaconda3/lib/python3.7/site-packages/pandas/core/series.py\u001b[0m in \u001b[0;36mapply\u001b[0;34m(self, func, convert_dtype, args, **kwds)\u001b[0m\n\u001b[1;32m   4040\u001b[0m             \u001b[0;32melse\u001b[0m\u001b[0;34m:\u001b[0m\u001b[0;34m\u001b[0m\u001b[0;34m\u001b[0m\u001b[0m\n\u001b[1;32m   4041\u001b[0m                 \u001b[0mvalues\u001b[0m \u001b[0;34m=\u001b[0m \u001b[0mself\u001b[0m\u001b[0;34m.\u001b[0m\u001b[0mastype\u001b[0m\u001b[0;34m(\u001b[0m\u001b[0mobject\u001b[0m\u001b[0;34m)\u001b[0m\u001b[0;34m.\u001b[0m\u001b[0mvalues\u001b[0m\u001b[0;34m\u001b[0m\u001b[0;34m\u001b[0m\u001b[0m\n\u001b[0;32m-> 4042\u001b[0;31m                 \u001b[0mmapped\u001b[0m \u001b[0;34m=\u001b[0m \u001b[0mlib\u001b[0m\u001b[0;34m.\u001b[0m\u001b[0mmap_infer\u001b[0m\u001b[0;34m(\u001b[0m\u001b[0mvalues\u001b[0m\u001b[0;34m,\u001b[0m \u001b[0mf\u001b[0m\u001b[0;34m,\u001b[0m \u001b[0mconvert\u001b[0m\u001b[0;34m=\u001b[0m\u001b[0mconvert_dtype\u001b[0m\u001b[0;34m)\u001b[0m\u001b[0;34m\u001b[0m\u001b[0;34m\u001b[0m\u001b[0m\n\u001b[0m\u001b[1;32m   4043\u001b[0m \u001b[0;34m\u001b[0m\u001b[0m\n\u001b[1;32m   4044\u001b[0m         \u001b[0;32mif\u001b[0m \u001b[0mlen\u001b[0m\u001b[0;34m(\u001b[0m\u001b[0mmapped\u001b[0m\u001b[0;34m)\u001b[0m \u001b[0;32mand\u001b[0m \u001b[0misinstance\u001b[0m\u001b[0;34m(\u001b[0m\u001b[0mmapped\u001b[0m\u001b[0;34m[\u001b[0m\u001b[0;36m0\u001b[0m\u001b[0;34m]\u001b[0m\u001b[0;34m,\u001b[0m \u001b[0mSeries\u001b[0m\u001b[0;34m)\u001b[0m\u001b[0;34m:\u001b[0m\u001b[0;34m\u001b[0m\u001b[0;34m\u001b[0m\u001b[0m\n",
      "\u001b[0;32mpandas/_libs/lib.pyx\u001b[0m in \u001b[0;36mpandas._libs.lib.map_infer\u001b[0;34m()\u001b[0m\n",
      "\u001b[0;32m/opt/anaconda3/lib/python3.7/ast.py\u001b[0m in \u001b[0;36mliteral_eval\u001b[0;34m(node_or_string)\u001b[0m\n\u001b[1;32m     89\u001b[0m                     \u001b[0;32mreturn\u001b[0m \u001b[0mleft\u001b[0m \u001b[0;34m-\u001b[0m \u001b[0mright\u001b[0m\u001b[0;34m\u001b[0m\u001b[0;34m\u001b[0m\u001b[0m\n\u001b[1;32m     90\u001b[0m         \u001b[0;32mreturn\u001b[0m \u001b[0m_convert_signed_num\u001b[0m\u001b[0;34m(\u001b[0m\u001b[0mnode\u001b[0m\u001b[0;34m)\u001b[0m\u001b[0;34m\u001b[0m\u001b[0;34m\u001b[0m\u001b[0m\n\u001b[0;32m---> 91\u001b[0;31m     \u001b[0;32mreturn\u001b[0m \u001b[0m_convert\u001b[0m\u001b[0;34m(\u001b[0m\u001b[0mnode_or_string\u001b[0m\u001b[0;34m)\u001b[0m\u001b[0;34m\u001b[0m\u001b[0;34m\u001b[0m\u001b[0m\n\u001b[0m\u001b[1;32m     92\u001b[0m \u001b[0;34m\u001b[0m\u001b[0m\n\u001b[1;32m     93\u001b[0m \u001b[0;34m\u001b[0m\u001b[0m\n",
      "\u001b[0;32m/opt/anaconda3/lib/python3.7/ast.py\u001b[0m in \u001b[0;36m_convert\u001b[0;34m(node)\u001b[0m\n\u001b[1;32m     88\u001b[0m                 \u001b[0;32melse\u001b[0m\u001b[0;34m:\u001b[0m\u001b[0;34m\u001b[0m\u001b[0;34m\u001b[0m\u001b[0m\n\u001b[1;32m     89\u001b[0m                     \u001b[0;32mreturn\u001b[0m \u001b[0mleft\u001b[0m \u001b[0;34m-\u001b[0m \u001b[0mright\u001b[0m\u001b[0;34m\u001b[0m\u001b[0;34m\u001b[0m\u001b[0m\n\u001b[0;32m---> 90\u001b[0;31m         \u001b[0;32mreturn\u001b[0m \u001b[0m_convert_signed_num\u001b[0m\u001b[0;34m(\u001b[0m\u001b[0mnode\u001b[0m\u001b[0;34m)\u001b[0m\u001b[0;34m\u001b[0m\u001b[0;34m\u001b[0m\u001b[0m\n\u001b[0m\u001b[1;32m     91\u001b[0m     \u001b[0;32mreturn\u001b[0m \u001b[0m_convert\u001b[0m\u001b[0;34m(\u001b[0m\u001b[0mnode_or_string\u001b[0m\u001b[0;34m)\u001b[0m\u001b[0;34m\u001b[0m\u001b[0;34m\u001b[0m\u001b[0m\n\u001b[1;32m     92\u001b[0m \u001b[0;34m\u001b[0m\u001b[0m\n",
      "\u001b[0;32m/opt/anaconda3/lib/python3.7/ast.py\u001b[0m in \u001b[0;36m_convert_signed_num\u001b[0;34m(node)\u001b[0m\n\u001b[1;32m     61\u001b[0m             \u001b[0;32melse\u001b[0m\u001b[0;34m:\u001b[0m\u001b[0;34m\u001b[0m\u001b[0;34m\u001b[0m\u001b[0m\n\u001b[1;32m     62\u001b[0m                 \u001b[0;32mreturn\u001b[0m \u001b[0;34m-\u001b[0m \u001b[0moperand\u001b[0m\u001b[0;34m\u001b[0m\u001b[0;34m\u001b[0m\u001b[0m\n\u001b[0;32m---> 63\u001b[0;31m         \u001b[0;32mreturn\u001b[0m \u001b[0m_convert_num\u001b[0m\u001b[0;34m(\u001b[0m\u001b[0mnode\u001b[0m\u001b[0;34m)\u001b[0m\u001b[0;34m\u001b[0m\u001b[0;34m\u001b[0m\u001b[0m\n\u001b[0m\u001b[1;32m     64\u001b[0m     \u001b[0;32mdef\u001b[0m \u001b[0m_convert\u001b[0m\u001b[0;34m(\u001b[0m\u001b[0mnode\u001b[0m\u001b[0;34m)\u001b[0m\u001b[0;34m:\u001b[0m\u001b[0;34m\u001b[0m\u001b[0;34m\u001b[0m\u001b[0m\n\u001b[1;32m     65\u001b[0m         \u001b[0;32mif\u001b[0m \u001b[0misinstance\u001b[0m\u001b[0;34m(\u001b[0m\u001b[0mnode\u001b[0m\u001b[0;34m,\u001b[0m \u001b[0mConstant\u001b[0m\u001b[0;34m)\u001b[0m\u001b[0;34m:\u001b[0m\u001b[0;34m\u001b[0m\u001b[0;34m\u001b[0m\u001b[0m\n",
      "\u001b[0;32m/opt/anaconda3/lib/python3.7/ast.py\u001b[0m in \u001b[0;36m_convert_num\u001b[0;34m(node)\u001b[0m\n\u001b[1;32m     53\u001b[0m         \u001b[0;32melif\u001b[0m \u001b[0misinstance\u001b[0m\u001b[0;34m(\u001b[0m\u001b[0mnode\u001b[0m\u001b[0;34m,\u001b[0m \u001b[0mNum\u001b[0m\u001b[0;34m)\u001b[0m\u001b[0;34m:\u001b[0m\u001b[0;34m\u001b[0m\u001b[0;34m\u001b[0m\u001b[0m\n\u001b[1;32m     54\u001b[0m             \u001b[0;32mreturn\u001b[0m \u001b[0mnode\u001b[0m\u001b[0;34m.\u001b[0m\u001b[0mn\u001b[0m\u001b[0;34m\u001b[0m\u001b[0;34m\u001b[0m\u001b[0m\n\u001b[0;32m---> 55\u001b[0;31m         \u001b[0;32mraise\u001b[0m \u001b[0mValueError\u001b[0m\u001b[0;34m(\u001b[0m\u001b[0;34m'malformed node or string: '\u001b[0m \u001b[0;34m+\u001b[0m \u001b[0mrepr\u001b[0m\u001b[0;34m(\u001b[0m\u001b[0mnode\u001b[0m\u001b[0;34m)\u001b[0m\u001b[0;34m)\u001b[0m\u001b[0;34m\u001b[0m\u001b[0;34m\u001b[0m\u001b[0m\n\u001b[0m\u001b[1;32m     56\u001b[0m     \u001b[0;32mdef\u001b[0m \u001b[0m_convert_signed_num\u001b[0m\u001b[0;34m(\u001b[0m\u001b[0mnode\u001b[0m\u001b[0;34m)\u001b[0m\u001b[0;34m:\u001b[0m\u001b[0;34m\u001b[0m\u001b[0;34m\u001b[0m\u001b[0m\n\u001b[1;32m     57\u001b[0m         \u001b[0;32mif\u001b[0m \u001b[0misinstance\u001b[0m\u001b[0;34m(\u001b[0m\u001b[0mnode\u001b[0m\u001b[0;34m,\u001b[0m \u001b[0mUnaryOp\u001b[0m\u001b[0;34m)\u001b[0m \u001b[0;32mand\u001b[0m \u001b[0misinstance\u001b[0m\u001b[0;34m(\u001b[0m\u001b[0mnode\u001b[0m\u001b[0;34m.\u001b[0m\u001b[0mop\u001b[0m\u001b[0;34m,\u001b[0m \u001b[0;34m(\u001b[0m\u001b[0mUAdd\u001b[0m\u001b[0;34m,\u001b[0m \u001b[0mUSub\u001b[0m\u001b[0;34m)\u001b[0m\u001b[0;34m)\u001b[0m\u001b[0;34m:\u001b[0m\u001b[0;34m\u001b[0m\u001b[0;34m\u001b[0m\u001b[0m\n",
      "\u001b[0;31mValueError\u001b[0m: malformed node or string: ['clean , cheap if you book 10 days in advance and comfortable .', 'only a 15 minute walk to the top of the town with many choices for breakfast and evening meals .', 'a very good base for exploring he local area , with ross on wye , hay on wye and brecon a short drive away .']"
     ]
    }
   ],
   "source": [
    "test['text_filtered_per_sentence'].apply(ast.literal_eval).apply(len)"
   ]
  },
  {
   "cell_type": "code",
   "execution_count": null,
   "metadata": {
    "ExecuteTime": {
     "start_time": "2020-03-31T00:27:11.924Z"
    }
   },
   "outputs": [],
   "source": [
    "test['text_filtered_per_sentence'][3]"
   ]
  },
  {
   "cell_type": "code",
   "execution_count": null,
   "metadata": {
    "ExecuteTime": {
     "start_time": "2020-03-31T00:27:12.081Z"
    }
   },
   "outputs": [],
   "source": [
    "test['text'][3]"
   ]
  },
  {
   "cell_type": "code",
   "execution_count": null,
   "metadata": {
    "ExecuteTime": {
     "start_time": "2020-03-31T00:27:12.337Z"
    }
   },
   "outputs": [],
   "source": [
    "test['aspect_filtered_per_sentence']"
   ]
  },
  {
   "cell_type": "code",
   "execution_count": null,
   "metadata": {
    "ExecuteTime": {
     "start_time": "2020-03-31T00:27:12.509Z"
    }
   },
   "outputs": [],
   "source": [
    "test['text_filtered_per_relation'][0]"
   ]
  },
  {
   "cell_type": "code",
   "execution_count": null,
   "metadata": {
    "ExecuteTime": {
     "start_time": "2020-03-31T00:27:14.257Z"
    }
   },
   "outputs": [],
   "source": [
    "test['text'][1]"
   ]
  },
  {
   "cell_type": "code",
   "execution_count": null,
   "metadata": {
    "ExecuteTime": {
     "start_time": "2020-03-31T00:27:14.421Z"
    }
   },
   "outputs": [],
   "source": [
    "test['aspect_filtered_per_relation']"
   ]
  },
  {
   "cell_type": "code",
   "execution_count": 19,
   "metadata": {
    "ExecuteTime": {
     "end_time": "2020-03-10T11:14:06.256963Z",
     "start_time": "2020-03-10T11:14:06.251282Z"
    }
   },
   "outputs": [
    {
     "data": {
      "text/plain": [
       "0         ['15 minute walk  -(to)-> top', 'many choices ...\n",
       "1         ['free shuttle  -(from)-> airport', 'great  -(...\n",
       "2         ['lovely  -(amod)-> place', 'lovely  -(acomp-n...\n",
       "3         ['very comfortable  -(acomp-nsubj)-> room', 'l...\n",
       "4         ['good  -(amod)-> rate', 'clean  -(acomp-nsubj...\n",
       "                                ...                        \n",
       "257181    ['excellent  -(acomp-nsubj)-> breakfast', 'exc...\n",
       "257182    ['excellent  -(amod)-> hotel', 'great  -(amod)...\n",
       "257183    ['great  -(amod)-> place', 'next stay  -(in)->...\n",
       "257184    ['nice  -(amod)-> lobby', 'nice  -(amod)-> sta...\n",
       "257185    ['great  -(amod)-> place', 'large  -(amod)-> c...\n",
       "Name: rel_filtered_per_relation, Length: 257186, dtype: object"
      ]
     },
     "execution_count": 19,
     "metadata": {},
     "output_type": "execute_result"
    }
   ],
   "source": [
    "test['rel_filtered_per_relation']"
   ]
  },
  {
   "cell_type": "markdown",
   "metadata": {
    "heading_collapsed": true
   },
   "source": [
    "### get rid of empy reviews"
   ]
  },
  {
   "cell_type": "code",
   "execution_count": 14,
   "metadata": {
    "ExecuteTime": {
     "end_time": "2020-03-14T14:47:38.029712Z",
     "start_time": "2020-03-14T14:47:37.946976Z"
    },
    "hidden": true
   },
   "outputs": [
    {
     "data": {
      "text/plain": [
       "0          9\n",
       "1         18\n",
       "2         18\n",
       "3         21\n",
       "4         15\n",
       "          ..\n",
       "257181    12\n",
       "257182     9\n",
       "257183    12\n",
       "257184    15\n",
       "257185    12\n",
       "Name: aspect_filtered_per_sentence, Length: 257186, dtype: int64"
      ]
     },
     "execution_count": 14,
     "metadata": {},
     "output_type": "execute_result"
    }
   ],
   "source": [
    "test['aspect_filtered_per_sentence'].apply(len)"
   ]
  },
  {
   "cell_type": "code",
   "execution_count": 16,
   "metadata": {
    "ExecuteTime": {
     "end_time": "2020-03-14T14:48:33.309746Z",
     "start_time": "2020-03-14T14:48:33.212432Z"
    },
    "hidden": true
   },
   "outputs": [
    {
     "data": {
      "text/plain": [
       "Series([], Name: text, dtype: object)"
      ]
     },
     "execution_count": 16,
     "metadata": {},
     "output_type": "execute_result"
    }
   ],
   "source": [
    "\"\"\"There is no review with 0 mask\"\"\"\n",
    "test['text'][test['aspect_filtered_per_sentence'].apply(len)<=1]"
   ]
  },
  {
   "cell_type": "markdown",
   "metadata": {},
   "source": [
    "### To remove overlap in masks "
   ]
  },
  {
   "cell_type": "code",
   "execution_count": 18,
   "metadata": {
    "ExecuteTime": {
     "end_time": "2020-03-14T14:50:52.023588Z",
     "start_time": "2020-03-14T14:50:45.709794Z"
    }
   },
   "outputs": [],
   "source": [
    "#original aspect\n",
    "original_aspect=test['text_filtered_per_sentence'].apply(ast.literal_eval).apply(set).apply(len)\n",
    "\n"
   ]
  },
  {
   "cell_type": "code",
   "execution_count": 19,
   "metadata": {
    "ExecuteTime": {
     "end_time": "2020-03-14T14:50:59.580487Z",
     "start_time": "2020-03-14T14:50:53.896145Z"
    }
   },
   "outputs": [],
   "source": [
    "#original aspect\n",
    "original_aspect2=test['text_filtered_per_sentence'].apply(ast.literal_eval).apply(len)\n",
    "\n",
    "\n"
   ]
  },
  {
   "cell_type": "code",
   "execution_count": 20,
   "metadata": {
    "ExecuteTime": {
     "end_time": "2020-03-14T14:50:59.622361Z",
     "start_time": "2020-03-14T14:50:59.583508Z"
    }
   },
   "outputs": [
    {
     "data": {
      "text/plain": [
       "62"
      ]
     },
     "execution_count": 20,
     "metadata": {},
     "output_type": "execute_result"
    }
   ],
   "source": [
    "sum(original_aspect2!=original_aspect)"
   ]
  },
  {
   "cell_type": "code",
   "execution_count": 23,
   "metadata": {
    "ExecuteTime": {
     "end_time": "2020-03-14T14:51:36.665968Z",
     "start_time": "2020-03-14T14:51:36.660319Z"
    }
   },
   "outputs": [
    {
     "data": {
      "text/plain": [
       "'[\\'this is a really nice hotel with great views of the arch .\\', \\'the guy who brought our luggage to the room was so nice , and helpful .\\', \"our room was kind of small , but served it \\'s purpose for the 2 night stay , and we had a wonderful view of the arch .\", \\'the bed was comfortable , the linens were clean , and the we had plenty of clean towels .\\', \\'hyatt st louis\\', \\'this is a really nice hotel with great views of the arch .\\', \\'the guy who brought our luggage to the room was so nice , and helpful .\\', \"our room was kind of small , but served it \\'s purpose for the 2 night stay , and we had a wonderful view of the arch .\", \\'the bed was comfortable , the linens were clean , and the we had plenty of clean towels .\\', \\'the shower had mold in the corners , and the tile grout needed cleaning .\\', \\'the bathroom vent also needs to be cleaned .\\']'"
      ]
     },
     "execution_count": 23,
     "metadata": {},
     "output_type": "execute_result"
    }
   ],
   "source": [
    "'''Example of one overlapped mask'''\n",
    "test['text_filtered_per_sentence'][original_aspect2!=original_aspect].iloc[0]"
   ]
  },
  {
   "cell_type": "markdown",
   "metadata": {},
   "source": [
    "<span style=\"color: red;\">'[\\'this is a really nice hotel with great views of the arch .\\', \\'the guy who brought our luggage to the room was so nice , and helpful .\\', \"our room was kind of small , but served it \\'s purpose for the 2 night stay , and we had a wonderful view of the arch .\", \\'the bed was comfortable , the linens were clean , and the we had plenty of clean towels .\\',</span>. \\'hyatt st louis\\', <span style=\"color:blue\">\\'this is a really nice hotel with great views of the arch .\\', \\'the guy who brought our luggage to the room was so nice , and helpful .\\', \"our room was kind of small , but served it \\'s purpose for the 2 night stay , and we had a wonderful view of the arch .\", \\'the bed was comfortable , the linens were clean , and the we had plenty of clean towels .\\',</span> \\'the shower had mold in the corners , and the tile grout needed cleaning .\\', \\'the bathroom vent also needs to be cleaned .\\']'"
   ]
  },
  {
   "cell_type": "code",
   "execution_count": 24,
   "metadata": {
    "ExecuteTime": {
     "end_time": "2020-03-07T20:06:32.632957Z",
     "start_time": "2020-03-07T20:06:32.618027Z"
    }
   },
   "outputs": [],
   "source": [
    "'''62 overlapped mask''';"
   ]
  },
  {
   "cell_type": "markdown",
   "metadata": {},
   "source": [
    "### Relation between original aspect and filtered aspect "
   ]
  },
  {
   "cell_type": "code",
   "execution_count": 25,
   "metadata": {
    "ExecuteTime": {
     "end_time": "2020-03-07T16:18:13.318575Z",
     "start_time": "2020-03-07T16:18:09.353119Z"
    }
   },
   "outputs": [],
   "source": [
    "#original aspect\n",
    "original_aspect=test['aspect_filtered_per_sentence'].apply(ast.literal_eval).apply(set)\n"
   ]
  },
  {
   "cell_type": "code",
   "execution_count": 22,
   "metadata": {
    "ExecuteTime": {
     "end_time": "2020-03-07T16:17:22.039387Z",
     "start_time": "2020-03-07T16:17:17.415020Z"
    }
   },
   "outputs": [],
   "source": [
    "#filtered aspect\n",
    "filtered_aspect=test['aspect_filtered_per_relation'].apply(ast.literal_eval).apply(set)\n",
    "\n",
    "\n"
   ]
  },
  {
   "cell_type": "code",
   "execution_count": 32,
   "metadata": {
    "ExecuteTime": {
     "end_time": "2020-03-07T16:20:42.499083Z",
     "start_time": "2020-03-07T16:20:42.450156Z"
    }
   },
   "outputs": [
    {
     "name": "stdout",
     "output_type": "stream",
     "text": [
      "Percentage of equal coverage of aspects=0.34886813434634856\n"
     ]
    }
   ],
   "source": [
    "equal_proportion=sum(filtered_aspect==original_aspect)/len(filtered_aspect )\n",
    "print('Percentage of equal coverage of aspects={}'.format(equal_proportion))"
   ]
  },
  {
   "cell_type": "code",
   "execution_count": 35,
   "metadata": {
    "ExecuteTime": {
     "end_time": "2020-03-07T16:21:32.850022Z",
     "start_time": "2020-03-07T16:21:32.709266Z"
    }
   },
   "outputs": [
    {
     "name": "stdout",
     "output_type": "stream",
     "text": [
      "filtered cover more than original aspects=0.31661132410006765\n"
     ]
    }
   ],
   "source": [
    "equal_proportion=sum(filtered_aspect.apply(len)>original_aspect.apply(len))/len(filtered_aspect )\n",
    "print('filtered cover more than original aspects={}'.format(equal_proportion))"
   ]
  },
  {
   "cell_type": "code",
   "execution_count": 36,
   "metadata": {
    "ExecuteTime": {
     "end_time": "2020-03-07T16:21:54.551289Z",
     "start_time": "2020-03-07T16:21:54.410334Z"
    }
   },
   "outputs": [
    {
     "name": "stdout",
     "output_type": "stream",
     "text": [
      "Original cover more than filtered aspects=0.23458508627996857\n"
     ]
    }
   ],
   "source": [
    "equal_proportion=sum(filtered_aspect.apply(len)<original_aspect.apply(len))/len(filtered_aspect )\n",
    "print('Original cover more than filtered aspects={}'.format(equal_proportion))"
   ]
  },
  {
   "cell_type": "markdown",
   "metadata": {},
   "source": [
    "### to_json(filtered by relation)"
   ]
  },
  {
   "cell_type": "code",
   "execution_count": 7,
   "metadata": {
    "ExecuteTime": {
     "end_time": "2020-03-07T19:56:26.712755Z",
     "start_time": "2020-03-07T19:56:15.574319Z"
    }
   },
   "outputs": [],
   "source": [
    "test_filtered=test.copy()\n",
    "test_filtered['text_filtered_per_sentence']=test_filtered['text_filtered_per_sentence'].apply(ast.literal_eval).\\\n",
    "apply(lambda x:\"\\\\\".join(x) )\n",
    "\n",
    "\n",
    "\n"
   ]
  },
  {
   "cell_type": "code",
   "execution_count": null,
   "metadata": {},
   "outputs": [],
   "source": [
    "tot=pd.concat([dev,test,train])\n",
    "df=tot.sort_values('hotel_url')[['hotel_url','text_filtered_per_relation_grouped','rating']]\n",
    "df.to_json('../review_filtered.json',orient='records')"
   ]
  },
  {
   "cell_type": "code",
   "execution_count": null,
   "metadata": {},
   "outputs": [],
   "source": []
  },
  {
   "cell_type": "markdown",
   "metadata": {},
   "source": [
    "## subword encoder"
   ]
  },
  {
   "cell_type": "code",
   "execution_count": 3,
   "metadata": {
    "ExecuteTime": {
     "end_time": "2020-04-20T05:41:02.894754Z",
     "start_time": "2020-04-20T05:41:02.890733Z"
    }
   },
   "outputs": [],
   "source": [
    "df=test"
   ]
  },
  {
   "cell_type": "code",
   "execution_count": 4,
   "metadata": {
    "ExecuteTime": {
     "end_time": "2020-04-20T05:41:08.302830Z",
     "start_time": "2020-04-20T05:41:04.836754Z"
    }
   },
   "outputs": [],
   "source": [
    "import tensorflow.compat.v2 as tf\n",
    "import tensorflow_datasets as tfds"
   ]
  },
  {
   "cell_type": "code",
   "execution_count": 5,
   "metadata": {
    "ExecuteTime": {
     "end_time": "2020-04-20T05:45:13.223893Z",
     "start_time": "2020-04-20T05:41:15.738651Z"
    }
   },
   "outputs": [
    {
     "ename": "KeyboardInterrupt",
     "evalue": "",
     "output_type": "error",
     "traceback": [
      "\u001b[0;31m---------------------------------------------------------------------------\u001b[0m",
      "\u001b[0;31mKeyboardInterrupt\u001b[0m                         Traceback (most recent call last)",
      "\u001b[0;32m<ipython-input-5-feb8f44697f3>\u001b[0m in \u001b[0;36m<module>\u001b[0;34m\u001b[0m\n\u001b[1;32m      1\u001b[0m \u001b[0;31m# Build\u001b[0m\u001b[0;34m\u001b[0m\u001b[0;34m\u001b[0m\u001b[0;34m\u001b[0m\u001b[0m\n\u001b[1;32m      2\u001b[0m encoder = tfds.features.text.SubwordTextEncoder.build_from_corpus(\n\u001b[0;32m----> 3\u001b[0;31m     df['text'].to_list(), target_vocab_size=32000)\n\u001b[0m",
      "\u001b[0;32m/opt/anaconda3/lib/python3.7/site-packages/tensorflow_datasets/core/features/text/subword_text_encoder.py\u001b[0m in \u001b[0;36mbuild_from_corpus\u001b[0;34m(cls, corpus_generator, target_vocab_size, max_subword_length, max_corpus_chars, reserved_tokens)\u001b[0m\n\u001b[1;32m    334\u001b[0m \u001b[0;34m\u001b[0m\u001b[0m\n\u001b[1;32m    335\u001b[0m     \u001b[0;31m# Another option could be to do a binary search over *ranks* of the tokens.\u001b[0m\u001b[0;34m\u001b[0m\u001b[0;34m\u001b[0m\u001b[0;34m\u001b[0m\u001b[0m\n\u001b[0;32m--> 336\u001b[0;31m     \u001b[0;32mreturn\u001b[0m \u001b[0m_binary_search\u001b[0m\u001b[0;34m(\u001b[0m\u001b[0mmin_token_count\u001b[0m\u001b[0;34m,\u001b[0m \u001b[0mmax_token_count\u001b[0m\u001b[0;34m)\u001b[0m\u001b[0;34m\u001b[0m\u001b[0;34m\u001b[0m\u001b[0m\n\u001b[0m\u001b[1;32m    337\u001b[0m \u001b[0;34m\u001b[0m\u001b[0m\n\u001b[1;32m    338\u001b[0m   \u001b[0;34m@\u001b[0m\u001b[0mclassmethod\u001b[0m\u001b[0;34m\u001b[0m\u001b[0;34m\u001b[0m\u001b[0m\n",
      "\u001b[0;32m/opt/anaconda3/lib/python3.7/site-packages/tensorflow_datasets/core/features/text/subword_text_encoder.py\u001b[0m in \u001b[0;36m_binary_search\u001b[0;34m(min_token_count, max_token_count)\u001b[0m\n\u001b[1;32m    320\u001b[0m         \u001b[0mnext_encoder\u001b[0m \u001b[0;34m=\u001b[0m \u001b[0m_binary_search\u001b[0m\u001b[0;34m(\u001b[0m\u001b[0mcandidate_min\u001b[0m \u001b[0;34m+\u001b[0m \u001b[0;36m1\u001b[0m\u001b[0;34m,\u001b[0m \u001b[0mmax_token_count\u001b[0m\u001b[0;34m)\u001b[0m\u001b[0;34m\u001b[0m\u001b[0;34m\u001b[0m\u001b[0m\n\u001b[1;32m    321\u001b[0m       \u001b[0;32melse\u001b[0m\u001b[0;34m:\u001b[0m\u001b[0;34m\u001b[0m\u001b[0;34m\u001b[0m\u001b[0m\n\u001b[0;32m--> 322\u001b[0;31m         \u001b[0mnext_encoder\u001b[0m \u001b[0;34m=\u001b[0m \u001b[0m_binary_search\u001b[0m\u001b[0;34m(\u001b[0m\u001b[0mmin_token_count\u001b[0m\u001b[0;34m,\u001b[0m \u001b[0mcandidate_min\u001b[0m \u001b[0;34m-\u001b[0m \u001b[0;36m1\u001b[0m\u001b[0;34m)\u001b[0m\u001b[0;34m\u001b[0m\u001b[0;34m\u001b[0m\u001b[0m\n\u001b[0m\u001b[1;32m    323\u001b[0m \u001b[0;34m\u001b[0m\u001b[0m\n\u001b[1;32m    324\u001b[0m       \u001b[0;31m# Return the one that's closest to the target_vocab_size\u001b[0m\u001b[0;34m\u001b[0m\u001b[0;34m\u001b[0m\u001b[0;34m\u001b[0m\u001b[0m\n",
      "\u001b[0;32m/opt/anaconda3/lib/python3.7/site-packages/tensorflow_datasets/core/features/text/subword_text_encoder.py\u001b[0m in \u001b[0;36m_binary_search\u001b[0;34m(min_token_count, max_token_count)\u001b[0m\n\u001b[1;32m    320\u001b[0m         \u001b[0mnext_encoder\u001b[0m \u001b[0;34m=\u001b[0m \u001b[0m_binary_search\u001b[0m\u001b[0;34m(\u001b[0m\u001b[0mcandidate_min\u001b[0m \u001b[0;34m+\u001b[0m \u001b[0;36m1\u001b[0m\u001b[0;34m,\u001b[0m \u001b[0mmax_token_count\u001b[0m\u001b[0;34m)\u001b[0m\u001b[0;34m\u001b[0m\u001b[0;34m\u001b[0m\u001b[0m\n\u001b[1;32m    321\u001b[0m       \u001b[0;32melse\u001b[0m\u001b[0;34m:\u001b[0m\u001b[0;34m\u001b[0m\u001b[0;34m\u001b[0m\u001b[0m\n\u001b[0;32m--> 322\u001b[0;31m         \u001b[0mnext_encoder\u001b[0m \u001b[0;34m=\u001b[0m \u001b[0m_binary_search\u001b[0m\u001b[0;34m(\u001b[0m\u001b[0mmin_token_count\u001b[0m\u001b[0;34m,\u001b[0m \u001b[0mcandidate_min\u001b[0m \u001b[0;34m-\u001b[0m \u001b[0;36m1\u001b[0m\u001b[0;34m)\u001b[0m\u001b[0;34m\u001b[0m\u001b[0;34m\u001b[0m\u001b[0m\n\u001b[0m\u001b[1;32m    323\u001b[0m \u001b[0;34m\u001b[0m\u001b[0m\n\u001b[1;32m    324\u001b[0m       \u001b[0;31m# Return the one that's closest to the target_vocab_size\u001b[0m\u001b[0;34m\u001b[0m\u001b[0;34m\u001b[0m\u001b[0;34m\u001b[0m\u001b[0m\n",
      "\u001b[0;32m/opt/anaconda3/lib/python3.7/site-packages/tensorflow_datasets/core/features/text/subword_text_encoder.py\u001b[0m in \u001b[0;36m_binary_search\u001b[0;34m(min_token_count, max_token_count)\u001b[0m\n\u001b[1;32m    320\u001b[0m         \u001b[0mnext_encoder\u001b[0m \u001b[0;34m=\u001b[0m \u001b[0m_binary_search\u001b[0m\u001b[0;34m(\u001b[0m\u001b[0mcandidate_min\u001b[0m \u001b[0;34m+\u001b[0m \u001b[0;36m1\u001b[0m\u001b[0;34m,\u001b[0m \u001b[0mmax_token_count\u001b[0m\u001b[0;34m)\u001b[0m\u001b[0;34m\u001b[0m\u001b[0;34m\u001b[0m\u001b[0m\n\u001b[1;32m    321\u001b[0m       \u001b[0;32melse\u001b[0m\u001b[0;34m:\u001b[0m\u001b[0;34m\u001b[0m\u001b[0;34m\u001b[0m\u001b[0m\n\u001b[0;32m--> 322\u001b[0;31m         \u001b[0mnext_encoder\u001b[0m \u001b[0;34m=\u001b[0m \u001b[0m_binary_search\u001b[0m\u001b[0;34m(\u001b[0m\u001b[0mmin_token_count\u001b[0m\u001b[0;34m,\u001b[0m \u001b[0mcandidate_min\u001b[0m \u001b[0;34m-\u001b[0m \u001b[0;36m1\u001b[0m\u001b[0;34m)\u001b[0m\u001b[0;34m\u001b[0m\u001b[0;34m\u001b[0m\u001b[0m\n\u001b[0m\u001b[1;32m    323\u001b[0m \u001b[0;34m\u001b[0m\u001b[0m\n\u001b[1;32m    324\u001b[0m       \u001b[0;31m# Return the one that's closest to the target_vocab_size\u001b[0m\u001b[0;34m\u001b[0m\u001b[0;34m\u001b[0m\u001b[0;34m\u001b[0m\u001b[0m\n",
      "\u001b[0;32m/opt/anaconda3/lib/python3.7/site-packages/tensorflow_datasets/core/features/text/subword_text_encoder.py\u001b[0m in \u001b[0;36m_binary_search\u001b[0;34m(min_token_count, max_token_count)\u001b[0m\n\u001b[1;32m    320\u001b[0m         \u001b[0mnext_encoder\u001b[0m \u001b[0;34m=\u001b[0m \u001b[0m_binary_search\u001b[0m\u001b[0;34m(\u001b[0m\u001b[0mcandidate_min\u001b[0m \u001b[0;34m+\u001b[0m \u001b[0;36m1\u001b[0m\u001b[0;34m,\u001b[0m \u001b[0mmax_token_count\u001b[0m\u001b[0;34m)\u001b[0m\u001b[0;34m\u001b[0m\u001b[0;34m\u001b[0m\u001b[0m\n\u001b[1;32m    321\u001b[0m       \u001b[0;32melse\u001b[0m\u001b[0;34m:\u001b[0m\u001b[0;34m\u001b[0m\u001b[0;34m\u001b[0m\u001b[0m\n\u001b[0;32m--> 322\u001b[0;31m         \u001b[0mnext_encoder\u001b[0m \u001b[0;34m=\u001b[0m \u001b[0m_binary_search\u001b[0m\u001b[0;34m(\u001b[0m\u001b[0mmin_token_count\u001b[0m\u001b[0;34m,\u001b[0m \u001b[0mcandidate_min\u001b[0m \u001b[0;34m-\u001b[0m \u001b[0;36m1\u001b[0m\u001b[0;34m)\u001b[0m\u001b[0;34m\u001b[0m\u001b[0;34m\u001b[0m\u001b[0m\n\u001b[0m\u001b[1;32m    323\u001b[0m \u001b[0;34m\u001b[0m\u001b[0m\n\u001b[1;32m    324\u001b[0m       \u001b[0;31m# Return the one that's closest to the target_vocab_size\u001b[0m\u001b[0;34m\u001b[0m\u001b[0;34m\u001b[0m\u001b[0;34m\u001b[0m\u001b[0m\n",
      "\u001b[0;32m/opt/anaconda3/lib/python3.7/site-packages/tensorflow_datasets/core/features/text/subword_text_encoder.py\u001b[0m in \u001b[0;36m_binary_search\u001b[0;34m(min_token_count, max_token_count)\u001b[0m\n\u001b[1;32m    320\u001b[0m         \u001b[0mnext_encoder\u001b[0m \u001b[0;34m=\u001b[0m \u001b[0m_binary_search\u001b[0m\u001b[0;34m(\u001b[0m\u001b[0mcandidate_min\u001b[0m \u001b[0;34m+\u001b[0m \u001b[0;36m1\u001b[0m\u001b[0;34m,\u001b[0m \u001b[0mmax_token_count\u001b[0m\u001b[0;34m)\u001b[0m\u001b[0;34m\u001b[0m\u001b[0;34m\u001b[0m\u001b[0m\n\u001b[1;32m    321\u001b[0m       \u001b[0;32melse\u001b[0m\u001b[0;34m:\u001b[0m\u001b[0;34m\u001b[0m\u001b[0;34m\u001b[0m\u001b[0m\n\u001b[0;32m--> 322\u001b[0;31m         \u001b[0mnext_encoder\u001b[0m \u001b[0;34m=\u001b[0m \u001b[0m_binary_search\u001b[0m\u001b[0;34m(\u001b[0m\u001b[0mmin_token_count\u001b[0m\u001b[0;34m,\u001b[0m \u001b[0mcandidate_min\u001b[0m \u001b[0;34m-\u001b[0m \u001b[0;36m1\u001b[0m\u001b[0;34m)\u001b[0m\u001b[0;34m\u001b[0m\u001b[0;34m\u001b[0m\u001b[0m\n\u001b[0m\u001b[1;32m    323\u001b[0m \u001b[0;34m\u001b[0m\u001b[0m\n\u001b[1;32m    324\u001b[0m       \u001b[0;31m# Return the one that's closest to the target_vocab_size\u001b[0m\u001b[0;34m\u001b[0m\u001b[0;34m\u001b[0m\u001b[0;34m\u001b[0m\u001b[0m\n",
      "\u001b[0;32m/opt/anaconda3/lib/python3.7/site-packages/tensorflow_datasets/core/features/text/subword_text_encoder.py\u001b[0m in \u001b[0;36m_binary_search\u001b[0;34m(min_token_count, max_token_count)\u001b[0m\n\u001b[1;32m    320\u001b[0m         \u001b[0mnext_encoder\u001b[0m \u001b[0;34m=\u001b[0m \u001b[0m_binary_search\u001b[0m\u001b[0;34m(\u001b[0m\u001b[0mcandidate_min\u001b[0m \u001b[0;34m+\u001b[0m \u001b[0;36m1\u001b[0m\u001b[0;34m,\u001b[0m \u001b[0mmax_token_count\u001b[0m\u001b[0;34m)\u001b[0m\u001b[0;34m\u001b[0m\u001b[0;34m\u001b[0m\u001b[0m\n\u001b[1;32m    321\u001b[0m       \u001b[0;32melse\u001b[0m\u001b[0;34m:\u001b[0m\u001b[0;34m\u001b[0m\u001b[0;34m\u001b[0m\u001b[0m\n\u001b[0;32m--> 322\u001b[0;31m         \u001b[0mnext_encoder\u001b[0m \u001b[0;34m=\u001b[0m \u001b[0m_binary_search\u001b[0m\u001b[0;34m(\u001b[0m\u001b[0mmin_token_count\u001b[0m\u001b[0;34m,\u001b[0m \u001b[0mcandidate_min\u001b[0m \u001b[0;34m-\u001b[0m \u001b[0;36m1\u001b[0m\u001b[0;34m)\u001b[0m\u001b[0;34m\u001b[0m\u001b[0;34m\u001b[0m\u001b[0m\n\u001b[0m\u001b[1;32m    323\u001b[0m \u001b[0;34m\u001b[0m\u001b[0m\n\u001b[1;32m    324\u001b[0m       \u001b[0;31m# Return the one that's closest to the target_vocab_size\u001b[0m\u001b[0;34m\u001b[0m\u001b[0;34m\u001b[0m\u001b[0;34m\u001b[0m\u001b[0m\n",
      "\u001b[0;32m/opt/anaconda3/lib/python3.7/site-packages/tensorflow_datasets/core/features/text/subword_text_encoder.py\u001b[0m in \u001b[0;36m_binary_search\u001b[0;34m(min_token_count, max_token_count)\u001b[0m\n\u001b[1;32m    320\u001b[0m         \u001b[0mnext_encoder\u001b[0m \u001b[0;34m=\u001b[0m \u001b[0m_binary_search\u001b[0m\u001b[0;34m(\u001b[0m\u001b[0mcandidate_min\u001b[0m \u001b[0;34m+\u001b[0m \u001b[0;36m1\u001b[0m\u001b[0;34m,\u001b[0m \u001b[0mmax_token_count\u001b[0m\u001b[0;34m)\u001b[0m\u001b[0;34m\u001b[0m\u001b[0;34m\u001b[0m\u001b[0m\n\u001b[1;32m    321\u001b[0m       \u001b[0;32melse\u001b[0m\u001b[0;34m:\u001b[0m\u001b[0;34m\u001b[0m\u001b[0;34m\u001b[0m\u001b[0m\n\u001b[0;32m--> 322\u001b[0;31m         \u001b[0mnext_encoder\u001b[0m \u001b[0;34m=\u001b[0m \u001b[0m_binary_search\u001b[0m\u001b[0;34m(\u001b[0m\u001b[0mmin_token_count\u001b[0m\u001b[0;34m,\u001b[0m \u001b[0mcandidate_min\u001b[0m \u001b[0;34m-\u001b[0m \u001b[0;36m1\u001b[0m\u001b[0;34m)\u001b[0m\u001b[0;34m\u001b[0m\u001b[0;34m\u001b[0m\u001b[0m\n\u001b[0m\u001b[1;32m    323\u001b[0m \u001b[0;34m\u001b[0m\u001b[0m\n\u001b[1;32m    324\u001b[0m       \u001b[0;31m# Return the one that's closest to the target_vocab_size\u001b[0m\u001b[0;34m\u001b[0m\u001b[0;34m\u001b[0m\u001b[0;34m\u001b[0m\u001b[0m\n",
      "\u001b[0;32m/opt/anaconda3/lib/python3.7/site-packages/tensorflow_datasets/core/features/text/subword_text_encoder.py\u001b[0m in \u001b[0;36m_binary_search\u001b[0;34m(min_token_count, max_token_count)\u001b[0m\n\u001b[1;32m    320\u001b[0m         \u001b[0mnext_encoder\u001b[0m \u001b[0;34m=\u001b[0m \u001b[0m_binary_search\u001b[0m\u001b[0;34m(\u001b[0m\u001b[0mcandidate_min\u001b[0m \u001b[0;34m+\u001b[0m \u001b[0;36m1\u001b[0m\u001b[0;34m,\u001b[0m \u001b[0mmax_token_count\u001b[0m\u001b[0;34m)\u001b[0m\u001b[0;34m\u001b[0m\u001b[0;34m\u001b[0m\u001b[0m\n\u001b[1;32m    321\u001b[0m       \u001b[0;32melse\u001b[0m\u001b[0;34m:\u001b[0m\u001b[0;34m\u001b[0m\u001b[0;34m\u001b[0m\u001b[0m\n\u001b[0;32m--> 322\u001b[0;31m         \u001b[0mnext_encoder\u001b[0m \u001b[0;34m=\u001b[0m \u001b[0m_binary_search\u001b[0m\u001b[0;34m(\u001b[0m\u001b[0mmin_token_count\u001b[0m\u001b[0;34m,\u001b[0m \u001b[0mcandidate_min\u001b[0m \u001b[0;34m-\u001b[0m \u001b[0;36m1\u001b[0m\u001b[0;34m)\u001b[0m\u001b[0;34m\u001b[0m\u001b[0;34m\u001b[0m\u001b[0m\n\u001b[0m\u001b[1;32m    323\u001b[0m \u001b[0;34m\u001b[0m\u001b[0m\n\u001b[1;32m    324\u001b[0m       \u001b[0;31m# Return the one that's closest to the target_vocab_size\u001b[0m\u001b[0;34m\u001b[0m\u001b[0;34m\u001b[0m\u001b[0;34m\u001b[0m\u001b[0m\n",
      "\u001b[0;32m/opt/anaconda3/lib/python3.7/site-packages/tensorflow_datasets/core/features/text/subword_text_encoder.py\u001b[0m in \u001b[0;36m_binary_search\u001b[0;34m(min_token_count, max_token_count)\u001b[0m\n\u001b[1;32m    320\u001b[0m         \u001b[0mnext_encoder\u001b[0m \u001b[0;34m=\u001b[0m \u001b[0m_binary_search\u001b[0m\u001b[0;34m(\u001b[0m\u001b[0mcandidate_min\u001b[0m \u001b[0;34m+\u001b[0m \u001b[0;36m1\u001b[0m\u001b[0;34m,\u001b[0m \u001b[0mmax_token_count\u001b[0m\u001b[0;34m)\u001b[0m\u001b[0;34m\u001b[0m\u001b[0;34m\u001b[0m\u001b[0m\n\u001b[1;32m    321\u001b[0m       \u001b[0;32melse\u001b[0m\u001b[0;34m:\u001b[0m\u001b[0;34m\u001b[0m\u001b[0;34m\u001b[0m\u001b[0m\n\u001b[0;32m--> 322\u001b[0;31m         \u001b[0mnext_encoder\u001b[0m \u001b[0;34m=\u001b[0m \u001b[0m_binary_search\u001b[0m\u001b[0;34m(\u001b[0m\u001b[0mmin_token_count\u001b[0m\u001b[0;34m,\u001b[0m \u001b[0mcandidate_min\u001b[0m \u001b[0;34m-\u001b[0m \u001b[0;36m1\u001b[0m\u001b[0;34m)\u001b[0m\u001b[0;34m\u001b[0m\u001b[0;34m\u001b[0m\u001b[0m\n\u001b[0m\u001b[1;32m    323\u001b[0m \u001b[0;34m\u001b[0m\u001b[0m\n\u001b[1;32m    324\u001b[0m       \u001b[0;31m# Return the one that's closest to the target_vocab_size\u001b[0m\u001b[0;34m\u001b[0m\u001b[0;34m\u001b[0m\u001b[0;34m\u001b[0m\u001b[0m\n",
      "\u001b[0;32m/opt/anaconda3/lib/python3.7/site-packages/tensorflow_datasets/core/features/text/subword_text_encoder.py\u001b[0m in \u001b[0;36m_binary_search\u001b[0;34m(min_token_count, max_token_count)\u001b[0m\n\u001b[1;32m    305\u001b[0m           \u001b[0mreserved_tokens\u001b[0m\u001b[0;34m=\u001b[0m\u001b[0mreserved_tokens\u001b[0m\u001b[0;34m,\u001b[0m\u001b[0;34m\u001b[0m\u001b[0;34m\u001b[0m\u001b[0m\n\u001b[1;32m    306\u001b[0m           \u001b[0mnum_iterations\u001b[0m\u001b[0;34m=\u001b[0m\u001b[0;36m4\u001b[0m\u001b[0;34m,\u001b[0m\u001b[0;34m\u001b[0m\u001b[0;34m\u001b[0m\u001b[0m\n\u001b[0;32m--> 307\u001b[0;31m           max_subword_length=max_subword_length)\n\u001b[0m\u001b[1;32m    308\u001b[0m       \u001b[0mvocab_size\u001b[0m \u001b[0;34m=\u001b[0m \u001b[0mencoder\u001b[0m\u001b[0;34m.\u001b[0m\u001b[0mvocab_size\u001b[0m\u001b[0;34m\u001b[0m\u001b[0;34m\u001b[0m\u001b[0m\n\u001b[1;32m    309\u001b[0m \u001b[0;34m\u001b[0m\u001b[0m\n",
      "\u001b[0;32m/opt/anaconda3/lib/python3.7/site-packages/tensorflow_datasets/core/features/text/subword_text_encoder.py\u001b[0m in \u001b[0;36m_build_from_token_counts\u001b[0;34m(cls, token_counts, min_token_count, reserved_tokens, num_iterations, max_subword_length)\u001b[0m\n\u001b[1;32m    357\u001b[0m       \u001b[0;31m# Group subword candidates by length and filter bad candidates\u001b[0m\u001b[0;34m\u001b[0m\u001b[0;34m\u001b[0m\u001b[0;34m\u001b[0m\u001b[0m\n\u001b[1;32m    358\u001b[0m       \u001b[0mlen_to_subwords\u001b[0m \u001b[0;34m=\u001b[0m \u001b[0;34m[\u001b[0m\u001b[0mset\u001b[0m\u001b[0;34m(\u001b[0m\u001b[0;34m)\u001b[0m \u001b[0;32mfor\u001b[0m \u001b[0m_\u001b[0m \u001b[0;32min\u001b[0m \u001b[0mrange\u001b[0m\u001b[0;34m(\u001b[0m\u001b[0mmax_subword_length\u001b[0m \u001b[0;34m+\u001b[0m \u001b[0;36m1\u001b[0m\u001b[0;34m)\u001b[0m\u001b[0;34m]\u001b[0m\u001b[0;34m\u001b[0m\u001b[0;34m\u001b[0m\u001b[0m\n\u001b[0;32m--> 359\u001b[0;31m       \u001b[0;32mfor\u001b[0m \u001b[0msubword\u001b[0m\u001b[0;34m,\u001b[0m \u001b[0mcount\u001b[0m \u001b[0;32min\u001b[0m \u001b[0msix\u001b[0m\u001b[0;34m.\u001b[0m\u001b[0miteritems\u001b[0m\u001b[0;34m(\u001b[0m\u001b[0msubword_counts\u001b[0m\u001b[0;34m)\u001b[0m\u001b[0;34m:\u001b[0m\u001b[0;34m\u001b[0m\u001b[0;34m\u001b[0m\u001b[0m\n\u001b[0m\u001b[1;32m    360\u001b[0m         \u001b[0;32mif\u001b[0m \u001b[0mcount\u001b[0m \u001b[0;34m<\u001b[0m \u001b[0mmin_token_count\u001b[0m\u001b[0;34m:\u001b[0m\u001b[0;34m\u001b[0m\u001b[0;34m\u001b[0m\u001b[0m\n\u001b[1;32m    361\u001b[0m           \u001b[0;32mcontinue\u001b[0m\u001b[0;34m\u001b[0m\u001b[0;34m\u001b[0m\u001b[0m\n",
      "\u001b[0;31mKeyboardInterrupt\u001b[0m: "
     ]
    }
   ],
   "source": [
    "# Build\n",
    "encoder = tfds.features.text.SubwordTextEncoder.build_from_corpus(\n",
    "    df['text'].to_list(), target_vocab_size=32000)"
   ]
  },
  {
   "cell_type": "code",
   "execution_count": null,
   "metadata": {},
   "outputs": [],
   "source": []
  },
  {
   "cell_type": "code",
   "execution_count": null,
   "metadata": {},
   "outputs": [],
   "source": []
  },
  {
   "cell_type": "code",
   "execution_count": null,
   "metadata": {},
   "outputs": [],
   "source": []
  },
  {
   "cell_type": "code",
   "execution_count": 10,
   "metadata": {
    "ExecuteTime": {
     "end_time": "2020-02-26T08:24:29.817272Z",
     "start_time": "2020-02-26T08:24:29.752727Z"
    }
   },
   "outputs": [],
   "source": [
    "import pickle\n",
    "with open('../processed/subwordenc_32000_secondpass.pkl', 'wb') as file:\n",
    "    pickle.dump(encoder, file, protocol=pickle.HIGHEST_PROTOCOL)"
   ]
  },
  {
   "cell_type": "code",
   "execution_count": 11,
   "metadata": {
    "ExecuteTime": {
     "end_time": "2020-02-26T08:24:29.869464Z",
     "start_time": "2020-02-26T08:24:29.824959Z"
    }
   },
   "outputs": [
    {
     "data": {
      "text/plain": [
       "[22022, 19355, 7888, 31880, 10213, 7054, 31880, 17395, 6183, 6904, 19355]"
      ]
     },
     "execution_count": 11,
     "metadata": {},
     "output_type": "execute_result"
    }
   ],
   "source": [
    "encoder.encode('hhhhhdsfhladfhklsahhh')"
   ]
  },
  {
   "cell_type": "code",
   "execution_count": null,
   "metadata": {},
   "outputs": [],
   "source": []
  }
 ],
 "metadata": {
  "kernelspec": {
   "display_name": "Python 3",
   "language": "python",
   "name": "python3"
  },
  "language_info": {
   "codemirror_mode": {
    "name": "ipython",
    "version": 3
   },
   "file_extension": ".py",
   "mimetype": "text/x-python",
   "name": "python",
   "nbconvert_exporter": "python",
   "pygments_lexer": "ipython3",
   "version": "3.7.4"
  },
  "latex_envs": {
   "LaTeX_envs_menu_present": true,
   "autoclose": false,
   "autocomplete": true,
   "bibliofile": "biblio.bib",
   "cite_by": "apalike",
   "current_citInitial": 1,
   "eqLabelWithNumbers": true,
   "eqNumInitial": 1,
   "hotkeys": {
    "equation": "Ctrl-E",
    "itemize": "Ctrl-I"
   },
   "labels_anchors": false,
   "latex_user_defs": false,
   "report_style_numbering": false,
   "user_envs_cfg": false
  },
  "notify_time": "10"
 },
 "nbformat": 4,
 "nbformat_minor": 2
}
