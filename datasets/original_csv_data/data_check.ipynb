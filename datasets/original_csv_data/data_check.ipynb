{
 "cells": [
  {
   "cell_type": "code",
   "execution_count": 1,
   "metadata": {
    "ExecuteTime": {
     "end_time": "2020-03-07T16:06:54.133083Z",
     "start_time": "2020-03-07T16:06:53.118034Z"
    }
   },
   "outputs": [],
   "source": [
    "import pandas as pd\n",
    "import numpy as np\n",
    "%matplotlib inline\n",
    "import matplotlib.pyplot as plt"
   ]
  },
  {
   "cell_type": "code",
   "execution_count": 2,
   "metadata": {
    "ExecuteTime": {
     "end_time": "2020-03-07T16:07:03.263077Z",
     "start_time": "2020-03-07T16:06:57.000962Z"
    }
   },
   "outputs": [],
   "source": [
    "test=pd.read_csv('./test.csv')\n",
    "#train=pd.read_csv('./train.csv')\n",
    "#dev=pd.read_csv('./dev.csv')"
   ]
  },
  {
   "cell_type": "code",
   "execution_count": 3,
   "metadata": {
    "ExecuteTime": {
     "end_time": "2020-02-25T23:01:12.147069Z",
     "start_time": "2020-02-25T23:01:12.129150Z"
    }
   },
   "outputs": [
    {
     "data": {
      "text/plain": [
       "(1749157, 257186, 216030)"
      ]
     },
     "execution_count": 3,
     "metadata": {},
     "output_type": "execute_result"
    }
   ],
   "source": [
    "len(train),len(test),len(dev)"
   ]
  },
  {
   "cell_type": "code",
   "execution_count": 3,
   "metadata": {
    "ExecuteTime": {
     "end_time": "2020-03-07T16:07:08.221295Z",
     "start_time": "2020-03-07T16:07:08.210671Z"
    }
   },
   "outputs": [
    {
     "data": {
      "text/plain": [
       "0    4.0\n",
       "1    3.0\n",
       "2    5.0\n",
       "3    5.0\n",
       "4    4.0\n",
       "Name: rating, dtype: float64"
      ]
     },
     "execution_count": 3,
     "metadata": {},
     "output_type": "execute_result"
    }
   ],
   "source": [
    "test['rating'].head()"
   ]
  },
  {
   "cell_type": "code",
   "execution_count": 4,
   "metadata": {
    "ExecuteTime": {
     "end_time": "2020-03-07T16:07:09.850191Z",
     "start_time": "2020-03-07T16:07:09.609122Z"
    },
    "scrolled": true
   },
   "outputs": [
    {
     "name": "stdout",
     "output_type": "stream",
     "text": [
      "<class 'pandas.core.frame.DataFrame'>\n",
      "RangeIndex: 257186 entries, 0 to 257185\n",
      "Data columns (total 28 columns):\n",
      "Unnamed: 0                      257186 non-null int64\n",
      "Unnamed: 0.1                    257186 non-null int64\n",
      "Unnamed: 0.1.1                  257186 non-null int64\n",
      "author                          257186 non-null object\n",
      "hotel_url                       257186 non-null object\n",
      "property_dict                   257186 non-null object\n",
      "rating                          257186 non-null float64\n",
      "text                            257186 non-null object\n",
      "timeStruct                      257186 non-null object\n",
      "timeUnix                        257186 non-null int64\n",
      "service                         257186 non-null float64\n",
      "cleanliness                     257186 non-null float64\n",
      "rooms                           257186 non-null float64\n",
      "value                           257186 non-null float64\n",
      "location                        257186 non-null float64\n",
      "bin_service                     257186 non-null float64\n",
      "bin_cleanliness                 257186 non-null float64\n",
      "bin_rooms                       257186 non-null float64\n",
      "bin_value                       257186 non-null float64\n",
      "bin_location                    257186 non-null float64\n",
      "bin_rating                      257186 non-null float64\n",
      "text_filtered_per_sentence      257186 non-null object\n",
      "aspect_filtered_per_sentence    257186 non-null object\n",
      "text_filtered_per_relation      257186 non-null object\n",
      "aspect_filtered_per_relation    257186 non-null object\n",
      "rel_filtered_per_relation       257186 non-null object\n",
      "set_kw                          257186 non-null object\n",
      "id                              257186 non-null int64\n",
      "dtypes: float64(12), int64(5), object(11)\n",
      "memory usage: 54.9+ MB\n"
     ]
    }
   ],
   "source": [
    "test.info()"
   ]
  },
  {
   "cell_type": "markdown",
   "metadata": {},
   "source": [
    "# Mask\n",
    "Five aspect:\n",
    "\n",
    "0.service                         \n",
    "1.cleanliness                                                \n",
    "2.value                           \n",
    "3.location  \n",
    "4.room\n",
    "\n",
    "\n",
    "\n",
    " 0-4 in this order\n",
    "\n",
    "Service   Cleanliness Value  Location Room "
   ]
  },
  {
   "cell_type": "code",
   "execution_count": 8,
   "metadata": {
    "ExecuteTime": {
     "end_time": "2020-03-07T16:08:02.221305Z",
     "start_time": "2020-03-07T16:08:02.218517Z"
    }
   },
   "outputs": [],
   "source": [
    "import ast"
   ]
  },
  {
   "cell_type": "code",
   "execution_count": 11,
   "metadata": {
    "ExecuteTime": {
     "end_time": "2020-03-07T16:11:23.029390Z",
     "start_time": "2020-03-07T16:11:23.025257Z"
    }
   },
   "outputs": [
    {
     "data": {
      "text/plain": [
       "'[\"unfortunately the accommodation does n\\'t come up to standard !\", \\'the free shuttle from the airport is great , which s the main reason we chose the avra and rafina .\\', \\'there is really no other competition in rafina as far as hotel accommodation is concerned-\\', \"there \\'s a few places with rooms , and some studios\", \\'the hotel is a bit run down , but is due for a makeover soon , which will make it a fantastic place to stay with its proximity to the port and many good restaurants nearby .\\', \"if you do n\\'t mind a few frayed carpets and a knocked about room you wo n\\'t have any complaints .\"]'"
      ]
     },
     "execution_count": 11,
     "metadata": {},
     "output_type": "execute_result"
    }
   ],
   "source": [
    "test['text_filtered_per_sentence'][1]"
   ]
  },
  {
   "cell_type": "code",
   "execution_count": 12,
   "metadata": {
    "ExecuteTime": {
     "end_time": "2020-03-07T16:11:45.812317Z",
     "start_time": "2020-03-07T16:11:45.808447Z"
    }
   },
   "outputs": [
    {
     "data": {
      "text/plain": [
       "\"Unfortunately the accommodation doesn't come up to standard! The free shuttle from the airport is great, which s the main reason we chose The Avra and Rafina. There is really no other competition in Rafina as far as hotel accommodation is concerned- there's a few places with rooms, and some studios but that's about it. The hotel is a bit run down, but is due for a makeover soon, which will make it a fantastic place to stay with its proximity to the port and many good restaurants nearby. If you don't mind a few frayed carpets and a knocked about room you won't have any complaints.\""
      ]
     },
     "execution_count": 12,
     "metadata": {},
     "output_type": "execute_result"
    }
   ],
   "source": [
    "test['text'][1]"
   ]
  },
  {
   "cell_type": "code",
   "execution_count": 9,
   "metadata": {
    "ExecuteTime": {
     "end_time": "2020-03-07T16:08:09.493893Z",
     "start_time": "2020-03-07T16:08:04.799734Z"
    }
   },
   "outputs": [
    {
     "data": {
      "text/plain": [
       "0         3\n",
       "1         6\n",
       "2         6\n",
       "3         7\n",
       "4         5\n",
       "         ..\n",
       "257181    4\n",
       "257182    3\n",
       "257183    4\n",
       "257184    5\n",
       "257185    4\n",
       "Name: text_filtered_per_sentence, Length: 257186, dtype: int64"
      ]
     },
     "execution_count": 9,
     "metadata": {},
     "output_type": "execute_result"
    }
   ],
   "source": [
    "test['text_filtered_per_sentence'].apply(ast.literal_eval).apply(len)"
   ]
  },
  {
   "cell_type": "code",
   "execution_count": 10,
   "metadata": {
    "ExecuteTime": {
     "end_time": "2020-03-07T16:08:11.711780Z",
     "start_time": "2020-03-07T16:08:11.706304Z"
    }
   },
   "outputs": [
    {
     "data": {
      "text/plain": [
       "0                     [4, 3, 3]\n",
       "1            [1, 3, 3, 2, 3, 1]\n",
       "2            [4, 3, 4, 0, 0, 3]\n",
       "3         [1, 4, 0, 3, 3, 3, 0]\n",
       "4               [2, 1, 4, 3, 3]\n",
       "                  ...          \n",
       "257181             [3, 4, 0, 0]\n",
       "257182                [3, 3, 3]\n",
       "257183             [3, 3, 0, 2]\n",
       "257184          [3, 0, 3, 3, 4]\n",
       "257185             [4, 4, 0, 4]\n",
       "Name: aspect_filtered_per_sentence, Length: 257186, dtype: object"
      ]
     },
     "execution_count": 10,
     "metadata": {},
     "output_type": "execute_result"
    }
   ],
   "source": [
    "test['aspect_filtered_per_sentence']"
   ]
  },
  {
   "cell_type": "code",
   "execution_count": 13,
   "metadata": {
    "ExecuteTime": {
     "end_time": "2020-03-07T16:13:21.486403Z",
     "start_time": "2020-03-07T16:13:21.482036Z"
    }
   },
   "outputs": [
    {
     "data": {
      "text/plain": [
       "\"['the free shuttle from the airport', 'the free shuttle from the airport great', 'no other competition in rafina', 'a few places with rooms', 'it a fantastic place to stay with its proximity to the port and many good restaurants nearby', 'its proximity to the port and many good restaurants nearby', 'many good restaurants nearby', 'a few frayed carpets and a knocked about room']\""
      ]
     },
     "execution_count": 13,
     "metadata": {},
     "output_type": "execute_result"
    }
   ],
   "source": [
    "test['text_filtered_per_relation'][1]"
   ]
  },
  {
   "cell_type": "code",
   "execution_count": 14,
   "metadata": {
    "ExecuteTime": {
     "end_time": "2020-03-07T16:13:25.804470Z",
     "start_time": "2020-03-07T16:13:25.800148Z"
    }
   },
   "outputs": [
    {
     "data": {
      "text/plain": [
       "\"Unfortunately the accommodation doesn't come up to standard! The free shuttle from the airport is great, which s the main reason we chose The Avra and Rafina. There is really no other competition in Rafina as far as hotel accommodation is concerned- there's a few places with rooms, and some studios but that's about it. The hotel is a bit run down, but is due for a makeover soon, which will make it a fantastic place to stay with its proximity to the port and many good restaurants nearby. If you don't mind a few frayed carpets and a knocked about room you won't have any complaints.\""
      ]
     },
     "execution_count": 14,
     "metadata": {},
     "output_type": "execute_result"
    }
   ],
   "source": [
    "test['text'][1]"
   ]
  },
  {
   "cell_type": "code",
   "execution_count": 17,
   "metadata": {
    "ExecuteTime": {
     "end_time": "2020-03-07T16:14:25.436313Z",
     "start_time": "2020-03-07T16:14:25.431960Z"
    }
   },
   "outputs": [
    {
     "data": {
      "text/plain": [
       "'[3, 3, 3, 2, 3, 3, 3, 1]'"
      ]
     },
     "execution_count": 17,
     "metadata": {},
     "output_type": "execute_result"
    }
   ],
   "source": [
    "test['aspect_filtered_per_relation'][1]"
   ]
  },
  {
   "cell_type": "code",
   "execution_count": 11,
   "metadata": {
    "ExecuteTime": {
     "end_time": "2020-03-03T13:11:33.619194Z",
     "start_time": "2020-03-03T13:11:33.613426Z"
    }
   },
   "outputs": [
    {
     "data": {
      "text/plain": [
       "0         ['15 minute walk  -(to)-> top', 'many choices ...\n",
       "1         ['free shuttle  -(from)-> airport', 'great  -(...\n",
       "2         ['lovely  -(amod)-> place', 'lovely  -(acomp-n...\n",
       "3         ['very comfortable  -(acomp-nsubj)-> room', 'l...\n",
       "4         ['good  -(amod)-> rate', 'clean  -(acomp-nsubj...\n",
       "                                ...                        \n",
       "257181    ['excellent  -(acomp-nsubj)-> breakfast', 'exc...\n",
       "257182    ['excellent  -(amod)-> hotel', 'great  -(amod)...\n",
       "257183    ['great  -(amod)-> place', 'next stay  -(in)->...\n",
       "257184    ['nice  -(amod)-> lobby', 'nice  -(amod)-> sta...\n",
       "257185    ['great  -(amod)-> place', 'large  -(amod)-> c...\n",
       "Name: rel_filtered_per_relation, Length: 257186, dtype: object"
      ]
     },
     "execution_count": 11,
     "metadata": {},
     "output_type": "execute_result"
    }
   ],
   "source": [
    "test['rel_filtered_per_relation']"
   ]
  },
  {
   "cell_type": "markdown",
   "metadata": {},
   "source": [
    "### Relation between original aspect and filtered aspect "
   ]
  },
  {
   "cell_type": "code",
   "execution_count": 25,
   "metadata": {
    "ExecuteTime": {
     "end_time": "2020-03-07T16:18:13.318575Z",
     "start_time": "2020-03-07T16:18:09.353119Z"
    }
   },
   "outputs": [],
   "source": [
    "#original aspect\n",
    "original_aspect=test['aspect_filtered_per_sentence'].apply(ast.literal_eval).apply(set)\n"
   ]
  },
  {
   "cell_type": "code",
   "execution_count": 22,
   "metadata": {
    "ExecuteTime": {
     "end_time": "2020-03-07T16:17:22.039387Z",
     "start_time": "2020-03-07T16:17:17.415020Z"
    }
   },
   "outputs": [],
   "source": [
    "#filtered aspect\n",
    "filtered_aspect=test['aspect_filtered_per_relation'].apply(ast.literal_eval).apply(set)\n",
    "\n",
    "\n"
   ]
  },
  {
   "cell_type": "code",
   "execution_count": 32,
   "metadata": {
    "ExecuteTime": {
     "end_time": "2020-03-07T16:20:42.499083Z",
     "start_time": "2020-03-07T16:20:42.450156Z"
    }
   },
   "outputs": [
    {
     "name": "stdout",
     "output_type": "stream",
     "text": [
      "Percentage of equal coverage of aspects=0.34886813434634856\n"
     ]
    }
   ],
   "source": [
    "equal_proportion=sum(filtered_aspect==original_aspect)/len(filtered_aspect )\n",
    "print('Percentage of equal coverage of aspects={}'.format(equal_proportion))"
   ]
  },
  {
   "cell_type": "code",
   "execution_count": 35,
   "metadata": {
    "ExecuteTime": {
     "end_time": "2020-03-07T16:21:32.850022Z",
     "start_time": "2020-03-07T16:21:32.709266Z"
    }
   },
   "outputs": [
    {
     "name": "stdout",
     "output_type": "stream",
     "text": [
      "filtered cover more than original aspects=0.31661132410006765\n"
     ]
    }
   ],
   "source": [
    "equal_proportion=sum(filtered_aspect.apply(len)>original_aspect.apply(len))/len(filtered_aspect )\n",
    "print('filtered cover more than original aspects={}'.format(equal_proportion))"
   ]
  },
  {
   "cell_type": "code",
   "execution_count": 36,
   "metadata": {
    "ExecuteTime": {
     "end_time": "2020-03-07T16:21:54.551289Z",
     "start_time": "2020-03-07T16:21:54.410334Z"
    }
   },
   "outputs": [
    {
     "name": "stdout",
     "output_type": "stream",
     "text": [
      "Original cover more than filtered aspects=0.23458508627996857\n"
     ]
    }
   ],
   "source": [
    "equal_proportion=sum(filtered_aspect.apply(len)<original_aspect.apply(len))/len(filtered_aspect )\n",
    "print('Original cover more than filtered aspects={}'.format(equal_proportion))"
   ]
  },
  {
   "cell_type": "markdown",
   "metadata": {},
   "source": [
    "### to_json(filtered by relation)"
   ]
  },
  {
   "cell_type": "code",
   "execution_count": 55,
   "metadata": {
    "ExecuteTime": {
     "end_time": "2020-03-07T16:29:07.748112Z",
     "start_time": "2020-03-07T16:29:02.403703Z"
    }
   },
   "outputs": [],
   "source": [
    "test_filtered=test.copy()\n",
    "test_filtered['text_filtered_per_relation_grouped']=test['text_filtered_per_relation'].apply(ast.literal_eval).\\\n",
    "apply(lambda x:\"\\\\\".join(x) )\n",
    "\n",
    "\n",
    "\n"
   ]
  },
  {
   "cell_type": "code",
   "execution_count": null,
   "metadata": {},
   "outputs": [],
   "source": [
    "tot=pd.concat([dev,test,train])\n",
    "df=tot.sort_values('hotel_url')[['hotel_url','text_filtered_per_relation_grouped','rating']]\n",
    "df.to_json('../review_filtered.json',orient='records')"
   ]
  },
  {
   "cell_type": "code",
   "execution_count": null,
   "metadata": {},
   "outputs": [],
   "source": []
  },
  {
   "cell_type": "markdown",
   "metadata": {
    "heading_collapsed": true
   },
   "source": [
    "## check data"
   ]
  },
  {
   "cell_type": "code",
   "execution_count": 5,
   "metadata": {
    "ExecuteTime": {
     "end_time": "2020-02-20T14:18:01.895873Z",
     "start_time": "2020-02-20T14:18:01.872622Z"
    },
    "hidden": true
   },
   "outputs": [
    {
     "data": {
      "text/html": [
       "<div>\n",
       "<style scoped>\n",
       "    .dataframe tbody tr th:only-of-type {\n",
       "        vertical-align: middle;\n",
       "    }\n",
       "\n",
       "    .dataframe tbody tr th {\n",
       "        vertical-align: top;\n",
       "    }\n",
       "\n",
       "    .dataframe thead th {\n",
       "        text-align: right;\n",
       "    }\n",
       "</style>\n",
       "<table border=\"1\" class=\"dataframe\">\n",
       "  <thead>\n",
       "    <tr style=\"text-align: right;\">\n",
       "      <th></th>\n",
       "      <th>Unnamed: 0</th>\n",
       "      <th>Unnamed: 0.1</th>\n",
       "      <th>Unnamed: 0.1.1</th>\n",
       "      <th>author</th>\n",
       "      <th>hotel_url</th>\n",
       "      <th>property_dict</th>\n",
       "      <th>rating</th>\n",
       "      <th>text</th>\n",
       "      <th>timeStruct</th>\n",
       "      <th>timeUnix</th>\n",
       "      <th>...</th>\n",
       "      <th>bin_value</th>\n",
       "      <th>bin_location</th>\n",
       "      <th>bin_rating</th>\n",
       "      <th>text_filtered_per_sentence</th>\n",
       "      <th>aspect_filtered_per_sentence</th>\n",
       "      <th>text_filtered_per_relation</th>\n",
       "      <th>aspect_filtered_per_relation</th>\n",
       "      <th>rel_filtered_per_relation</th>\n",
       "      <th>set_kw</th>\n",
       "      <th>id</th>\n",
       "    </tr>\n",
       "  </thead>\n",
       "  <tbody>\n",
       "    <tr>\n",
       "      <td>0</td>\n",
       "      <td>2017872</td>\n",
       "      <td>43714034</td>\n",
       "      <td>43714034</td>\n",
       "      <td>Azurian</td>\n",
       "      <td>Hotel_Review-g552009-d11668074-Reviews-Premier...</td>\n",
       "      <td>{'cleanliness': 4.0, 'service': 4.0, 'value': ...</td>\n",
       "      <td>4.0</td>\n",
       "      <td>Clean, cheap if you book 10 days in advance an...</td>\n",
       "      <td>2018-08-01 00:00:00</td>\n",
       "      <td>1533074400</td>\n",
       "      <td>...</td>\n",
       "      <td>1.0</td>\n",
       "      <td>-1.0</td>\n",
       "      <td>0.0</td>\n",
       "      <td>['clean , cheap if you book 10 days in advance...</td>\n",
       "      <td>[4, 3, 3]</td>\n",
       "      <td>['only a 15 minute walk to the top of the town...</td>\n",
       "      <td>[3, 0, 3, 3, 3]</td>\n",
       "      <td>['15 minute walk  -(to)-&gt; top', 'many choices ...</td>\n",
       "      <td>{480, 896, 903, 176, 848}</td>\n",
       "      <td>2017872</td>\n",
       "    </tr>\n",
       "    <tr>\n",
       "      <td>1</td>\n",
       "      <td>1502188</td>\n",
       "      <td>28885530</td>\n",
       "      <td>28885530</td>\n",
       "      <td>Azurian</td>\n",
       "      <td>Hotel_Review-g1234491-d289570-Reviews-Hotel_Av...</td>\n",
       "      <td>{'sleep quality': 3.0, 'service': 4.0, 'value'...</td>\n",
       "      <td>3.0</td>\n",
       "      <td>Unfortunately the accommodation doesn't come u...</td>\n",
       "      <td>2018-09-01 00:00:00</td>\n",
       "      <td>1535752800</td>\n",
       "      <td>...</td>\n",
       "      <td>0.0</td>\n",
       "      <td>-1.0</td>\n",
       "      <td>0.0</td>\n",
       "      <td>[\"unfortunately the accommodation does n't com...</td>\n",
       "      <td>[1, 3, 3, 2, 3, 1]</td>\n",
       "      <td>['the free shuttle from the airport', 'the fre...</td>\n",
       "      <td>[3, 3, 3, 2, 3, 3, 3, 1]</td>\n",
       "      <td>['free shuttle  -(from)-&gt; airport', 'great  -(...</td>\n",
       "      <td>{768, 960, 176, 785, 272, 784, 180}</td>\n",
       "      <td>1502188</td>\n",
       "    </tr>\n",
       "    <tr>\n",
       "      <td>2</td>\n",
       "      <td>1527639</td>\n",
       "      <td>29827675</td>\n",
       "      <td>29827675</td>\n",
       "      <td>Azurian</td>\n",
       "      <td>Hotel_Review-g295415-d2044185-Reviews-Villa_Na...</td>\n",
       "      <td>{'rooms': 5.0, 'cleanliness': 5.0, 'service': ...</td>\n",
       "      <td>5.0</td>\n",
       "      <td>We stayed for 4 nights but really should have ...</td>\n",
       "      <td>2018-01-01 00:00:00</td>\n",
       "      <td>1514761200</td>\n",
       "      <td>...</td>\n",
       "      <td>-1.0</td>\n",
       "      <td>-1.0</td>\n",
       "      <td>1.0</td>\n",
       "      <td>['villa nagara is a lovely place to stay and c...</td>\n",
       "      <td>[4, 3, 4, 0, 0, 3]</td>\n",
       "      <td>['a lovely place to stay and chill', 'our room...</td>\n",
       "      <td>[3, 4, 4, 0, 0, 3, 3]</td>\n",
       "      <td>['lovely  -(amod)-&gt; place', 'lovely  -(acomp-n...</td>\n",
       "      <td>{0, 768, 1121, 1120, 960, 775, 973, 976, 977}</td>\n",
       "      <td>1527639</td>\n",
       "    </tr>\n",
       "  </tbody>\n",
       "</table>\n",
       "<p>3 rows × 28 columns</p>\n",
       "</div>"
      ],
      "text/plain": [
       "   Unnamed: 0  Unnamed: 0.1  Unnamed: 0.1.1   author  \\\n",
       "0     2017872      43714034        43714034  Azurian   \n",
       "1     1502188      28885530        28885530  Azurian   \n",
       "2     1527639      29827675        29827675  Azurian   \n",
       "\n",
       "                                           hotel_url  \\\n",
       "0  Hotel_Review-g552009-d11668074-Reviews-Premier...   \n",
       "1  Hotel_Review-g1234491-d289570-Reviews-Hotel_Av...   \n",
       "2  Hotel_Review-g295415-d2044185-Reviews-Villa_Na...   \n",
       "\n",
       "                                       property_dict  rating  \\\n",
       "0  {'cleanliness': 4.0, 'service': 4.0, 'value': ...     4.0   \n",
       "1  {'sleep quality': 3.0, 'service': 4.0, 'value'...     3.0   \n",
       "2  {'rooms': 5.0, 'cleanliness': 5.0, 'service': ...     5.0   \n",
       "\n",
       "                                                text           timeStruct  \\\n",
       "0  Clean, cheap if you book 10 days in advance an...  2018-08-01 00:00:00   \n",
       "1  Unfortunately the accommodation doesn't come u...  2018-09-01 00:00:00   \n",
       "2  We stayed for 4 nights but really should have ...  2018-01-01 00:00:00   \n",
       "\n",
       "     timeUnix  ...  bin_value  bin_location  bin_rating  \\\n",
       "0  1533074400  ...        1.0          -1.0         0.0   \n",
       "1  1535752800  ...        0.0          -1.0         0.0   \n",
       "2  1514761200  ...       -1.0          -1.0         1.0   \n",
       "\n",
       "                          text_filtered_per_sentence  \\\n",
       "0  ['clean , cheap if you book 10 days in advance...   \n",
       "1  [\"unfortunately the accommodation does n't com...   \n",
       "2  ['villa nagara is a lovely place to stay and c...   \n",
       "\n",
       "   aspect_filtered_per_sentence  \\\n",
       "0                     [4, 3, 3]   \n",
       "1            [1, 3, 3, 2, 3, 1]   \n",
       "2            [4, 3, 4, 0, 0, 3]   \n",
       "\n",
       "                          text_filtered_per_relation  \\\n",
       "0  ['only a 15 minute walk to the top of the town...   \n",
       "1  ['the free shuttle from the airport', 'the fre...   \n",
       "2  ['a lovely place to stay and chill', 'our room...   \n",
       "\n",
       "   aspect_filtered_per_relation  \\\n",
       "0               [3, 0, 3, 3, 3]   \n",
       "1      [3, 3, 3, 2, 3, 3, 3, 1]   \n",
       "2         [3, 4, 4, 0, 0, 3, 3]   \n",
       "\n",
       "                           rel_filtered_per_relation  \\\n",
       "0  ['15 minute walk  -(to)-> top', 'many choices ...   \n",
       "1  ['free shuttle  -(from)-> airport', 'great  -(...   \n",
       "2  ['lovely  -(amod)-> place', 'lovely  -(acomp-n...   \n",
       "\n",
       "                                          set_kw       id  \n",
       "0                      {480, 896, 903, 176, 848}  2017872  \n",
       "1            {768, 960, 176, 785, 272, 784, 180}  1502188  \n",
       "2  {0, 768, 1121, 1120, 960, 775, 973, 976, 977}  1527639  \n",
       "\n",
       "[3 rows x 28 columns]"
      ]
     },
     "execution_count": 5,
     "metadata": {},
     "output_type": "execute_result"
    }
   ],
   "source": [
    "test.head(3)"
   ]
  },
  {
   "cell_type": "code",
   "execution_count": 13,
   "metadata": {
    "ExecuteTime": {
     "end_time": "2020-02-19T07:36:47.409887Z",
     "start_time": "2020-02-19T07:36:47.405113Z"
    },
    "hidden": true
   },
   "outputs": [
    {
     "data": {
      "text/plain": [
       "'Hotel_Review-g552009-d11668074-Reviews-Premier_Inn_Monmouth_Hotel-Monmouth_Monmouthshire_South_Wales_Wales.html'"
      ]
     },
     "execution_count": 13,
     "metadata": {},
     "output_type": "execute_result"
    }
   ],
   "source": [
    "test.iloc[0,4]"
   ]
  },
  {
   "cell_type": "code",
   "execution_count": 24,
   "metadata": {
    "ExecuteTime": {
     "end_time": "2020-02-19T07:40:57.266990Z",
     "start_time": "2020-02-19T07:40:57.261895Z"
    },
    "hidden": true
   },
   "outputs": [
    {
     "data": {
      "text/plain": [
       "\"{'cleanliness': 4.0, 'service': 4.0, 'value': 5.0}\""
      ]
     },
     "execution_count": 24,
     "metadata": {},
     "output_type": "execute_result"
    }
   ],
   "source": [
    "test.iloc[0,5]"
   ]
  },
  {
   "cell_type": "code",
   "execution_count": 26,
   "metadata": {
    "ExecuteTime": {
     "end_time": "2020-02-19T07:41:14.981918Z",
     "start_time": "2020-02-19T07:41:14.977479Z"
    },
    "hidden": true
   },
   "outputs": [
    {
     "data": {
      "text/plain": [
       "'Clean, cheap if you book 10 days in advance and comfortable. Only a 15 minute walk to the top of the town with many choices for breakfast and evening meals. A very good base for exploring he local area, with Ross on Wye, Hay on Wye and Brecon a short drive away. No omplaints!.'"
      ]
     },
     "execution_count": 26,
     "metadata": {},
     "output_type": "execute_result"
    }
   ],
   "source": [
    "test.iloc[0,7]"
   ]
  },
  {
   "cell_type": "code",
   "execution_count": 35,
   "metadata": {
    "ExecuteTime": {
     "end_time": "2020-02-19T07:45:32.895140Z",
     "start_time": "2020-02-19T07:45:32.857549Z"
    },
    "hidden": true
   },
   "outputs": [
    {
     "data": {
      "text/html": [
       "<div>\n",
       "<style scoped>\n",
       "    .dataframe tbody tr th:only-of-type {\n",
       "        vertical-align: middle;\n",
       "    }\n",
       "\n",
       "    .dataframe tbody tr th {\n",
       "        vertical-align: top;\n",
       "    }\n",
       "\n",
       "    .dataframe thead th {\n",
       "        text-align: right;\n",
       "    }\n",
       "</style>\n",
       "<table border=\"1\" class=\"dataframe\">\n",
       "  <thead>\n",
       "    <tr style=\"text-align: right;\">\n",
       "      <th></th>\n",
       "      <th>service</th>\n",
       "      <th>location</th>\n",
       "      <th>bin_service</th>\n",
       "    </tr>\n",
       "  </thead>\n",
       "  <tbody>\n",
       "    <tr>\n",
       "      <td>0</td>\n",
       "      <td>4.0</td>\n",
       "      <td>-1.0</td>\n",
       "      <td>0.0</td>\n",
       "    </tr>\n",
       "    <tr>\n",
       "      <td>1</td>\n",
       "      <td>4.0</td>\n",
       "      <td>-1.0</td>\n",
       "      <td>0.0</td>\n",
       "    </tr>\n",
       "    <tr>\n",
       "      <td>2</td>\n",
       "      <td>5.0</td>\n",
       "      <td>-1.0</td>\n",
       "      <td>1.0</td>\n",
       "    </tr>\n",
       "    <tr>\n",
       "      <td>3</td>\n",
       "      <td>-1.0</td>\n",
       "      <td>5.0</td>\n",
       "      <td>-1.0</td>\n",
       "    </tr>\n",
       "    <tr>\n",
       "      <td>4</td>\n",
       "      <td>4.0</td>\n",
       "      <td>-1.0</td>\n",
       "      <td>0.0</td>\n",
       "    </tr>\n",
       "    <tr>\n",
       "      <td>...</td>\n",
       "      <td>...</td>\n",
       "      <td>...</td>\n",
       "      <td>...</td>\n",
       "    </tr>\n",
       "    <tr>\n",
       "      <td>257181</td>\n",
       "      <td>5.0</td>\n",
       "      <td>5.0</td>\n",
       "      <td>1.0</td>\n",
       "    </tr>\n",
       "    <tr>\n",
       "      <td>257182</td>\n",
       "      <td>5.0</td>\n",
       "      <td>5.0</td>\n",
       "      <td>1.0</td>\n",
       "    </tr>\n",
       "    <tr>\n",
       "      <td>257183</td>\n",
       "      <td>5.0</td>\n",
       "      <td>5.0</td>\n",
       "      <td>1.0</td>\n",
       "    </tr>\n",
       "    <tr>\n",
       "      <td>257184</td>\n",
       "      <td>5.0</td>\n",
       "      <td>5.0</td>\n",
       "      <td>1.0</td>\n",
       "    </tr>\n",
       "    <tr>\n",
       "      <td>257185</td>\n",
       "      <td>5.0</td>\n",
       "      <td>5.0</td>\n",
       "      <td>1.0</td>\n",
       "    </tr>\n",
       "  </tbody>\n",
       "</table>\n",
       "<p>257186 rows × 3 columns</p>\n",
       "</div>"
      ],
      "text/plain": [
       "        service  location  bin_service\n",
       "0           4.0      -1.0          0.0\n",
       "1           4.0      -1.0          0.0\n",
       "2           5.0      -1.0          1.0\n",
       "3          -1.0       5.0         -1.0\n",
       "4           4.0      -1.0          0.0\n",
       "...         ...       ...          ...\n",
       "257181      5.0       5.0          1.0\n",
       "257182      5.0       5.0          1.0\n",
       "257183      5.0       5.0          1.0\n",
       "257184      5.0       5.0          1.0\n",
       "257185      5.0       5.0          1.0\n",
       "\n",
       "[257186 rows x 3 columns]"
      ]
     },
     "execution_count": 35,
     "metadata": {},
     "output_type": "execute_result"
    }
   ],
   "source": [
    "test[['service','location','bin_service']]"
   ]
  },
  {
   "cell_type": "code",
   "execution_count": 48,
   "metadata": {
    "ExecuteTime": {
     "end_time": "2020-02-19T08:40:27.018265Z",
     "start_time": "2020-02-19T08:40:26.992947Z"
    },
    "hidden": true
   },
   "outputs": [
    {
     "data": {
      "text/plain": [
       "array([ 4.,  5., -1.,  3.,  2.,  1.])"
      ]
     },
     "execution_count": 48,
     "metadata": {},
     "output_type": "execute_result"
    }
   ],
   "source": [
    "test['service'].unique()"
   ]
  },
  {
   "cell_type": "code",
   "execution_count": 49,
   "metadata": {
    "ExecuteTime": {
     "end_time": "2020-02-19T08:40:47.824951Z",
     "start_time": "2020-02-19T08:40:47.794362Z"
    },
    "hidden": true
   },
   "outputs": [
    {
     "data": {
      "text/plain": [
       "array([ 0.,  1., -1.])"
      ]
     },
     "execution_count": 49,
     "metadata": {},
     "output_type": "execute_result"
    }
   ],
   "source": [
    "test['bin_service'].unique()"
   ]
  },
  {
   "cell_type": "code",
   "execution_count": 37,
   "metadata": {
    "ExecuteTime": {
     "end_time": "2020-02-19T07:56:06.699924Z",
     "start_time": "2020-02-19T07:56:06.657291Z"
    },
    "hidden": true
   },
   "outputs": [
    {
     "data": {
      "text/plain": [
       "\"['clean , cheap if you book 10 days in advance and comfortable .', 'only a 15 minute walk to the top of the town with many choices for breakfast and evening meals .', 'a very good base for exploring he local area , with ross on wye , hay on wye and brecon a short drive away .']\""
      ]
     },
     "execution_count": 37,
     "metadata": {},
     "output_type": "execute_result"
    }
   ],
   "source": [
    "test['text_filtered_per_sentence'][0]"
   ]
  },
  {
   "cell_type": "code",
   "execution_count": 38,
   "metadata": {
    "ExecuteTime": {
     "end_time": "2020-02-19T07:56:28.542891Z",
     "start_time": "2020-02-19T07:56:28.533731Z"
    },
    "hidden": true
   },
   "outputs": [
    {
     "data": {
      "text/plain": [
       "'Clean, cheap if you book 10 days in advance and comfortable. Only a 15 minute walk to the top of the town with many choices for breakfast and evening meals. A very good base for exploring he local area, with Ross on Wye, Hay on Wye and Brecon a short drive away. No omplaints!.'"
      ]
     },
     "execution_count": 38,
     "metadata": {},
     "output_type": "execute_result"
    }
   ],
   "source": [
    "test['text'][0]"
   ]
  },
  {
   "cell_type": "code",
   "execution_count": 39,
   "metadata": {
    "ExecuteTime": {
     "end_time": "2020-02-19T07:56:56.337014Z",
     "start_time": "2020-02-19T07:56:56.327832Z"
    },
    "hidden": true
   },
   "outputs": [
    {
     "data": {
      "text/plain": [
       "'[4, 3, 3]'"
      ]
     },
     "execution_count": 39,
     "metadata": {},
     "output_type": "execute_result"
    }
   ],
   "source": [
    "test['aspect_filtered_per_sentence'][0]"
   ]
  },
  {
   "cell_type": "code",
   "execution_count": 40,
   "metadata": {
    "ExecuteTime": {
     "end_time": "2020-02-19T07:57:56.914878Z",
     "start_time": "2020-02-19T07:57:56.898219Z"
    },
    "hidden": true
   },
   "outputs": [
    {
     "data": {
      "text/plain": [
       "\"['only a 15 minute walk to the top of the town with many choices for breakfast and evening meals .', 'many choices for breakfast and evening meals', 'a very good base for exploring he local area , with ross on wye , hay on wye and brecon a short drive away .', 'ross on wye , hay on wye and brecon', 'hay on wye and brecon']\""
      ]
     },
     "execution_count": 40,
     "metadata": {},
     "output_type": "execute_result"
    }
   ],
   "source": [
    "test['text_filtered_per_relation'][0]"
   ]
  },
  {
   "cell_type": "code",
   "execution_count": 41,
   "metadata": {
    "ExecuteTime": {
     "end_time": "2020-02-19T08:25:41.732957Z",
     "start_time": "2020-02-19T08:25:41.661210Z"
    },
    "hidden": true
   },
   "outputs": [
    {
     "data": {
      "text/plain": [
       "'[3, 0, 3, 3, 3]'"
      ]
     },
     "execution_count": 41,
     "metadata": {},
     "output_type": "execute_result"
    }
   ],
   "source": [
    "test['aspect_filtered_per_relation'][0]"
   ]
  },
  {
   "cell_type": "code",
   "execution_count": 42,
   "metadata": {
    "ExecuteTime": {
     "end_time": "2020-02-19T08:27:55.534207Z",
     "start_time": "2020-02-19T08:27:55.508775Z"
    },
    "hidden": true
   },
   "outputs": [
    {
     "data": {
      "text/plain": [
       "\"['15 minute walk  -(to)-> top', 'many choices  -(for)-> breakfast meals', 'very good  -(amod)-> base', 'ross  -(on)-> brecon', 'hay  -(on)-> wye']\""
      ]
     },
     "execution_count": 42,
     "metadata": {},
     "output_type": "execute_result"
    }
   ],
   "source": [
    "test['rel_filtered_per_relation'][0]"
   ]
  },
  {
   "cell_type": "markdown",
   "metadata": {
    "heading_collapsed": true
   },
   "source": [
    "## data visualization"
   ]
  },
  {
   "cell_type": "code",
   "execution_count": 35,
   "metadata": {
    "ExecuteTime": {
     "end_time": "2020-02-24T16:37:41.135926Z",
     "start_time": "2020-02-24T16:37:40.343290Z"
    },
    "hidden": true
   },
   "outputs": [
    {
     "data": {
      "text/plain": [
       "(38897, 37538, 36681)"
      ]
     },
     "execution_count": 35,
     "metadata": {},
     "output_type": "execute_result"
    }
   ],
   "source": [
    "# check the number of business \n",
    "\n",
    "def check_business_no(data):\n",
    "    return len(set(data['hotel_url']))\n",
    "\n",
    "check_business_no(train),check_business_no(test),check_business_no(dev)"
   ]
  },
  {
   "cell_type": "code",
   "execution_count": 43,
   "metadata": {
    "ExecuteTime": {
     "end_time": "2020-02-24T16:41:40.796520Z",
     "start_time": "2020-02-24T16:41:39.943475Z"
    },
    "hidden": true
   },
   "outputs": [
    {
     "data": {
      "text/plain": [
       "1540616        9\n",
       "588528        14\n",
       "1579838       16\n",
       "1646008       17\n",
       "588531        19\n",
       "           ...  \n",
       "972406     32683\n",
       "1118628    35119\n",
       "509202     40224\n",
       "509208     58889\n",
       "509206     63343\n",
       "Name: text, Length: 1749157, dtype: int64"
      ]
     },
     "execution_count": 43,
     "metadata": {},
     "output_type": "execute_result"
    }
   ],
   "source": [
    "train['text'].apply(len).sort_values()"
   ]
  },
  {
   "cell_type": "markdown",
   "metadata": {
    "hidden": true
   },
   "source": [
    "__Distribution of review lenth:__  ⬇️"
   ]
  },
  {
   "cell_type": "code",
   "execution_count": 55,
   "metadata": {
    "ExecuteTime": {
     "end_time": "2020-02-24T16:46:21.571717Z",
     "start_time": "2020-02-24T16:46:20.324901Z"
    },
    "hidden": true
   },
   "outputs": [
    {
     "data": {
      "image/png": "[encoded data removed]",
      "text/plain": [
       "<Figure size 432x288 with 1 Axes>"
      ]
     },
     "metadata": {
      "needs_background": "light"
     },
     "output_type": "display_data"
    }
   ],
   "source": [
    "\n",
    "plt.hist(train['text'].apply(len),bins=100,range=(0,4000));"
   ]
  },
  {
   "cell_type": "markdown",
   "metadata": {
    "hidden": true
   },
   "source": [
    "__Distribution of number of reviews associated to hotel:__  ⬇️"
   ]
  },
  {
   "cell_type": "code",
   "execution_count": 61,
   "metadata": {
    "ExecuteTime": {
     "end_time": "2020-02-24T16:54:51.283001Z",
     "start_time": "2020-02-24T16:54:46.407729Z"
    },
    "hidden": true
   },
   "outputs": [],
   "source": [
    "n_review_to_hotel=train.groupby('hotel_url')['text'].apply(list).apply(len)"
   ]
  },
  {
   "cell_type": "code",
   "execution_count": 65,
   "metadata": {
    "ExecuteTime": {
     "end_time": "2020-02-24T16:56:35.885241Z",
     "start_time": "2020-02-24T16:56:35.009731Z"
    },
    "hidden": true
   },
   "outputs": [
    {
     "data": {
      "image/png": "[encoded data removed]",
      "text/plain": [
       "<Figure size 432x288 with 1 Axes>"
      ]
     },
     "metadata": {
      "needs_background": "light"
     },
     "output_type": "display_data"
    }
   ],
   "source": [
    "plt.hist(n_review_to_hotel,bins=100,range=(0,300));"
   ]
  },
  {
   "cell_type": "markdown",
   "metadata": {},
   "source": [
    "## to_json"
   ]
  },
  {
   "cell_type": "code",
   "execution_count": 5,
   "metadata": {
    "ExecuteTime": {
     "end_time": "2020-02-29T13:36:51.265824Z",
     "start_time": "2020-02-29T13:35:03.250720Z"
    }
   },
   "outputs": [],
   "source": [
    "tot=pd.concat([dev,test,train])"
   ]
  },
  {
   "cell_type": "code",
   "execution_count": null,
   "metadata": {
    "ExecuteTime": {
     "start_time": "2020-02-29T13:35:03.933Z"
    }
   },
   "outputs": [],
   "source": [
    "df=tot.sort_values('hotel_url')[['hotel_url','text','rating']]"
   ]
  },
  {
   "cell_type": "code",
   "execution_count": null,
   "metadata": {
    "ExecuteTime": {
     "start_time": "2020-02-29T13:35:07.811Z"
    }
   },
   "outputs": [],
   "source": [
    "df.to_json('../review1.json',orient='records')"
   ]
  },
  {
   "cell_type": "markdown",
   "metadata": {},
   "source": [
    "## subword encoder"
   ]
  },
  {
   "cell_type": "code",
   "execution_count": 8,
   "metadata": {
    "ExecuteTime": {
     "end_time": "2020-02-25T23:05:06.483417Z",
     "start_time": "2020-02-25T23:04:51.786828Z"
    }
   },
   "outputs": [],
   "source": [
    "import tensorflow.compat.v2 as tf\n",
    "import tensorflow_datasets as tfds"
   ]
  },
  {
   "cell_type": "code",
   "execution_count": 9,
   "metadata": {
    "ExecuteTime": {
     "end_time": "2020-02-26T08:24:29.719136Z",
     "start_time": "2020-02-25T23:05:06.487943Z"
    }
   },
   "outputs": [],
   "source": [
    "# Build\n",
    "encoder = tfds.features.text.SubwordTextEncoder.build_from_corpus(\n",
    "    df['text'].to_list(), target_vocab_size=32000)"
   ]
  },
  {
   "cell_type": "code",
   "execution_count": 10,
   "metadata": {
    "ExecuteTime": {
     "end_time": "2020-02-26T08:24:29.817272Z",
     "start_time": "2020-02-26T08:24:29.752727Z"
    }
   },
   "outputs": [],
   "source": [
    "import pickle\n",
    "with open('../processed/subwordenc_32000_secondpass.pkl', 'wb') as file:\n",
    "    pickle.dump(encoder, file, protocol=pickle.HIGHEST_PROTOCOL)"
   ]
  },
  {
   "cell_type": "code",
   "execution_count": 11,
   "metadata": {
    "ExecuteTime": {
     "end_time": "2020-02-26T08:24:29.869464Z",
     "start_time": "2020-02-26T08:24:29.824959Z"
    }
   },
   "outputs": [
    {
     "data": {
      "text/plain": [
       "[22022, 19355, 7888, 31880, 10213, 7054, 31880, 17395, 6183, 6904, 19355]"
      ]
     },
     "execution_count": 11,
     "metadata": {},
     "output_type": "execute_result"
    }
   ],
   "source": [
    "encoder.encode('hhhhhdsfhladfhklsahhh')"
   ]
  },
  {
   "cell_type": "code",
   "execution_count": null,
   "metadata": {},
   "outputs": [],
   "source": []
  }
 ],
 "metadata": {
  "kernelspec": {
   "display_name": "Python 3",
   "language": "python",
   "name": "python3"
  },
  "language_info": {
   "codemirror_mode": {
    "name": "ipython",
    "version": 3
   },
   "file_extension": ".py",
   "mimetype": "text/x-python",
   "name": "python",
   "nbconvert_exporter": "python",
   "pygments_lexer": "ipython3",
   "version": "3.7.4"
  },
  "latex_envs": {
   "LaTeX_envs_menu_present": true,
   "autoclose": false,
   "autocomplete": true,
   "bibliofile": "biblio.bib",
   "cite_by": "apalike",
   "current_citInitial": 1,
   "eqLabelWithNumbers": true,
   "eqNumInitial": 1,
   "hotkeys": {
    "equation": "Ctrl-E",
    "itemize": "Ctrl-I"
   },
   "labels_anchors": false,
   "latex_user_defs": false,
   "report_style_numbering": false,
   "user_envs_cfg": false
  },
  "notify_time": "10"
 },
 "nbformat": 4,
 "nbformat_minor": 2
}
