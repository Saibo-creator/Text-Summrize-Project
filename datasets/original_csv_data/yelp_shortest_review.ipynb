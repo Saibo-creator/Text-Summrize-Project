{
 "cells": [
  {
   "cell_type": "code",
   "execution_count": 1,
   "metadata": {
    "ExecuteTime": {
     "end_time": "2020-05-05T14:13:14.325109Z",
     "start_time": "2020-05-05T14:13:09.256375Z"
    }
   },
   "outputs": [],
   "source": [
    "from pyspark.sql import SparkSession\n",
    "spark = SparkSession \\\n",
    "    .builder \\\n",
    "    .appName(\"Python Spark create RDD example\") \\\n",
    "    .config(\"spark.some.config.option\", \"some-value\") \\\n",
    "    .getOrCreate()"
   ]
  },
  {
   "cell_type": "code",
   "execution_count": 2,
   "metadata": {
    "ExecuteTime": {
     "end_time": "2020-05-05T14:14:52.585699Z",
     "start_time": "2020-05-05T14:14:33.348943Z"
    }
   },
   "outputs": [],
   "source": [
    "df = spark.read.format('json').options(header='true', inferschema='true').load(\"../yelp_dataset/review.json\",header=True)"
   ]
  },
  {
   "cell_type": "code",
   "execution_count": 5,
   "metadata": {
    "ExecuteTime": {
     "end_time": "2020-05-05T14:15:15.024833Z",
     "start_time": "2020-05-05T14:15:15.011113Z"
    }
   },
   "outputs": [
    {
     "name": "stdout",
     "output_type": "stream",
     "text": [
      "root\n",
      " |-- business_id: string (nullable = true)\n",
      " |-- cool: long (nullable = true)\n",
      " |-- date: string (nullable = true)\n",
      " |-- funny: long (nullable = true)\n",
      " |-- review_id: string (nullable = true)\n",
      " |-- stars: double (nullable = true)\n",
      " |-- text: string (nullable = true)\n",
      " |-- useful: long (nullable = true)\n",
      " |-- user_id: string (nullable = true)\n",
      "\n"
     ]
    }
   ],
   "source": [
    "df.printSchema()"
   ]
  },
  {
   "cell_type": "code",
   "execution_count": 9,
   "metadata": {
    "ExecuteTime": {
     "end_time": "2020-05-05T14:17:49.491537Z",
     "start_time": "2020-05-05T14:17:49.469493Z"
    }
   },
   "outputs": [],
   "source": [
    "import pyspark.sql.functions as F\n",
    "df=df.withColumn('lenth', F.length('text'))"
   ]
  },
  {
   "cell_type": "code",
   "execution_count": 11,
   "metadata": {
    "ExecuteTime": {
     "end_time": "2020-05-05T14:18:19.489678Z",
     "start_time": "2020-05-05T14:18:06.577357Z"
    }
   },
   "outputs": [
    {
     "name": "stdout",
     "output_type": "stream",
     "text": [
      "+-----+-----+\n",
      "|lenth|count|\n",
      "+-----+-----+\n",
      "|    1|   55|\n",
      "|    2|   28|\n",
      "|    3|   16|\n",
      "|    4|   30|\n",
      "|    5|   26|\n",
      "|    6|   33|\n",
      "|    7|   36|\n",
      "|    8|   23|\n",
      "|    9|   24|\n",
      "|   10|   39|\n",
      "|   11|   43|\n",
      "|   12|   36|\n",
      "|   13|   38|\n",
      "|   14|   48|\n",
      "|   15|   51|\n",
      "|   16|   62|\n",
      "|   17|   59|\n",
      "|   18|   53|\n",
      "|   19|   56|\n",
      "|   20|   57|\n",
      "+-----+-----+\n",
      "only showing top 20 rows\n",
      "\n"
     ]
    }
   ],
   "source": [
    "df.groupBy('lenth').count().orderBy('lenth').show()"
   ]
  },
  {
   "cell_type": "code",
   "execution_count": null,
   "metadata": {},
   "outputs": [],
   "source": []
  }
 ],
 "metadata": {
  "kernelspec": {
   "display_name": "Python 3",
   "language": "python",
   "name": "python3"
  },
  "language_info": {
   "codemirror_mode": {
    "name": "ipython",
    "version": 3
   },
   "file_extension": ".py",
   "mimetype": "text/x-python",
   "name": "python",
   "nbconvert_exporter": "python",
   "pygments_lexer": "ipython3",
   "version": "3.7.4"
  }
 },
 "nbformat": 4,
 "nbformat_minor": 2
}
