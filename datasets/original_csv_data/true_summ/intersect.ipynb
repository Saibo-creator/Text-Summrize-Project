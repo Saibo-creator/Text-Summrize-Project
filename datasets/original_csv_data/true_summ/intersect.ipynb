{
 "cells": [
  {
   "cell_type": "code",
   "execution_count": 11,
   "metadata": {
    "ExecuteTime": {
     "end_time": "2020-05-26T02:13:25.467834Z",
     "start_time": "2020-05-26T02:13:25.458470Z"
    }
   },
   "outputs": [],
   "source": [
    "import pandas as pd\n",
    "import numpy as np\n",
    "import matplotlib.pyplot as plt\n",
    "import os\n",
    "from shutil import copyfile\n",
    "import ast\n",
    "\n",
    "\n",
    "dataset_path='../../hotel_with_summ_dataset/'\n",
    "\n",
    "if not os.path.exists(dataset_path):\n",
    "\tos.mkdir(dataset_path)\n",
    "\n",
    "processd_path=os.path.join(dataset_path,'processed')\n",
    "if not os.path.exists(processd_path):\n",
    "\tos.mkdir(processd_path)"
   ]
  },
  {
   "cell_type": "code",
   "execution_count": null,
   "metadata": {},
   "outputs": [],
   "source": [
    "#load original csv data\n",
    "test=pd.read_csv('../test.csv')\n",
    "train=pd.read_csv('../train.csv')\n",
    "dev=pd.read_csv('../dev.csv')\n",
    "\n",
    "\n",
    "tot=pd.concat([dev,test,train])"
   ]
  },
  {
   "cell_type": "code",
   "execution_count": 22,
   "metadata": {
    "ExecuteTime": {
     "end_time": "2020-05-25T09:43:39.875799Z",
     "start_time": "2020-05-25T09:35:12.126899Z"
    }
   },
   "outputs": [],
   "source": [
    "\n",
    "#select necessary columns\n",
    "review_df=tot.sort_values('hotel_url')[['hotel_url','text','rating']]\n",
    "business_df=tot.sort_values('hotel_url')[['hotel_url']].drop_duplicates(['hotel_url'])\n",
    "\n",
    "# turn capital to un_capital letter\n",
    "review_df.loc[:,['hotel_url']]=review_df.loc[:,['hotel_url']].applymap(lambda x:x.lower()).applymap(lambda x:x+'.json')\n",
    "business_df.loc[:,['hotel_url']]=business_df.loc[:,['hotel_url']].applymap(lambda x:x.lower()).applymap(lambda x:x+'.json')\n",
    "\n"
   ]
  },
  {
   "cell_type": "code",
   "execution_count": 23,
   "metadata": {
    "ExecuteTime": {
     "end_time": "2020-05-25T09:43:41.218329Z",
     "start_time": "2020-05-25T09:43:39.933336Z"
    }
   },
   "outputs": [],
   "source": [
    "hotel_with_summs_list=pd.read_csv('../../true_summary/hotel_true_summs.csv')['hotel_url'].to_list()\n",
    "index=review_df['hotel_url'].isin(hotel_with_summs_list)"
   ]
  },
  {
   "cell_type": "code",
   "execution_count": 24,
   "metadata": {
    "ExecuteTime": {
     "end_time": "2020-05-25T09:47:12.074342Z",
     "start_time": "2020-05-25T09:43:41.226668Z"
    }
   },
   "outputs": [],
   "source": [
    "#keep only intersection of diego's data \n",
    "hotel_with_summs_list=pd.read_csv('../../true_summary/hotel_true_summs.csv')['hotel_url'].to_list()\n",
    "index=review_df['hotel_url'].isin(hotel_with_summs_list)\n",
    "review_df=review_df[index]\n",
    "business_df=business_df[index]\n",
    "\n",
    "#output to json\n",
    "review_df.to_json(os.path.join(dataset_path,'review.json'),orient='records')\n",
    "business_df.to_json(os.path.join(dataset_path,'business.json'),orient='records')\n",
    "#output to csv\n",
    "review_df.to_csv(os.path.join(dataset_path,'review.csv'))\n",
    "business_df.to_csv(os.path.join(dataset_path,'business.csv'))\n",
    "\n",
    "\n",
    "#original hotel name\"Hotel_Review-g28970-d84032-Reviews-The_Graham_Washington_DC_Georgetown_Tapestry_Collection_by_Hilton-Washington_DC_District_review.html.json\"\n",
    "#=>Hotel_Review-g29196-d89254-Reviews-Homewood_Suites_by_Hilton_Atlanta_Alpharetta-Alpharetta_Georgia.html.json\n",
    "\n",
    "#Diego:\"hotel_review-g28970-d84029-reviews-the_georgetown_inn-washington_dc_district_of_columbia.json\"\n",
    "#=>hotel_review-g28970-d84029-reviews-the_georgetown_inn-washington_dc_district_of_columbia.html.json"
   ]
  },
  {
   "cell_type": "code",
   "execution_count": 25,
   "metadata": {
    "ExecuteTime": {
     "end_time": "2020-05-25T10:07:00.559681Z",
     "start_time": "2020-05-25T10:07:00.516641Z"
    }
   },
   "outputs": [
    {
     "data": {
      "text/plain": [
       "1524907"
      ]
     },
     "execution_count": 25,
     "metadata": {},
     "output_type": "execute_result"
    }
   ],
   "source": [
    "len(business_df)"
   ]
  },
  {
   "cell_type": "code",
   "execution_count": 26,
   "metadata": {
    "ExecuteTime": {
     "end_time": "2020-05-25T10:07:32.718589Z",
     "start_time": "2020-05-25T10:07:32.698874Z"
    }
   },
   "outputs": [
    {
     "data": {
      "text/plain": [
       "2222373"
      ]
     },
     "execution_count": 26,
     "metadata": {},
     "output_type": "execute_result"
    }
   ],
   "source": [
    "len(tot)"
   ]
  },
  {
   "cell_type": "code",
   "execution_count": 30,
   "metadata": {
    "ExecuteTime": {
     "end_time": "2020-05-25T10:15:27.678592Z",
     "start_time": "2020-05-25T10:15:27.436318Z"
    }
   },
   "outputs": [],
   "source": [
    "intersect_hotel_list=business_df['hotel_url'].unique()"
   ]
  },
  {
   "cell_type": "code",
   "execution_count": 31,
   "metadata": {
    "ExecuteTime": {
     "end_time": "2020-05-25T10:15:32.625793Z",
     "start_time": "2020-05-25T10:15:32.620387Z"
    }
   },
   "outputs": [
    {
     "data": {
      "text/plain": [
       "25090"
      ]
     },
     "execution_count": 31,
     "metadata": {},
     "output_type": "execute_result"
    }
   ],
   "source": [
    "len(intersect_hotel_list)"
   ]
  },
  {
   "cell_type": "code",
   "execution_count": 33,
   "metadata": {
    "ExecuteTime": {
     "end_time": "2020-05-25T10:20:09.596149Z",
     "start_time": "2020-05-25T10:20:09.551413Z"
    }
   },
   "outputs": [],
   "source": [
    "import pickle\n",
    "with open('../../true_summary/intersect_list.pkl','wb') as file:\n",
    "    pickle.dump(intersect_hotel_list,file)"
   ]
  },
  {
   "cell_type": "markdown",
   "metadata": {},
   "source": [
    "### merge true summary and review"
   ]
  },
  {
   "cell_type": "code",
   "execution_count": 9,
   "metadata": {
    "ExecuteTime": {
     "end_time": "2020-05-26T02:11:34.559039Z",
     "start_time": "2020-05-26T02:11:33.874887Z"
    }
   },
   "outputs": [],
   "source": [
    "true_summary=pd.read_csv('../../true_summary/hotel_true_summs.csv',index_col=0)"
   ]
  },
  {
   "cell_type": "code",
   "execution_count": 15,
   "metadata": {
    "ExecuteTime": {
     "end_time": "2020-05-26T02:14:40.114604Z",
     "start_time": "2020-05-26T02:14:26.557823Z"
    }
   },
   "outputs": [
    {
     "name": "stderr",
     "output_type": "stream",
     "text": [
      "/opt/anaconda3/lib/python3.7/site-packages/numpy/lib/arraysetops.py:568: FutureWarning: elementwise comparison failed; returning scalar instead, but in the future will perform elementwise comparison\n",
      "  mask |= (ar1 == a)\n"
     ]
    }
   ],
   "source": [
    "review_df=pd.read_csv(os.path.join(dataset_path,'review.csv'),index_col=0)"
   ]
  },
  {
   "cell_type": "code",
   "execution_count": 24,
   "metadata": {
    "ExecuteTime": {
     "end_time": "2020-05-26T02:17:02.177054Z",
     "start_time": "2020-05-26T02:17:01.847321Z"
    }
   },
   "outputs": [
    {
     "data": {
      "text/html": [
       "<div>\n",
       "<style scoped>\n",
       "    .dataframe tbody tr th:only-of-type {\n",
       "        vertical-align: middle;\n",
       "    }\n",
       "\n",
       "    .dataframe tbody tr th {\n",
       "        vertical-align: top;\n",
       "    }\n",
       "\n",
       "    .dataframe thead th {\n",
       "        text-align: right;\n",
       "    }\n",
       "</style>\n",
       "<table border=\"1\" class=\"dataframe\">\n",
       "  <thead>\n",
       "    <tr style=\"text-align: right;\">\n",
       "      <th></th>\n",
       "      <th>hotel_url</th>\n",
       "      <th>text</th>\n",
       "      <th>rating</th>\n",
       "      <th>short_summary</th>\n",
       "      <th>long_summary</th>\n",
       "    </tr>\n",
       "  </thead>\n",
       "  <tbody>\n",
       "    <tr>\n",
       "      <td>0</td>\n",
       "      <td>hotel_review-g10006284-d1083311-reviews-the_re...</td>\n",
       "      <td>The staff is friendly and very service-oriente...</td>\n",
       "      <td>5.0</td>\n",
       "      <td>Excellent luxury hotel. Awesome rooms and serv...</td>\n",
       "      <td>Great pool.Beautiful beach.Great room.Friendly...</td>\n",
       "    </tr>\n",
       "    <tr>\n",
       "      <td>1</td>\n",
       "      <td>hotel_review-g10006284-d1083311-reviews-the_re...</td>\n",
       "      <td>We stayed at the Regent Grand for a week in Se...</td>\n",
       "      <td>5.0</td>\n",
       "      <td>Excellent luxury hotel. Awesome rooms and serv...</td>\n",
       "      <td>Great pool.Beautiful beach.Great room.Friendly...</td>\n",
       "    </tr>\n",
       "    <tr>\n",
       "      <td>2</td>\n",
       "      <td>hotel_review-g10006284-d1083311-reviews-the_re...</td>\n",
       "      <td>I took my young son over to Turks and Caicos, ...</td>\n",
       "      <td>5.0</td>\n",
       "      <td>Excellent luxury hotel. Awesome rooms and serv...</td>\n",
       "      <td>Great pool.Beautiful beach.Great room.Friendly...</td>\n",
       "    </tr>\n",
       "    <tr>\n",
       "      <td>3</td>\n",
       "      <td>hotel_review-g10006284-d1083311-reviews-the_re...</td>\n",
       "      <td>stayed here for a week in a 3-bedroom condo. A...</td>\n",
       "      <td>5.0</td>\n",
       "      <td>Excellent luxury hotel. Awesome rooms and serv...</td>\n",
       "      <td>Great pool.Beautiful beach.Great room.Friendly...</td>\n",
       "    </tr>\n",
       "    <tr>\n",
       "      <td>4</td>\n",
       "      <td>hotel_review-g10006284-d1083311-reviews-the_re...</td>\n",
       "      <td>This is not the best Hotel in turks and caicos...</td>\n",
       "      <td>4.0</td>\n",
       "      <td>Excellent luxury hotel. Awesome rooms and serv...</td>\n",
       "      <td>Great pool.Beautiful beach.Great room.Friendly...</td>\n",
       "    </tr>\n",
       "  </tbody>\n",
       "</table>\n",
       "</div>"
      ],
      "text/plain": [
       "                                           hotel_url  \\\n",
       "0  hotel_review-g10006284-d1083311-reviews-the_re...   \n",
       "1  hotel_review-g10006284-d1083311-reviews-the_re...   \n",
       "2  hotel_review-g10006284-d1083311-reviews-the_re...   \n",
       "3  hotel_review-g10006284-d1083311-reviews-the_re...   \n",
       "4  hotel_review-g10006284-d1083311-reviews-the_re...   \n",
       "\n",
       "                                                text  rating  \\\n",
       "0  The staff is friendly and very service-oriente...     5.0   \n",
       "1  We stayed at the Regent Grand for a week in Se...     5.0   \n",
       "2  I took my young son over to Turks and Caicos, ...     5.0   \n",
       "3  stayed here for a week in a 3-bedroom condo. A...     5.0   \n",
       "4  This is not the best Hotel in turks and caicos...     4.0   \n",
       "\n",
       "                                       short_summary  \\\n",
       "0  Excellent luxury hotel. Awesome rooms and serv...   \n",
       "1  Excellent luxury hotel. Awesome rooms and serv...   \n",
       "2  Excellent luxury hotel. Awesome rooms and serv...   \n",
       "3  Excellent luxury hotel. Awesome rooms and serv...   \n",
       "4  Excellent luxury hotel. Awesome rooms and serv...   \n",
       "\n",
       "                                        long_summary  \n",
       "0  Great pool.Beautiful beach.Great room.Friendly...  \n",
       "1  Great pool.Beautiful beach.Great room.Friendly...  \n",
       "2  Great pool.Beautiful beach.Great room.Friendly...  \n",
       "3  Great pool.Beautiful beach.Great room.Friendly...  \n",
       "4  Great pool.Beautiful beach.Great room.Friendly...  "
      ]
     },
     "execution_count": 24,
     "metadata": {},
     "output_type": "execute_result"
    }
   ],
   "source": [
    "pd.merge(review_df.head(),true_summary,on='hotel_url',how='inner')"
   ]
  },
  {
   "cell_type": "code",
   "execution_count": 25,
   "metadata": {
    "ExecuteTime": {
     "end_time": "2020-05-26T02:24:38.997110Z",
     "start_time": "2020-05-26T02:24:38.056395Z"
    }
   },
   "outputs": [
    {
     "name": "stderr",
     "output_type": "stream",
     "text": [
      "/opt/anaconda3/lib/python3.7/site-packages/numpy/lib/arraysetops.py:568: FutureWarning: elementwise comparison failed; returning scalar instead, but in the future will perform elementwise comparison\n",
      "  mask |= (ar1 == a)\n"
     ]
    }
   ],
   "source": [
    "business_df=pd.read_csv(os.path.join(dataset_path,'business.csv'),index_col=0)"
   ]
  },
  {
   "cell_type": "code",
   "execution_count": 31,
   "metadata": {
    "ExecuteTime": {
     "end_time": "2020-05-26T02:27:54.857931Z",
     "start_time": "2020-05-26T02:27:54.629049Z"
    }
   },
   "outputs": [],
   "source": [
    "business_df=business_df.drop_duplicates(['hotel_url']).reset_index(drop=True)"
   ]
  },
  {
   "cell_type": "code",
   "execution_count": 35,
   "metadata": {
    "ExecuteTime": {
     "end_time": "2020-05-26T02:30:03.643948Z",
     "start_time": "2020-05-26T02:30:03.581552Z"
    }
   },
   "outputs": [],
   "source": [
    "business_df=pd.merge(business_df,true_summary,on='hotel_url',how='inner')"
   ]
  },
  {
   "cell_type": "code",
   "execution_count": null,
   "metadata": {},
   "outputs": [],
   "source": []
  },
  {
   "cell_type": "code",
   "execution_count": 36,
   "metadata": {
    "ExecuteTime": {
     "end_time": "2020-05-26T02:30:06.950071Z",
     "start_time": "2020-05-26T02:30:06.471543Z"
    }
   },
   "outputs": [],
   "source": [
    "business_df.to_csv(os.path.join(dataset_path,'business.csv'))"
   ]
  }
 ],
 "metadata": {
  "kernelspec": {
   "display_name": "Python 3",
   "language": "python",
   "name": "python3"
  },
  "language_info": {
   "codemirror_mode": {
    "name": "ipython",
    "version": 3
   },
   "file_extension": ".py",
   "mimetype": "text/x-python",
   "name": "python",
   "nbconvert_exporter": "python",
   "pygments_lexer": "ipython3",
   "version": "3.7.4"
  }
 },
 "nbformat": 4,
 "nbformat_minor": 2
}
