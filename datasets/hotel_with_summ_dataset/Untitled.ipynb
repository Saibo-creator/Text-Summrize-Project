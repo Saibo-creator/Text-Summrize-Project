{
 "cells": [
  {
   "cell_type": "code",
   "execution_count": 1,
   "metadata": {
    "ExecuteTime": {
     "end_time": "2020-06-04T06:11:04.357267Z",
     "start_time": "2020-06-04T06:11:03.322763Z"
    }
   },
   "outputs": [],
   "source": [
    "import pandas as pd"
   ]
  },
  {
   "cell_type": "code",
   "execution_count": 2,
   "metadata": {
    "ExecuteTime": {
     "end_time": "2020-06-04T06:11:37.400015Z",
     "start_time": "2020-06-04T06:11:37.202449Z"
    }
   },
   "outputs": [],
   "source": [
    "summary=pd.read_json('./business.json')"
   ]
  },
  {
   "cell_type": "code",
   "execution_count": 12,
   "metadata": {
    "ExecuteTime": {
     "end_time": "2020-06-04T06:13:46.436245Z",
     "start_time": "2020-06-04T06:13:46.420563Z"
    }
   },
   "outputs": [],
   "source": [
    "summary.dropna(inplace=True)"
   ]
  },
  {
   "cell_type": "code",
   "execution_count": 14,
   "metadata": {
    "ExecuteTime": {
     "end_time": "2020-06-04T06:13:58.788122Z",
     "start_time": "2020-06-04T06:13:58.774789Z"
    }
   },
   "outputs": [],
   "source": [
    "summary['short_summary_length']=summary['short_summary'].apply(len)"
   ]
  },
  {
   "cell_type": "code",
   "execution_count": 17,
   "metadata": {
    "ExecuteTime": {
     "end_time": "2020-06-04T06:14:16.811162Z",
     "start_time": "2020-06-04T06:14:16.798564Z"
    }
   },
   "outputs": [
    {
     "data": {
      "text/plain": [
       "count    25086.000000\n",
       "mean        82.998565\n",
       "std         27.574031\n",
       "min         11.000000\n",
       "25%         64.000000\n",
       "50%         82.000000\n",
       "75%        101.000000\n",
       "max        189.000000\n",
       "Name: short_summary_length, dtype: float64"
      ]
     },
     "execution_count": 17,
     "metadata": {},
     "output_type": "execute_result"
    }
   ],
   "source": [
    "summary['short_summary_length'].describe()"
   ]
  },
  {
   "cell_type": "code",
   "execution_count": 38,
   "metadata": {
    "ExecuteTime": {
     "end_time": "2020-06-04T06:44:11.711281Z",
     "start_time": "2020-06-04T06:44:11.706397Z"
    }
   },
   "outputs": [
    {
     "data": {
      "text/plain": [
       "'Excellent beach hotel. Close to the beach . Great rooms and fantastic service. Beautiful beach.'"
      ]
     },
     "execution_count": 38,
     "metadata": {},
     "output_type": "execute_result"
    }
   ],
   "source": [
    "summary['short_summary'].iloc[5]"
   ]
  },
  {
   "cell_type": "code",
   "execution_count": 25,
   "metadata": {
    "ExecuteTime": {
     "end_time": "2020-06-04T06:37:47.866067Z",
     "start_time": "2020-06-04T06:37:47.766992Z"
    }
   },
   "outputs": [],
   "source": [
    "summary['long_summary_length']=summary['long_summary'].apply(len)"
   ]
  },
  {
   "cell_type": "code",
   "execution_count": 26,
   "metadata": {
    "ExecuteTime": {
     "end_time": "2020-06-04T06:37:55.111251Z",
     "start_time": "2020-06-04T06:37:55.097350Z"
    }
   },
   "outputs": [
    {
     "data": {
      "text/plain": [
       "count    25086.000000\n",
       "mean       663.505421\n",
       "std        315.339512\n",
       "min         11.000000\n",
       "25%        439.000000\n",
       "50%        629.000000\n",
       "75%        857.000000\n",
       "max       2066.000000\n",
       "Name: long_summary_length, dtype: float64"
      ]
     },
     "execution_count": 26,
     "metadata": {},
     "output_type": "execute_result"
    }
   ],
   "source": [
    "summary['long_summary_length'].describe()"
   ]
  },
  {
   "cell_type": "code",
   "execution_count": null,
   "metadata": {},
   "outputs": [],
   "source": []
  },
  {
   "cell_type": "code",
   "execution_count": 19,
   "metadata": {
    "ExecuteTime": {
     "end_time": "2020-06-04T06:21:28.699086Z",
     "start_time": "2020-06-04T06:20:45.845269Z"
    }
   },
   "outputs": [],
   "source": [
    "business=pd.read_json('../hotel_dataset/business.json')"
   ]
  },
  {
   "cell_type": "code",
   "execution_count": 21,
   "metadata": {
    "ExecuteTime": {
     "end_time": "2020-06-04T06:21:45.406972Z",
     "start_time": "2020-06-04T06:21:45.067234Z"
    }
   },
   "outputs": [
    {
     "data": {
      "text/plain": [
       "38903"
      ]
     },
     "execution_count": 21,
     "metadata": {},
     "output_type": "execute_result"
    }
   ],
   "source": [
    "len(business['hotel_url'].unique())"
   ]
  },
  {
   "cell_type": "code",
   "execution_count": 23,
   "metadata": {
    "ExecuteTime": {
     "end_time": "2020-06-04T06:33:51.911399Z",
     "start_time": "2020-06-04T06:33:48.799803Z"
    }
   },
   "outputs": [],
   "source": []
  },
  {
   "cell_type": "code",
   "execution_count": 24,
   "metadata": {
    "ExecuteTime": {
     "end_time": "2020-06-04T06:34:11.093464Z",
     "start_time": "2020-06-04T06:34:11.016558Z"
    }
   },
   "outputs": [
    {
     "data": {
      "text/plain": [
       "count    2.222373e+06\n",
       "mean     8.392148e+02\n",
       "std      7.854601e+02\n",
       "min      9.000000e+00\n",
       "25%      3.800000e+02\n",
       "50%      6.140000e+02\n",
       "75%      1.015000e+03\n",
       "max      6.334300e+04\n",
       "Name: text_length, dtype: float64"
      ]
     },
     "execution_count": 24,
     "metadata": {},
     "output_type": "execute_result"
    }
   ],
   "source": [
    "business['text_length'].describe()"
   ]
  },
  {
   "cell_type": "code",
   "execution_count": 27,
   "metadata": {
    "ExecuteTime": {
     "end_time": "2020-06-04T06:39:17.521482Z",
     "start_time": "2020-06-04T06:38:52.620181Z"
    }
   },
   "outputs": [],
   "source": [
    "review=pd.read_json('./review.json')"
   ]
  },
  {
   "cell_type": "code",
   "execution_count": 29,
   "metadata": {
    "ExecuteTime": {
     "end_time": "2020-06-04T06:41:01.069540Z",
     "start_time": "2020-06-04T06:41:00.522065Z"
    }
   },
   "outputs": [],
   "source": [
    "review['text_length']=review['text'].apply(len)"
   ]
  },
  {
   "cell_type": "code",
   "execution_count": 30,
   "metadata": {
    "ExecuteTime": {
     "end_time": "2020-06-04T06:41:15.563066Z",
     "start_time": "2020-06-04T06:41:15.496424Z"
    }
   },
   "outputs": [
    {
     "data": {
      "text/plain": [
       "count    1.524907e+06\n",
       "mean     8.512501e+02\n",
       "std      8.010024e+02\n",
       "min      1.400000e+01\n",
       "25%      3.830000e+02\n",
       "50%      6.210000e+02\n",
       "75%      1.029000e+03\n",
       "max      3.511900e+04\n",
       "Name: text_length, dtype: float64"
      ]
     },
     "execution_count": 30,
     "metadata": {},
     "output_type": "execute_result"
    }
   ],
   "source": [
    "review['text_length'].describe()"
   ]
  },
  {
   "cell_type": "code",
   "execution_count": null,
   "metadata": {},
   "outputs": [],
   "source": []
  }
 ],
 "metadata": {
  "kernelspec": {
   "display_name": "Python 3",
   "language": "python",
   "name": "python3"
  },
  "language_info": {
   "codemirror_mode": {
    "name": "ipython",
    "version": 3
   },
   "file_extension": ".py",
   "mimetype": "text/x-python",
   "name": "python",
   "nbconvert_exporter": "python",
   "pygments_lexer": "ipython3",
   "version": "3.7.4"
  }
 },
 "nbformat": 4,
 "nbformat_minor": 2
}
