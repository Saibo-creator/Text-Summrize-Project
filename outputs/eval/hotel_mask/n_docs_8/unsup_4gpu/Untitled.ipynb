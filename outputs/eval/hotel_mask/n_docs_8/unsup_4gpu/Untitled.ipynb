{
 "cells": [
  {
   "cell_type": "code",
   "execution_count": 1,
   "metadata": {
    "ExecuteTime": {
     "end_time": "2020-04-28T07:49:16.868424Z",
     "start_time": "2020-04-28T07:49:15.993226Z"
    }
   },
   "outputs": [],
   "source": [
    "import pandas as pd"
   ]
  },
  {
   "cell_type": "code",
   "execution_count": 5,
   "metadata": {
    "ExecuteTime": {
     "end_time": "2020-04-28T08:18:34.411238Z",
     "start_time": "2020-04-28T08:18:33.201679Z"
    }
   },
   "outputs": [],
   "source": [
    "summaries=pd.read_json('./summaries.json')[['docs','summary']]"
   ]
  },
  {
   "cell_type": "code",
   "execution_count": 7,
   "metadata": {
    "ExecuteTime": {
     "end_time": "2020-04-28T08:18:53.832518Z",
     "start_time": "2020-04-28T08:18:53.825312Z"
    }
   },
   "outputs": [
    {
     "data": {
      "text/plain": [
       "\"i have stayed at the hotel before and it was a lovely experience .it is a very old hotel but the rooms are a little dated and could do with a bit of a facelift .the staff were all very helpful and friendly , nothing was too much trouble .we did n't use the restaurant but the food was good value for money .\""
      ]
     },
     "execution_count": 7,
     "metadata": {},
     "output_type": "execute_result"
    }
   ],
   "source": [
    "summaries['summary'][0]"
   ]
  },
  {
   "cell_type": "code",
   "execution_count": 8,
   "metadata": {
    "ExecuteTime": {
     "end_time": "2020-04-28T08:19:00.432847Z",
     "start_time": "2020-04-28T08:19:00.428077Z"
    }
   },
   "outputs": [
    {
     "data": {
      "text/plain": [
       "\", i chose dudsbury golf club hotel on the basis of other customer reviews and it was brilliant !booking was really easy and nicely done .reception was really helpful .the hotel itself was really nice and extremely reasonable .both dinner and breakfast were good , for the price .the only niggles for me were the electronically - enhanced ' pianist ' at dinner who was too loud and not great and the length of time it took to get cooked breakfast ...has an excellently equipped fitness centre too ( though as a keen oarsman i personally prefer concept2 rowing machines ! )and they were good enough to let me in before the official opening time . </DOC> i stayed here for a single night on business , as others said a great location and plenty of facilities such as a good looking swimming pool which i did n't have time to try .my room was fine if a little basic .my was really nice , though i found the entertainment a little strange , a reasonably elderly couple single classic songs and the lady kept on wanting to make eye contact !the staff were on the whole good and while i do n't play golf the grounds were well kept and with good views . </DOC> the staff are so friendly and helpful it is really pleasant as a lone female traveller to be looked after so well .there is food in the bar or restaurant in the evening or room service if you do n't want to sit on your own .breakfast is good ( except the assuages which are not great )they also have smoked haddock & poached egg as an option . </DOC> there is no welcome feeling when arriving .all very efficient but no warmth .the rooms are very small , in fact there is abut 2 feet space on each side and end of the bed .the bathroom is even worse , so little room not enough space to put a toilet roll holder on the wall .the breakfast is served in the golf club bar , the cooked breakfast was good but the rest was very poor .no fruit or cold meats , cheese or any of the things one would expect when you are paying £ 130/150 per night . </DOC> breakfast was good , and very helpfully the welcoming staff made some sandwiches for us when we arrived as we were late and the kitchen had closed . </DOC> we stayed for a saturday night as we had planned to play golf .it is a relaxing place , clean and well maintained .the hotel rooms are ok but the decor is bit tired and there is a strange random mix of artwork everywhere so the overall impression is a rather low end , budget hotel and not somewhere that i would choose for a spa treat .for a golf break it is comfortable and functional and we had an excellent and good value meal in the bar .the staff were all very friendly and breakfast was good also . </DOC> we guys had an enjoyable round of golf on what was a lovely course and very challenging for mediocre players like ourselves .course in lovely condition .our wives had a spa treatment which was very reasonably priced and which they both enjoyed . </DOC> it is a wonderful hotel with a restaurant us a bar which serves a huge selection of ad sortable dishes .\""
      ]
     },
     "execution_count": 8,
     "metadata": {},
     "output_type": "execute_result"
    }
   ],
   "source": [
    "summaries['docs'][0]"
   ]
  },
  {
   "cell_type": "code",
   "execution_count": null,
   "metadata": {},
   "outputs": [],
   "source": []
  }
 ],
 "metadata": {
  "kernelspec": {
   "display_name": "Python 3",
   "language": "python",
   "name": "python3"
  },
  "language_info": {
   "codemirror_mode": {
    "name": "ipython",
    "version": 3
   },
   "file_extension": ".py",
   "mimetype": "text/x-python",
   "name": "python",
   "nbconvert_exporter": "python",
   "pygments_lexer": "ipython3",
   "version": "3.7.4"
  }
 },
 "nbformat": 4,
 "nbformat_minor": 2
}
