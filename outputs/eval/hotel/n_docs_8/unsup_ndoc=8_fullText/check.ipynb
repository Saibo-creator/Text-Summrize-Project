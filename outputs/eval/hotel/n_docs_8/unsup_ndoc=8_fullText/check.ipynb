{
 "cells": [
  {
   "cell_type": "code",
   "execution_count": 2,
   "metadata": {
    "ExecuteTime": {
     "end_time": "2020-03-25T13:49:24.935383Z",
     "start_time": "2020-03-25T13:49:23.484352Z"
    }
   },
   "outputs": [],
   "source": [
    "import pandas as pd"
   ]
  },
  {
   "cell_type": "code",
   "execution_count": 20,
   "metadata": {
    "ExecuteTime": {
     "end_time": "2020-03-25T14:10:25.331320Z",
     "start_time": "2020-03-25T14:10:25.077812Z"
    }
   },
   "outputs": [],
   "source": [
    "hotel_summary=pd.read_json('./summaries.json')"
   ]
  },
  {
   "cell_type": "code",
   "execution_count": 21,
   "metadata": {
    "ExecuteTime": {
     "end_time": "2020-03-25T14:10:25.857235Z",
     "start_time": "2020-03-25T14:10:25.844835Z"
    }
   },
   "outputs": [
    {
     "data": {
      "text/plain": [
       "374.1495688373476"
      ]
     },
     "execution_count": 21,
     "metadata": {},
     "output_type": "execute_result"
    }
   ],
   "source": [
    "hotel_summary['summary'].apply(len).mean()"
   ]
  },
  {
   "cell_type": "code",
   "execution_count": 18,
   "metadata": {
    "ExecuteTime": {
     "end_time": "2020-03-25T14:09:37.105158Z",
     "start_time": "2020-03-25T14:09:36.261380Z"
    }
   },
   "outputs": [],
   "source": [
    "hotel_mask_summary=pd.read_json('../../../hotel_mask/n_docs_8/unsup_hotel_mask/summaries.json')"
   ]
  },
  {
   "cell_type": "code",
   "execution_count": 19,
   "metadata": {
    "ExecuteTime": {
     "end_time": "2020-03-25T14:09:48.415743Z",
     "start_time": "2020-03-25T14:09:48.403739Z"
    },
    "scrolled": true
   },
   "outputs": [
    {
     "data": {
      "text/plain": [
       "268.2600364459661"
      ]
     },
     "execution_count": 19,
     "metadata": {},
     "output_type": "execute_result"
    }
   ],
   "source": [
    "hotel_mask_summary['summary'].apply(len).mean()"
   ]
  },
  {
   "cell_type": "code",
   "execution_count": 53,
   "metadata": {
    "ExecuteTime": {
     "end_time": "2020-03-25T14:59:56.913589Z",
     "start_time": "2020-03-25T14:59:56.898248Z"
    }
   },
   "outputs": [
    {
     "name": "stdout",
     "output_type": "stream",
     "text": [
      "10.0%\n"
     ]
    }
   ],
   "source": [
    "print('{0:4.3}%'.format(100*hotel_summary['summary'].apply(len).mean()/hotel_summary['docs'].apply(len).mean()))"
   ]
  },
  {
   "cell_type": "code",
   "execution_count": 54,
   "metadata": {
    "ExecuteTime": {
     "end_time": "2020-03-25T15:00:10.181917Z",
     "start_time": "2020-03-25T15:00:10.080718Z"
    }
   },
   "outputs": [
    {
     "name": "stdout",
     "output_type": "stream",
     "text": [
      "7.61%\n"
     ]
    }
   ],
   "source": [
    "print('{0:4.3}%'.format(100*hotel_mask_summary['summary'].apply(len).mean()/hotel_mask_summary['docs'].apply(len).mean()))"
   ]
  },
  {
   "cell_type": "code",
   "execution_count": null,
   "metadata": {},
   "outputs": [],
   "source": []
  }
 ],
 "metadata": {
  "kernelspec": {
   "display_name": "Python 3",
   "language": "python",
   "name": "python3"
  },
  "language_info": {
   "codemirror_mode": {
    "name": "ipython",
    "version": 3
   },
   "file_extension": ".py",
   "mimetype": "text/x-python",
   "name": "python",
   "nbconvert_exporter": "python",
   "pygments_lexer": "ipython3",
   "version": "3.7.4"
  }
 },
 "nbformat": 4,
 "nbformat_minor": 2
}
