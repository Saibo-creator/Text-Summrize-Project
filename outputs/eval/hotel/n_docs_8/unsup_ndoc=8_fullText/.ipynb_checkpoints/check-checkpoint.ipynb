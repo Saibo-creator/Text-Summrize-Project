{
 "cells": [
  {
   "cell_type": "code",
   "execution_count": 2,
   "metadata": {
    "ExecuteTime": {
     "end_time": "2020-03-25T13:49:24.935383Z",
     "start_time": "2020-03-25T13:49:23.484352Z"
    }
   },
   "outputs": [],
   "source": [
    "import pandas as pd"
   ]
  },
  {
   "cell_type": "code",
   "execution_count": 3,
   "metadata": {
    "ExecuteTime": {
     "end_time": "2020-03-25T13:49:25.889798Z",
     "start_time": "2020-03-25T13:49:25.468714Z"
    }
   },
   "outputs": [],
   "source": [
    "summaries=pd.read_json('./summaries.json')"
   ]
  },
  {
   "cell_type": "code",
   "execution_count": 10,
   "metadata": {
    "ExecuteTime": {
     "end_time": "2020-03-25T13:50:50.377009Z",
     "start_time": "2020-03-25T13:50:50.017845Z"
    }
   },
   "outputs": [],
   "source": [
    "reviews=summaries[['docs']]\n",
    "Summaries =summaries[['summary']].apply(len)"
   ]
  },
  {
   "cell_type": "code",
   "execution_count": 17,
   "metadata": {
    "ExecuteTime": {
     "end_time": "2020-03-25T14:08:34.315774Z",
     "start_time": "2020-03-25T14:08:34.291571Z"
    }
   },
   "outputs": [
    {
     "data": {
      "text/plain": [
       "374.1495688373476"
      ]
     },
     "execution_count": 17,
     "metadata": {},
     "output_type": "execute_result"
    }
   ],
   "source": [
    "summaries['summary'].apply(len).mean()"
   ]
  },
  {
   "cell_type": "code",
   "execution_count": null,
   "metadata": {},
   "outputs": [],
   "source": []
  },
  {
   "cell_type": "code",
   "execution_count": null,
   "metadata": {},
   "outputs": [],
   "source": []
  },
  {
   "cell_type": "code",
   "execution_count": 21,
   "metadata": {
    "ExecuteTime": {
     "end_time": "2020-03-12T15:24:52.294321Z",
     "start_time": "2020-03-12T15:24:52.278035Z"
    }
   },
   "outputs": [],
   "source": [
    "reviews.to_csv(\"./reviews_first_100.csv\")"
   ]
  },
  {
   "cell_type": "code",
   "execution_count": 4,
   "metadata": {
    "ExecuteTime": {
     "end_time": "2020-03-25T13:49:40.567481Z",
     "start_time": "2020-03-25T13:49:40.470380Z"
    }
   },
   "outputs": [
    {
     "data": {
      "text/html": [
       "<div>\n",
       "<style scoped>\n",
       "    .dataframe tbody tr th:only-of-type {\n",
       "        vertical-align: middle;\n",
       "    }\n",
       "\n",
       "    .dataframe tbody tr th {\n",
       "        vertical-align: top;\n",
       "    }\n",
       "\n",
       "    .dataframe thead th {\n",
       "        text-align: right;\n",
       "    }\n",
       "</style>\n",
       "<table border=\"1\" class=\"dataframe\">\n",
       "  <thead>\n",
       "    <tr style=\"text-align: right;\">\n",
       "      <th></th>\n",
       "      <th>docs</th>\n",
       "      <th>pred_prob</th>\n",
       "      <th>pred_rating</th>\n",
       "      <th>rating</th>\n",
       "      <th>summary</th>\n",
       "    </tr>\n",
       "  </thead>\n",
       "  <tbody>\n",
       "    <tr>\n",
       "      <td>0</td>\n",
       "      <td>We had a one night stay at the Roxbro House wi...</td>\n",
       "      <td>0.659788</td>\n",
       "      <td>4</td>\n",
       "      <td>5</td>\n",
       "      <td>We travelled the whole of a few days in Istanb...</td>\n",
       "    </tr>\n",
       "    <tr>\n",
       "      <td>1</td>\n",
       "      <td>The location is at the top of the hill in Wark...</td>\n",
       "      <td>0.663309</td>\n",
       "      <td>4</td>\n",
       "      <td>5</td>\n",
       "      <td>The location of this hotel is a little difficu...</td>\n",
       "    </tr>\n",
       "    <tr>\n",
       "      <td>2</td>\n",
       "      <td>This was a great hotel. The room and bathroom ...</td>\n",
       "      <td>0.564875</td>\n",
       "      <td>4</td>\n",
       "      <td>4</td>\n",
       "      <td>I was in the area for a business trip to Seoul...</td>\n",
       "    </tr>\n",
       "    <tr>\n",
       "      <td>3</td>\n",
       "      <td>Located on a business park ,the hotel is close...</td>\n",
       "      <td>0.947388</td>\n",
       "      <td>4</td>\n",
       "      <td>4</td>\n",
       "      <td>Threading is a good hotel for the money. Staff...</td>\n",
       "    </tr>\n",
       "    <tr>\n",
       "      <td>4</td>\n",
       "      <td>Good location by car. A rich and exceptionally...</td>\n",
       "      <td>0.582758</td>\n",
       "      <td>4</td>\n",
       "      <td>4</td>\n",
       "      <td>Threading is a good hotel, the staff were very...</td>\n",
       "    </tr>\n",
       "    <tr>\n",
       "      <td>...</td>\n",
       "      <td>...</td>\n",
       "      <td>...</td>\n",
       "      <td>...</td>\n",
       "      <td>...</td>\n",
       "      <td>...</td>\n",
       "    </tr>\n",
       "    <tr>\n",
       "      <td>13447</td>\n",
       "      <td>we stayed for a weekend trip, wellness area wi...</td>\n",
       "      <td>0.769530</td>\n",
       "      <td>4</td>\n",
       "      <td>5</td>\n",
       "      <td>I booked this hotel as part of a tour group of...</td>\n",
       "    </tr>\n",
       "    <tr>\n",
       "      <td>13448</td>\n",
       "      <td>We visited as part of a birthday celebration a...</td>\n",
       "      <td>0.883327</td>\n",
       "      <td>4</td>\n",
       "      <td>5</td>\n",
       "      <td>We spent two nights here and had the best meal...</td>\n",
       "    </tr>\n",
       "    <tr>\n",
       "      <td>13449</td>\n",
       "      <td>The rooms were a disappointment and very basic...</td>\n",
       "      <td>0.701371</td>\n",
       "      <td>4</td>\n",
       "      <td>4</td>\n",
       "      <td>We booked a 3 night stay in the Hotel and it w...</td>\n",
       "    </tr>\n",
       "    <tr>\n",
       "      <td>13450</td>\n",
       "      <td>Had a business lunch here. The choice in the m...</td>\n",
       "      <td>0.588140</td>\n",
       "      <td>5</td>\n",
       "      <td>4</td>\n",
       "      <td>We originally booked this hotel for a short br...</td>\n",
       "    </tr>\n",
       "    <tr>\n",
       "      <td>13451</td>\n",
       "      <td>We have stayed in the Clive for a number of ye...</td>\n",
       "      <td>0.893020</td>\n",
       "      <td>4</td>\n",
       "      <td>4</td>\n",
       "      <td>We originally enjoyed our 3 night stay at the ...</td>\n",
       "    </tr>\n",
       "  </tbody>\n",
       "</table>\n",
       "<p>13452 rows × 5 columns</p>\n",
       "</div>"
      ],
      "text/plain": [
       "                                                    docs  pred_prob  \\\n",
       "0      We had a one night stay at the Roxbro House wi...   0.659788   \n",
       "1      The location is at the top of the hill in Wark...   0.663309   \n",
       "2      This was a great hotel. The room and bathroom ...   0.564875   \n",
       "3      Located on a business park ,the hotel is close...   0.947388   \n",
       "4      Good location by car. A rich and exceptionally...   0.582758   \n",
       "...                                                  ...        ...   \n",
       "13447  we stayed for a weekend trip, wellness area wi...   0.769530   \n",
       "13448  We visited as part of a birthday celebration a...   0.883327   \n",
       "13449  The rooms were a disappointment and very basic...   0.701371   \n",
       "13450  Had a business lunch here. The choice in the m...   0.588140   \n",
       "13451  We have stayed in the Clive for a number of ye...   0.893020   \n",
       "\n",
       "       pred_rating  rating                                            summary  \n",
       "0                4       5  We travelled the whole of a few days in Istanb...  \n",
       "1                4       5  The location of this hotel is a little difficu...  \n",
       "2                4       4  I was in the area for a business trip to Seoul...  \n",
       "3                4       4  Threading is a good hotel for the money. Staff...  \n",
       "4                4       4  Threading is a good hotel, the staff were very...  \n",
       "...            ...     ...                                                ...  \n",
       "13447            4       5  I booked this hotel as part of a tour group of...  \n",
       "13448            4       5  We spent two nights here and had the best meal...  \n",
       "13449            4       4  We booked a 3 night stay in the Hotel and it w...  \n",
       "13450            5       4  We originally booked this hotel for a short br...  \n",
       "13451            4       4  We originally enjoyed our 3 night stay at the ...  \n",
       "\n",
       "[13452 rows x 5 columns]"
      ]
     },
     "execution_count": 4,
     "metadata": {},
     "output_type": "execute_result"
    }
   ],
   "source": []
  },
  {
   "cell_type": "code",
   "execution_count": null,
   "metadata": {},
   "outputs": [],
   "source": []
  }
 ],
 "metadata": {
  "kernelspec": {
   "display_name": "Python 3",
   "language": "python",
   "name": "python3"
  },
  "language_info": {
   "codemirror_mode": {
    "name": "ipython",
    "version": 3
   },
   "file_extension": ".py",
   "mimetype": "text/x-python",
   "name": "python",
   "nbconvert_exporter": "python",
   "pygments_lexer": "ipython3",
   "version": "3.7.4"
  }
 },
 "nbformat": 4,
 "nbformat_minor": 2
}
